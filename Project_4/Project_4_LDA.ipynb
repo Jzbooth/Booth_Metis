{
 "cells": [
  {
   "cell_type": "code",
   "execution_count": 43,
   "metadata": {
    "collapsed": true
   },
   "outputs": [],
   "source": [
    "import pickle\n",
    "# gensim\n",
    "from gensim import corpora, models, similarities, matutils\n",
    "# sklearn\n",
    "from sklearn import datasets\n",
    "from sklearn.feature_extraction.text import CountVectorizer\n",
    "from sklearn.cluster import KMeans\n",
    "# logging for gensim (set to INFO)\n",
    "from nltk.corpus import stopwords\n",
    "import logging\n",
    "logging.basicConfig(format='%(asctime)s : %(levelname)s : %(message)s', level=logging.INFO)"
   ]
  },
  {
   "cell_type": "code",
   "execution_count": 3,
   "metadata": {
    "collapsed": true
   },
   "outputs": [],
   "source": [
    "with open(\"zillow_df.pkl\", 'rb') as picklefile: \n",
    "    df = pickle.load(picklefile)"
   ]
  },
  {
   "cell_type": "code",
   "execution_count": 4,
   "metadata": {},
   "outputs": [
    {
     "data": {
      "text/html": [
       "<div>\n",
       "<style>\n",
       "    .dataframe thead tr:only-child th {\n",
       "        text-align: right;\n",
       "    }\n",
       "\n",
       "    .dataframe thead th {\n",
       "        text-align: left;\n",
       "    }\n",
       "\n",
       "    .dataframe tbody tr th {\n",
       "        vertical-align: top;\n",
       "    }\n",
       "</style>\n",
       "<table border=\"1\" class=\"dataframe\">\n",
       "  <thead>\n",
       "    <tr style=\"text-align: right;\">\n",
       "      <th></th>\n",
       "      <th>address</th>\n",
       "      <th>city</th>\n",
       "      <th>state</th>\n",
       "      <th>zip</th>\n",
       "      <th>price</th>\n",
       "      <th>sqft</th>\n",
       "      <th>bedrooms</th>\n",
       "      <th>bathrooms</th>\n",
       "      <th>days_on_zillow</th>\n",
       "      <th>sale_type</th>\n",
       "      <th>url</th>\n",
       "      <th>description</th>\n",
       "    </tr>\n",
       "  </thead>\n",
       "  <tbody>\n",
       "    <tr>\n",
       "      <th>0</th>\n",
       "      <td>20014 59th Ave SE</td>\n",
       "      <td>Snohomish</td>\n",
       "      <td>WA</td>\n",
       "      <td>98296</td>\n",
       "      <td>1868000</td>\n",
       "      <td>7359</td>\n",
       "      <td>4</td>\n",
       "      <td>6</td>\n",
       "      <td>NA</td>\n",
       "      <td>House For Sale</td>\n",
       "      <td>http://www.zillow.com/homes/for_sale//homedeta...</td>\n",
       "      <td>Walk-through Video: www.seetheproperty.com/250...</td>\n",
       "    </tr>\n",
       "    <tr>\n",
       "      <th>1</th>\n",
       "      <td>13506 70th Dr SE</td>\n",
       "      <td>Snohomish</td>\n",
       "      <td>WA</td>\n",
       "      <td>98296</td>\n",
       "      <td>674950</td>\n",
       "      <td>2957</td>\n",
       "      <td>4</td>\n",
       "      <td>3</td>\n",
       "      <td>3</td>\n",
       "      <td>House For Sale</td>\n",
       "      <td>http://www.zillow.com/homes/for_sale//homedeta...</td>\n",
       "      <td>Wonderful Highlands East home that has been up...</td>\n",
       "    </tr>\n",
       "    <tr>\n",
       "      <th>2</th>\n",
       "      <td>14313 214th St SE</td>\n",
       "      <td>Snohomish</td>\n",
       "      <td>WA</td>\n",
       "      <td>98296</td>\n",
       "      <td>546000</td>\n",
       "      <td>2237</td>\n",
       "      <td>3</td>\n",
       "      <td>3</td>\n",
       "      <td>6</td>\n",
       "      <td>Auction</td>\n",
       "      <td>http://www.zillow.com/homes/for_sale//homedeta...</td>\n",
       "      <td>Investor opportunity! This property is being o...</td>\n",
       "    </tr>\n",
       "    <tr>\n",
       "      <th>3</th>\n",
       "      <td>11621 60th Ave SE</td>\n",
       "      <td>Snohomish</td>\n",
       "      <td>WA</td>\n",
       "      <td>98296</td>\n",
       "      <td>489950</td>\n",
       "      <td>2213</td>\n",
       "      <td>4</td>\n",
       "      <td>3</td>\n",
       "      <td>4</td>\n",
       "      <td>House For Sale</td>\n",
       "      <td>http://www.zillow.com/homes/for_sale//homedeta...</td>\n",
       "      <td>Newer 4 br, 2.5 bths 2-story backs to greenbel...</td>\n",
       "    </tr>\n",
       "    <tr>\n",
       "      <th>4</th>\n",
       "      <td>13325 81st Ave SE</td>\n",
       "      <td>Snohomish</td>\n",
       "      <td>WA</td>\n",
       "      <td>98296</td>\n",
       "      <td>720000</td>\n",
       "      <td>3091</td>\n",
       "      <td>4</td>\n",
       "      <td>3</td>\n",
       "      <td>12</td>\n",
       "      <td>House For Sale</td>\n",
       "      <td>http://www.zillow.com/homes/for_sale//homedeta...</td>\n",
       "      <td>Beautiful Murray Franklin re-sale in the desir...</td>\n",
       "    </tr>\n",
       "  </tbody>\n",
       "</table>\n",
       "</div>"
      ],
      "text/plain": [
       "             address       city state    zip    price  sqft bedrooms  \\\n",
       "0  20014 59th Ave SE  Snohomish    WA  98296  1868000  7359        4   \n",
       "1   13506 70th Dr SE  Snohomish    WA  98296   674950  2957        4   \n",
       "2  14313 214th St SE  Snohomish    WA  98296   546000  2237        3   \n",
       "3  11621 60th Ave SE  Snohomish    WA  98296   489950  2213        4   \n",
       "4  13325 81st Ave SE  Snohomish    WA  98296   720000  3091        4   \n",
       "\n",
       "  bathrooms days_on_zillow       sale_type  \\\n",
       "0         6             NA  House For Sale   \n",
       "1         3              3  House For Sale   \n",
       "2         3              6         Auction   \n",
       "3         3              4  House For Sale   \n",
       "4         3             12  House For Sale   \n",
       "\n",
       "                                                 url  \\\n",
       "0  http://www.zillow.com/homes/for_sale//homedeta...   \n",
       "1  http://www.zillow.com/homes/for_sale//homedeta...   \n",
       "2  http://www.zillow.com/homes/for_sale//homedeta...   \n",
       "3  http://www.zillow.com/homes/for_sale//homedeta...   \n",
       "4  http://www.zillow.com/homes/for_sale//homedeta...   \n",
       "\n",
       "                                         description  \n",
       "0  Walk-through Video: www.seetheproperty.com/250...  \n",
       "1  Wonderful Highlands East home that has been up...  \n",
       "2  Investor opportunity! This property is being o...  \n",
       "3  Newer 4 br, 2.5 bths 2-story backs to greenbel...  \n",
       "4  Beautiful Murray Franklin re-sale in the desir...  "
      ]
     },
     "execution_count": 4,
     "metadata": {},
     "output_type": "execute_result"
    }
   ],
   "source": [
    "df.head()"
   ]
  },
  {
   "cell_type": "code",
   "execution_count": 5,
   "metadata": {
    "collapsed": true
   },
   "outputs": [],
   "source": [
    "desc = df['description']"
   ]
  },
  {
   "cell_type": "code",
   "execution_count": 8,
   "metadata": {},
   "outputs": [
    {
     "data": {
      "text/plain": [
       "\"Walk-through Video: www.seetheproperty.com/250910    Just a hop over the border to Snohomish County, but still in Northshore School District! A meandering driveway is the grand approach to this superbly-built 5832 sq ft home with 1527 sq ft guest house/apartment, that will make every covered porch-lovers heart skip a beat. Enjoy country living with elegance and charm, in a pastoral setting. A stroll around the shy 5-acre parcel reveals surprises, too, including an outdoor fireplace, sport court, and a barn equipped with chandeliers, perfect for a large gathering or for your mini-farm. The main home has 4 bedrooms + bonus + a finished room with closet (alternate bedroom). The apartment has 3 finished rooms that can be used as bedrooms. There's also a basement level workout room and storage roomExcellent for VRBO, Airbnb or potential retreat/event center.Convenient location is close to Woodinville, Canyon Park and Seattle.Just a few minutes to Costco and Woodinville's Brightwater Park, and the 65-acre Maltby Area Community Park, under development. …\\xa0 More\\xa0Less\\xa0What I love about the homeQuality construction, great floor plan, fabulous porches and deck space, apartment over garage makes for two homes on the same parcel, quiet and walkable neighborhood, close to Woodinville and Seattle. Lavish and quality while also being comfortable and inviting.\""
      ]
     },
     "execution_count": 8,
     "metadata": {},
     "output_type": "execute_result"
    }
   ],
   "source": [
    "desc[0]"
   ]
  },
  {
   "cell_type": "code",
   "execution_count": 9,
   "metadata": {},
   "outputs": [
    {
     "data": {
      "text/plain": [
       "CountVectorizer(analyzer='word', binary=False, decode_error='strict',\n",
       "        dtype=<class 'numpy.int64'>, encoding='utf-8', input='content',\n",
       "        lowercase=True, max_df=1.0, max_features=None, min_df=1,\n",
       "        ngram_range=(1, 2), preprocessor=None, stop_words='english',\n",
       "        strip_accents=None, token_pattern='\\\\b[a-z][a-z]+\\\\b',\n",
       "        tokenizer=None, vocabulary=None)"
      ]
     },
     "execution_count": 9,
     "metadata": {},
     "output_type": "execute_result"
    }
   ],
   "source": [
    "# Create a CountVectorizer for parsing/counting words\n",
    "count_vectorizer = CountVectorizer(ngram_range=(1, 2),  \n",
    "                                   stop_words='english', token_pattern=\"\\\\b[a-z][a-z]+\\\\b\")\n",
    "count_vectorizer.fit(desc)"
   ]
  },
  {
   "cell_type": "code",
   "execution_count": 14,
   "metadata": {
    "collapsed": true
   },
   "outputs": [],
   "source": [
    "counts = count_vectorizer.transform(desc).transpose()"
   ]
  },
  {
   "cell_type": "code",
   "execution_count": 15,
   "metadata": {},
   "outputs": [
    {
     "data": {
      "text/plain": [
       "(77242, 2639)"
      ]
     },
     "execution_count": 15,
     "metadata": {},
     "output_type": "execute_result"
    }
   ],
   "source": [
    "counts.shape"
   ]
  },
  {
   "cell_type": "code",
   "execution_count": 16,
   "metadata": {
    "collapsed": true
   },
   "outputs": [],
   "source": [
    "# Convert sparse matrix of counts to a gensim corpus\n",
    "corpus = matutils.Sparse2Corpus(counts)"
   ]
  },
  {
   "cell_type": "code",
   "execution_count": 17,
   "metadata": {
    "collapsed": true
   },
   "outputs": [],
   "source": [
    "id2word = dict((v, k) for k, v in count_vectorizer.vocabulary_.items())"
   ]
  },
  {
   "cell_type": "code",
   "execution_count": 18,
   "metadata": {},
   "outputs": [
    {
     "data": {
      "text/plain": [
       "77242"
      ]
     },
     "execution_count": 18,
     "metadata": {},
     "output_type": "execute_result"
    }
   ],
   "source": [
    "len(id2word)"
   ]
  },
  {
   "cell_type": "code",
   "execution_count": 19,
   "metadata": {},
   "outputs": [
    {
     "name": "stderr",
     "output_type": "stream",
     "text": [
      "2018-02-28 11:43:54,861 : INFO : using symmetric alpha at 0.1\n",
      "2018-02-28 11:43:54,864 : INFO : using symmetric eta at 0.1\n",
      "2018-02-28 11:43:54,878 : INFO : using serial LDA version on this node\n",
      "2018-02-28 11:43:58,683 : INFO : running online (multi-pass) LDA training, 10 topics, 10 passes over the supplied corpus of 2639 documents, updating model once every 2000 documents, evaluating perplexity every 2639 documents, iterating 50x with a convergence threshold of 0.001000\n",
      "2018-02-28 11:43:58,740 : INFO : PROGRESS: pass 0, at document #2000/2639\n",
      "2018-02-28 11:44:02,405 : INFO : merging changes from 2000 documents into a model of 2639 documents\n",
      "2018-02-28 11:44:02,815 : INFO : topic #8 (0.100): 0.009*\"home\" + 0.006*\"room\" + 0.005*\"new\" + 0.004*\"kitchen\" + 0.004*\"large\" + 0.003*\"great\" + 0.003*\"property\" + 0.003*\"bath\" + 0.003*\"master\" + 0.003*\"living\"\n",
      "2018-02-28 11:44:02,818 : INFO : topic #0 (0.100): 0.005*\"room\" + 0.005*\"home\" + 0.004*\"property\" + 0.003*\"large\" + 0.003*\"located\" + 0.003*\"access\" + 0.003*\"kitchen\" + 0.002*\"new\" + 0.002*\"floor\" + 0.002*\"family\"\n",
      "2018-02-28 11:44:02,822 : INFO : topic #7 (0.100): 0.006*\"home\" + 0.005*\"kitchen\" + 0.004*\"room\" + 0.004*\"living\" + 0.003*\"lot\" + 0.003*\"floor\" + 0.002*\"new\" + 0.002*\"large\" + 0.002*\"garage\" + 0.002*\"private\"\n",
      "2018-02-28 11:44:02,825 : INFO : topic #5 (0.100): 0.007*\"home\" + 0.003*\"room\" + 0.002*\"lot\" + 0.002*\"large\" + 0.002*\"located\" + 0.002*\"views\" + 0.002*\"washington\" + 0.002*\"master\" + 0.002*\"family\" + 0.002*\"new\"\n",
      "2018-02-28 11:44:02,828 : INFO : topic #2 (0.100): 0.012*\"home\" + 0.005*\"room\" + 0.005*\"large\" + 0.004*\"new\" + 0.003*\"property\" + 0.003*\"bedrooms\" + 0.003*\"living\" + 0.003*\"kitchen\" + 0.003*\"located\" + 0.003*\"properties\"\n",
      "2018-02-28 11:44:02,833 : INFO : topic diff=5.500268, rho=1.000000\n",
      "2018-02-28 11:44:05,163 : INFO : -13.104 per-word bound, 8802.3 perplexity estimate based on a held-out corpus of 639 documents with 62936 words\n",
      "2018-02-28 11:44:05,164 : INFO : PROGRESS: pass 0, at document #2639/2639\n",
      "2018-02-28 11:44:06,242 : INFO : merging changes from 639 documents into a model of 2639 documents\n",
      "2018-02-28 11:44:06,594 : INFO : topic #2 (0.100): 0.014*\"home\" + 0.007*\"large\" + 0.005*\"bedrooms\" + 0.005*\"room\" + 0.004*\"new\" + 0.004*\"located\" + 0.004*\"family\" + 0.003*\"great\" + 0.003*\"garage\" + 0.003*\"living\"\n",
      "2018-02-28 11:44:06,596 : INFO : topic #4 (0.100): 0.016*\"properties\" + 0.014*\"auction\" + 0.014*\"property\" + 0.013*\"com\" + 0.012*\"auction com\" + 0.012*\"sale\" + 0.006*\"details\" + 0.006*\"foreclosure\" + 0.005*\"opportunity\" + 0.004*\"search\"\n",
      "2018-02-28 11:44:06,599 : INFO : topic #0 (0.100): 0.004*\"home\" + 0.004*\"room\" + 0.004*\"property\" + 0.003*\"located\" + 0.003*\"large\" + 0.003*\"family\" + 0.003*\"great\" + 0.003*\"lots\" + 0.003*\"area\" + 0.003*\"access\"\n",
      "2018-02-28 11:44:06,602 : INFO : topic #6 (0.100): 0.013*\"room\" + 0.009*\"home\" + 0.005*\"master\" + 0.005*\"bath\" + 0.005*\"kitchen\" + 0.004*\"living\" + 0.004*\"large\" + 0.004*\"floor\" + 0.003*\"space\" + 0.003*\"car\"\n",
      "2018-02-28 11:44:06,604 : INFO : topic #8 (0.100): 0.011*\"home\" + 0.007*\"room\" + 0.007*\"new\" + 0.006*\"large\" + 0.005*\"kitchen\" + 0.004*\"great\" + 0.004*\"bath\" + 0.003*\"area\" + 0.003*\"lot\" + 0.003*\"master\"\n",
      "2018-02-28 11:44:06,609 : INFO : topic diff=2.159265, rho=0.707107\n",
      "2018-02-28 11:44:06,672 : INFO : PROGRESS: pass 1, at document #2000/2639\n",
      "2018-02-28 11:44:09,052 : INFO : merging changes from 2000 documents into a model of 2639 documents\n",
      "2018-02-28 11:44:09,402 : INFO : topic #9 (0.100): 0.004*\"new\" + 0.003*\"home\" + 0.002*\"water\" + 0.002*\"lot\" + 0.002*\"room\" + 0.002*\"kitchen\" + 0.002*\"great\" + 0.002*\"views\" + 0.002*\"street\" + 0.002*\"just\"\n",
      "2018-02-28 11:44:09,404 : INFO : topic #5 (0.100): 0.008*\"home\" + 0.005*\"washington\" + 0.005*\"located\" + 0.004*\"family\" + 0.004*\"square\" + 0.003*\"foot\" + 0.003*\"bathrooms\" + 0.003*\"square foot\" + 0.003*\"family home\" + 0.003*\"bedrooms\"\n",
      "2018-02-28 11:44:09,407 : INFO : topic #2 (0.100): 0.013*\"home\" + 0.006*\"large\" + 0.005*\"room\" + 0.004*\"bedrooms\" + 0.004*\"new\" + 0.003*\"located\" + 0.003*\"great\" + 0.003*\"kitchen\" + 0.003*\"family\" + 0.003*\"living\"\n",
      "2018-02-28 11:44:09,409 : INFO : topic #6 (0.100): 0.012*\"room\" + 0.008*\"home\" + 0.005*\"master\" + 0.005*\"kitchen\" + 0.005*\"bath\" + 0.005*\"living\" + 0.004*\"floor\" + 0.004*\"large\" + 0.003*\"fireplace\" + 0.003*\"bedroom\"\n",
      "2018-02-28 11:44:09,412 : INFO : topic #4 (0.100): 0.017*\"properties\" + 0.015*\"auction\" + 0.014*\"property\" + 0.013*\"com\" + 0.013*\"auction com\" + 0.013*\"sale\" + 0.006*\"details\" + 0.006*\"foreclosure\" + 0.005*\"opportunity\" + 0.004*\"search\"\n",
      "2018-02-28 11:44:09,416 : INFO : topic diff=0.965114, rho=0.548863\n",
      "2018-02-28 11:44:11,352 : INFO : -10.020 per-word bound, 1038.6 perplexity estimate based on a held-out corpus of 639 documents with 62936 words\n",
      "2018-02-28 11:44:11,353 : INFO : PROGRESS: pass 1, at document #2639/2639\n",
      "2018-02-28 11:44:12,038 : INFO : merging changes from 639 documents into a model of 2639 documents\n",
      "2018-02-28 11:44:12,237 : INFO : topic #0 (0.100): 0.004*\"home\" + 0.003*\"property\" + 0.003*\"lots\" + 0.003*\"lot\" + 0.003*\"great\" + 0.003*\"room\" + 0.002*\"located\" + 0.002*\"lake\" + 0.002*\"large\" + 0.002*\"access\"\n",
      "2018-02-28 11:44:12,240 : INFO : topic #6 (0.100): 0.013*\"room\" + 0.009*\"home\" + 0.006*\"master\" + 0.005*\"large\" + 0.005*\"kitchen\" + 0.005*\"bath\" + 0.005*\"living\" + 0.004*\"floor\" + 0.004*\"space\" + 0.003*\"bedroom\"\n",
      "2018-02-28 11:44:12,242 : INFO : topic #4 (0.100): 0.020*\"properties\" + 0.018*\"auction\" + 0.015*\"com\" + 0.015*\"property\" + 0.015*\"auction com\" + 0.015*\"sale\" + 0.008*\"details\" + 0.007*\"foreclosure\" + 0.006*\"opportunity\" + 0.005*\"search\"\n",
      "2018-02-28 11:44:12,245 : INFO : topic #9 (0.100): 0.004*\"new\" + 0.003*\"water\" + 0.003*\"home\" + 0.002*\"great\" + 0.002*\"street\" + 0.002*\"lot\" + 0.002*\"views\" + 0.002*\"room\" + 0.002*\"garage\" + 0.002*\"kitchen\"\n",
      "2018-02-28 11:44:12,248 : INFO : topic #3 (0.100): 0.008*\"lot\" + 0.008*\"property\" + 0.008*\"home\" + 0.006*\"acres\" + 0.004*\"land\" + 0.004*\"water\" + 0.004*\"lots\" + 0.004*\"build\" + 0.003*\"area\" + 0.003*\"acre\"\n",
      "2018-02-28 11:44:12,252 : INFO : topic diff=0.717753, rho=0.548863\n",
      "2018-02-28 11:44:12,318 : INFO : PROGRESS: pass 2, at document #2000/2639\n",
      "2018-02-28 11:44:14,237 : INFO : merging changes from 2000 documents into a model of 2639 documents\n",
      "2018-02-28 11:44:14,611 : INFO : topic #4 (0.100): 0.019*\"properties\" + 0.017*\"auction\" + 0.015*\"property\" + 0.015*\"com\" + 0.015*\"auction com\" + 0.015*\"sale\" + 0.007*\"details\" + 0.007*\"foreclosure\" + 0.006*\"opportunity\" + 0.005*\"search\"\n",
      "2018-02-28 11:44:14,613 : INFO : topic #9 (0.100): 0.004*\"new\" + 0.003*\"water\" + 0.002*\"home\" + 0.002*\"great\" + 0.002*\"views\" + 0.002*\"lot\" + 0.002*\"seattle\" + 0.002*\"unit\" + 0.002*\"street\" + 0.002*\"garage\"\n",
      "2018-02-28 11:44:14,615 : INFO : topic #7 (0.100): 0.005*\"home\" + 0.004*\"lot\" + 0.003*\"living\" + 0.003*\"kitchen\" + 0.003*\"garage\" + 0.002*\"room\" + 0.002*\"community\" + 0.002*\"floor\" + 0.002*\"ft\" + 0.002*\"views\"\n",
      "2018-02-28 11:44:14,617 : INFO : topic #1 (0.100): 0.008*\"room\" + 0.007*\"kitchen\" + 0.006*\"master\" + 0.005*\"home\" + 0.005*\"main\" + 0.005*\"bath\" + 0.005*\"floor\" + 0.004*\"suite\" + 0.004*\"living\" + 0.003*\"walk\"\n",
      "2018-02-28 11:44:14,619 : INFO : topic #5 (0.100): 0.010*\"home\" + 0.008*\"washington\" + 0.008*\"located\" + 0.006*\"square\" + 0.006*\"foot\" + 0.006*\"square foot\" + 0.006*\"family\" + 0.006*\"bathrooms\" + 0.006*\"bedrooms bathrooms\" + 0.005*\"single\"\n",
      "2018-02-28 11:44:14,623 : INFO : topic diff=0.504144, rho=0.481153\n",
      "2018-02-28 11:44:16,373 : INFO : -9.626 per-word bound, 790.4 perplexity estimate based on a held-out corpus of 639 documents with 62936 words\n",
      "2018-02-28 11:44:16,375 : INFO : PROGRESS: pass 2, at document #2639/2639\n",
      "2018-02-28 11:44:16,907 : INFO : merging changes from 639 documents into a model of 2639 documents\n",
      "2018-02-28 11:44:17,075 : INFO : topic #8 (0.100): 0.012*\"home\" + 0.009*\"new\" + 0.007*\"room\" + 0.006*\"kitchen\" + 0.006*\"large\" + 0.004*\"great\" + 0.004*\"bath\" + 0.004*\"living\" + 0.003*\"garage\" + 0.003*\"area\"\n",
      "2018-02-28 11:44:17,077 : INFO : topic #5 (0.100): 0.010*\"home\" + 0.008*\"washington\" + 0.008*\"located\" + 0.007*\"square\" + 0.007*\"foot\" + 0.007*\"square foot\" + 0.006*\"family\" + 0.006*\"single\" + 0.006*\"single family\" + 0.006*\"home bedrooms\"\n",
      "2018-02-28 11:44:17,080 : INFO : topic #3 (0.100): 0.009*\"lot\" + 0.009*\"property\" + 0.008*\"home\" + 0.006*\"acres\" + 0.005*\"water\" + 0.005*\"land\" + 0.005*\"build\" + 0.004*\"lots\" + 0.004*\"acre\" + 0.004*\"area\"\n"
     ]
    },
    {
     "name": "stderr",
     "output_type": "stream",
     "text": [
      "2018-02-28 11:44:17,082 : INFO : topic #9 (0.100): 0.004*\"new\" + 0.003*\"water\" + 0.002*\"great\" + 0.002*\"street\" + 0.002*\"home\" + 0.002*\"views\" + 0.002*\"garage\" + 0.002*\"seattle\" + 0.002*\"gas\" + 0.002*\"lot\"\n",
      "2018-02-28 11:44:17,085 : INFO : topic #0 (0.100): 0.004*\"home\" + 0.003*\"lots\" + 0.003*\"property\" + 0.003*\"lot\" + 0.003*\"great\" + 0.003*\"lake\" + 0.002*\"located\" + 0.002*\"private\" + 0.002*\"acres\" + 0.002*\"access\"\n",
      "2018-02-28 11:44:17,090 : INFO : topic diff=0.391952, rho=0.481153\n",
      "2018-02-28 11:44:17,153 : INFO : PROGRESS: pass 3, at document #2000/2639\n",
      "2018-02-28 11:44:18,984 : INFO : merging changes from 2000 documents into a model of 2639 documents\n",
      "2018-02-28 11:44:19,324 : INFO : topic #6 (0.100): 0.013*\"room\" + 0.009*\"home\" + 0.006*\"master\" + 0.006*\"kitchen\" + 0.006*\"living\" + 0.005*\"large\" + 0.005*\"bath\" + 0.005*\"floor\" + 0.004*\"bedroom\" + 0.004*\"garage\"\n",
      "2018-02-28 11:44:19,326 : INFO : topic #8 (0.100): 0.011*\"home\" + 0.008*\"new\" + 0.007*\"room\" + 0.006*\"kitchen\" + 0.005*\"large\" + 0.004*\"great\" + 0.004*\"living\" + 0.004*\"bath\" + 0.003*\"master\" + 0.003*\"garage\"\n",
      "2018-02-28 11:44:19,329 : INFO : topic #9 (0.100): 0.004*\"new\" + 0.003*\"water\" + 0.002*\"great\" + 0.002*\"home\" + 0.002*\"views\" + 0.002*\"unit\" + 0.002*\"seattle\" + 0.002*\"street\" + 0.002*\"garage\" + 0.002*\"gas\"\n",
      "2018-02-28 11:44:19,331 : INFO : topic #7 (0.100): 0.005*\"home\" + 0.003*\"lot\" + 0.003*\"living\" + 0.003*\"garage\" + 0.002*\"community\" + 0.002*\"ft\" + 0.002*\"views\" + 0.002*\"kitchen\" + 0.002*\"room\" + 0.002*\"floor\"\n",
      "2018-02-28 11:44:19,334 : INFO : topic #5 (0.100): 0.011*\"home\" + 0.009*\"washington\" + 0.009*\"located\" + 0.007*\"square\" + 0.007*\"foot\" + 0.007*\"square foot\" + 0.006*\"bedrooms bathrooms\" + 0.006*\"family\" + 0.006*\"bathrooms\" + 0.006*\"single family\"\n",
      "2018-02-28 11:44:19,338 : INFO : topic diff=0.306258, rho=0.433575\n",
      "2018-02-28 11:44:21,040 : INFO : -9.489 per-word bound, 718.8 perplexity estimate based on a held-out corpus of 639 documents with 62936 words\n",
      "2018-02-28 11:44:21,042 : INFO : PROGRESS: pass 3, at document #2639/2639\n",
      "2018-02-28 11:44:21,525 : INFO : merging changes from 639 documents into a model of 2639 documents\n",
      "2018-02-28 11:44:21,726 : INFO : topic #2 (0.100): 0.010*\"home\" + 0.006*\"large\" + 0.004*\"room\" + 0.004*\"new\" + 0.004*\"great\" + 0.003*\"bedrooms\" + 0.003*\"garage\" + 0.003*\"lot\" + 0.003*\"close\" + 0.003*\"kitchen\"\n",
      "2018-02-28 11:44:21,728 : INFO : topic #3 (0.100): 0.010*\"lot\" + 0.010*\"property\" + 0.007*\"home\" + 0.006*\"acres\" + 0.006*\"water\" + 0.005*\"build\" + 0.005*\"land\" + 0.004*\"lots\" + 0.004*\"acre\" + 0.004*\"area\"\n",
      "2018-02-28 11:44:21,730 : INFO : topic #1 (0.100): 0.010*\"room\" + 0.007*\"kitchen\" + 0.006*\"master\" + 0.006*\"home\" + 0.005*\"bath\" + 0.004*\"main\" + 0.004*\"suite\" + 0.004*\"floor\" + 0.003*\"open\" + 0.003*\"great\"\n",
      "2018-02-28 11:44:21,733 : INFO : topic #8 (0.100): 0.012*\"home\" + 0.010*\"new\" + 0.007*\"room\" + 0.006*\"kitchen\" + 0.006*\"large\" + 0.004*\"great\" + 0.004*\"living\" + 0.004*\"bath\" + 0.004*\"garage\" + 0.003*\"area\"\n",
      "2018-02-28 11:44:21,736 : INFO : topic #6 (0.100): 0.013*\"room\" + 0.010*\"home\" + 0.006*\"large\" + 0.006*\"master\" + 0.006*\"kitchen\" + 0.006*\"living\" + 0.005*\"bath\" + 0.005*\"floor\" + 0.004*\"space\" + 0.004*\"garage\"\n",
      "2018-02-28 11:44:21,740 : INFO : topic diff=0.253751, rho=0.433575\n",
      "2018-02-28 11:44:21,800 : INFO : PROGRESS: pass 4, at document #2000/2639\n",
      "2018-02-28 11:44:23,588 : INFO : merging changes from 2000 documents into a model of 2639 documents\n",
      "2018-02-28 11:44:23,948 : INFO : topic #7 (0.100): 0.004*\"home\" + 0.003*\"lot\" + 0.003*\"living\" + 0.002*\"garage\" + 0.002*\"views\" + 0.002*\"community\" + 0.002*\"ft\" + 0.002*\"park\" + 0.002*\"floor\" + 0.002*\"private\"\n",
      "2018-02-28 11:44:23,950 : INFO : topic #5 (0.100): 0.011*\"home\" + 0.009*\"washington\" + 0.009*\"located\" + 0.008*\"square\" + 0.008*\"foot\" + 0.008*\"square foot\" + 0.007*\"bedrooms bathrooms\" + 0.007*\"family\" + 0.007*\"bathrooms\" + 0.007*\"single family\"\n",
      "2018-02-28 11:44:23,953 : INFO : topic #0 (0.100): 0.004*\"lots\" + 0.003*\"home\" + 0.003*\"property\" + 0.003*\"lake\" + 0.003*\"lot\" + 0.003*\"great\" + 0.002*\"located\" + 0.002*\"private\" + 0.002*\"views\" + 0.002*\"access\"\n",
      "2018-02-28 11:44:23,955 : INFO : topic #6 (0.100): 0.013*\"room\" + 0.009*\"home\" + 0.006*\"master\" + 0.006*\"kitchen\" + 0.006*\"living\" + 0.006*\"large\" + 0.005*\"floor\" + 0.005*\"bath\" + 0.004*\"bedroom\" + 0.004*\"garage\"\n",
      "2018-02-28 11:44:23,958 : INFO : topic #3 (0.100): 0.010*\"lot\" + 0.010*\"property\" + 0.008*\"home\" + 0.006*\"acres\" + 0.006*\"water\" + 0.005*\"build\" + 0.004*\"acre\" + 0.004*\"land\" + 0.004*\"building\" + 0.004*\"lots\"\n",
      "2018-02-28 11:44:23,961 : INFO : topic diff=0.216154, rho=0.397794\n",
      "2018-02-28 11:44:25,648 : INFO : -9.426 per-word bound, 687.7 perplexity estimate based on a held-out corpus of 639 documents with 62936 words\n",
      "2018-02-28 11:44:25,649 : INFO : PROGRESS: pass 4, at document #2639/2639\n",
      "2018-02-28 11:44:26,104 : INFO : merging changes from 639 documents into a model of 2639 documents\n",
      "2018-02-28 11:44:26,297 : INFO : topic #6 (0.100): 0.013*\"room\" + 0.010*\"home\" + 0.007*\"large\" + 0.006*\"master\" + 0.006*\"kitchen\" + 0.006*\"living\" + 0.005*\"bath\" + 0.005*\"floor\" + 0.004*\"garage\" + 0.004*\"space\"\n",
      "2018-02-28 11:44:26,299 : INFO : topic #8 (0.100): 0.012*\"home\" + 0.010*\"new\" + 0.007*\"room\" + 0.006*\"kitchen\" + 0.006*\"large\" + 0.004*\"great\" + 0.004*\"living\" + 0.004*\"bath\" + 0.004*\"garage\" + 0.003*\"area\"\n",
      "2018-02-28 11:44:26,301 : INFO : topic #0 (0.100): 0.003*\"lots\" + 0.003*\"home\" + 0.003*\"property\" + 0.003*\"lot\" + 0.003*\"great\" + 0.003*\"lake\" + 0.002*\"private\" + 0.002*\"located\" + 0.002*\"acres\" + 0.002*\"access\"\n",
      "2018-02-28 11:44:26,304 : INFO : topic #7 (0.100): 0.004*\"home\" + 0.003*\"lot\" + 0.003*\"garage\" + 0.003*\"living\" + 0.002*\"large\" + 0.002*\"area\" + 0.002*\"ft\" + 0.002*\"lakewood\" + 0.002*\"close\" + 0.002*\"views\"\n",
      "2018-02-28 11:44:26,307 : INFO : topic #4 (0.100): 0.022*\"properties\" + 0.019*\"auction\" + 0.017*\"com\" + 0.017*\"auction com\" + 0.017*\"sale\" + 0.016*\"property\" + 0.008*\"details\" + 0.008*\"foreclosure\" + 0.006*\"opportunity\" + 0.006*\"search\"\n",
      "2018-02-28 11:44:26,310 : INFO : topic diff=0.190408, rho=0.397794\n",
      "2018-02-28 11:44:26,376 : INFO : PROGRESS: pass 5, at document #2000/2639\n",
      "2018-02-28 11:44:28,102 : INFO : merging changes from 2000 documents into a model of 2639 documents\n",
      "2018-02-28 11:44:28,453 : INFO : topic #2 (0.100): 0.010*\"home\" + 0.005*\"large\" + 0.004*\"new\" + 0.004*\"room\" + 0.003*\"great\" + 0.003*\"bedrooms\" + 0.003*\"neighborhood\" + 0.002*\"kitchen\" + 0.002*\"lot\" + 0.002*\"close\"\n",
      "2018-02-28 11:44:28,455 : INFO : topic #3 (0.100): 0.011*\"lot\" + 0.010*\"property\" + 0.007*\"home\" + 0.006*\"acres\" + 0.006*\"water\" + 0.006*\"build\" + 0.005*\"acre\" + 0.004*\"land\" + 0.004*\"building\" + 0.004*\"lots\"\n",
      "2018-02-28 11:44:28,458 : INFO : topic #0 (0.100): 0.004*\"lots\" + 0.003*\"home\" + 0.003*\"lake\" + 0.003*\"property\" + 0.002*\"great\" + 0.002*\"lot\" + 0.002*\"located\" + 0.002*\"private\" + 0.002*\"views\" + 0.002*\"access\"\n",
      "2018-02-28 11:44:28,461 : INFO : topic #6 (0.100): 0.014*\"room\" + 0.010*\"home\" + 0.006*\"master\" + 0.006*\"kitchen\" + 0.006*\"living\" + 0.006*\"large\" + 0.005*\"floor\" + 0.005*\"bath\" + 0.004*\"bedroom\" + 0.004*\"garage\"\n",
      "2018-02-28 11:44:28,463 : INFO : topic #1 (0.100): 0.009*\"room\" + 0.007*\"kitchen\" + 0.006*\"master\" + 0.006*\"home\" + 0.005*\"bath\" + 0.004*\"main\" + 0.004*\"floor\" + 0.004*\"suite\" + 0.004*\"rm\" + 0.003*\"open\"\n",
      "2018-02-28 11:44:28,466 : INFO : topic diff=0.171150, rho=0.369623\n",
      "2018-02-28 11:44:30,146 : INFO : -9.390 per-word bound, 670.9 perplexity estimate based on a held-out corpus of 639 documents with 62936 words\n",
      "2018-02-28 11:44:30,147 : INFO : PROGRESS: pass 5, at document #2639/2639\n",
      "2018-02-28 11:44:30,602 : INFO : merging changes from 639 documents into a model of 2639 documents\n",
      "2018-02-28 11:44:30,790 : INFO : topic #0 (0.100): 0.003*\"lots\" + 0.003*\"home\" + 0.003*\"lake\" + 0.003*\"property\" + 0.003*\"great\" + 0.002*\"lot\" + 0.002*\"private\" + 0.002*\"located\" + 0.002*\"acres\" + 0.002*\"access\"\n",
      "2018-02-28 11:44:30,793 : INFO : topic #5 (0.100): 0.012*\"home\" + 0.009*\"located\" + 0.009*\"washington\" + 0.008*\"square\" + 0.008*\"foot\" + 0.008*\"square foot\" + 0.007*\"family\" + 0.007*\"single family\" + 0.007*\"single\" + 0.007*\"bedrooms bathrooms\"\n",
      "2018-02-28 11:44:30,795 : INFO : topic #6 (0.100): 0.013*\"room\" + 0.010*\"home\" + 0.007*\"large\" + 0.006*\"master\" + 0.006*\"kitchen\" + 0.006*\"living\" + 0.005*\"bath\" + 0.005*\"floor\" + 0.004*\"garage\" + 0.004*\"bedroom\"\n"
     ]
    },
    {
     "name": "stderr",
     "output_type": "stream",
     "text": [
      "2018-02-28 11:44:30,797 : INFO : topic #1 (0.100): 0.010*\"room\" + 0.007*\"kitchen\" + 0.006*\"home\" + 0.006*\"master\" + 0.005*\"bath\" + 0.004*\"main\" + 0.004*\"suite\" + 0.004*\"floor\" + 0.003*\"open\" + 0.003*\"great\"\n",
      "2018-02-28 11:44:30,800 : INFO : topic #8 (0.100): 0.012*\"home\" + 0.010*\"new\" + 0.007*\"room\" + 0.006*\"kitchen\" + 0.006*\"large\" + 0.004*\"living\" + 0.004*\"great\" + 0.004*\"bath\" + 0.004*\"garage\" + 0.003*\"area\"\n",
      "2018-02-28 11:44:30,804 : INFO : topic diff=0.157845, rho=0.369623\n",
      "2018-02-28 11:44:30,868 : INFO : PROGRESS: pass 6, at document #2000/2639\n",
      "2018-02-28 11:44:32,536 : INFO : merging changes from 2000 documents into a model of 2639 documents\n",
      "2018-02-28 11:44:32,891 : INFO : topic #8 (0.100): 0.011*\"home\" + 0.009*\"new\" + 0.007*\"room\" + 0.006*\"kitchen\" + 0.006*\"large\" + 0.004*\"living\" + 0.004*\"great\" + 0.004*\"bath\" + 0.003*\"garage\" + 0.003*\"master\"\n",
      "2018-02-28 11:44:32,894 : INFO : topic #6 (0.100): 0.014*\"room\" + 0.010*\"home\" + 0.006*\"master\" + 0.006*\"kitchen\" + 0.006*\"large\" + 0.006*\"living\" + 0.005*\"floor\" + 0.005*\"bath\" + 0.004*\"bedroom\" + 0.004*\"garage\"\n",
      "2018-02-28 11:44:32,896 : INFO : topic #1 (0.100): 0.009*\"room\" + 0.007*\"kitchen\" + 0.006*\"master\" + 0.006*\"home\" + 0.005*\"bath\" + 0.004*\"main\" + 0.004*\"floor\" + 0.004*\"suite\" + 0.004*\"rm\" + 0.003*\"open\"\n",
      "2018-02-28 11:44:32,898 : INFO : topic #2 (0.100): 0.009*\"home\" + 0.005*\"large\" + 0.004*\"new\" + 0.003*\"room\" + 0.003*\"great\" + 0.003*\"neighborhood\" + 0.002*\"bedrooms\" + 0.002*\"kitchen\" + 0.002*\"close\" + 0.002*\"homes\"\n",
      "2018-02-28 11:44:32,901 : INFO : topic #7 (0.100): 0.004*\"home\" + 0.003*\"lot\" + 0.003*\"living\" + 0.002*\"garage\" + 0.002*\"views\" + 0.002*\"ft\" + 0.002*\"community\" + 0.002*\"park\" + 0.002*\"area\" + 0.002*\"private\"\n",
      "2018-02-28 11:44:32,905 : INFO : topic diff=0.145964, rho=0.346698\n",
      "2018-02-28 11:44:34,592 : INFO : -9.368 per-word bound, 660.7 perplexity estimate based on a held-out corpus of 639 documents with 62936 words\n",
      "2018-02-28 11:44:34,593 : INFO : PROGRESS: pass 6, at document #2639/2639\n",
      "2018-02-28 11:44:35,037 : INFO : merging changes from 639 documents into a model of 2639 documents\n",
      "2018-02-28 11:44:35,226 : INFO : topic #3 (0.100): 0.012*\"lot\" + 0.011*\"property\" + 0.007*\"home\" + 0.007*\"acres\" + 0.006*\"water\" + 0.006*\"build\" + 0.005*\"land\" + 0.005*\"acre\" + 0.004*\"building\" + 0.004*\"lots\"\n",
      "2018-02-28 11:44:35,228 : INFO : topic #8 (0.100): 0.012*\"home\" + 0.010*\"new\" + 0.007*\"room\" + 0.007*\"kitchen\" + 0.006*\"large\" + 0.004*\"living\" + 0.004*\"great\" + 0.004*\"bath\" + 0.004*\"garage\" + 0.003*\"area\"\n",
      "2018-02-28 11:44:35,230 : INFO : topic #1 (0.100): 0.010*\"room\" + 0.007*\"kitchen\" + 0.006*\"home\" + 0.006*\"master\" + 0.005*\"bath\" + 0.004*\"main\" + 0.004*\"suite\" + 0.004*\"floor\" + 0.003*\"open\" + 0.003*\"great\"\n",
      "2018-02-28 11:44:35,233 : INFO : topic #6 (0.100): 0.014*\"room\" + 0.010*\"home\" + 0.007*\"large\" + 0.006*\"master\" + 0.006*\"kitchen\" + 0.006*\"living\" + 0.005*\"bath\" + 0.005*\"floor\" + 0.004*\"garage\" + 0.004*\"bedroom\"\n",
      "2018-02-28 11:44:35,236 : INFO : topic #4 (0.100): 0.023*\"properties\" + 0.019*\"auction\" + 0.017*\"com\" + 0.017*\"auction com\" + 0.017*\"sale\" + 0.016*\"property\" + 0.008*\"details\" + 0.008*\"foreclosure\" + 0.006*\"opportunity\" + 0.006*\"search\"\n",
      "2018-02-28 11:44:35,240 : INFO : topic diff=0.138475, rho=0.346698\n",
      "2018-02-28 11:44:35,298 : INFO : PROGRESS: pass 7, at document #2000/2639\n",
      "2018-02-28 11:44:36,948 : INFO : merging changes from 2000 documents into a model of 2639 documents\n",
      "2018-02-28 11:44:37,307 : INFO : topic #4 (0.100): 0.022*\"properties\" + 0.019*\"auction\" + 0.017*\"com\" + 0.016*\"sale\" + 0.016*\"auction com\" + 0.015*\"property\" + 0.008*\"details\" + 0.008*\"foreclosure\" + 0.006*\"opportunity\" + 0.005*\"search\"\n",
      "2018-02-28 11:44:37,310 : INFO : topic #5 (0.100): 0.012*\"home\" + 0.010*\"washington\" + 0.010*\"located\" + 0.009*\"square\" + 0.008*\"foot\" + 0.008*\"square foot\" + 0.007*\"single family\" + 0.007*\"bedrooms bathrooms\" + 0.007*\"single\" + 0.007*\"family\"\n",
      "2018-02-28 11:44:37,312 : INFO : topic #1 (0.100): 0.009*\"room\" + 0.007*\"kitchen\" + 0.006*\"master\" + 0.006*\"home\" + 0.005*\"bath\" + 0.004*\"main\" + 0.004*\"floor\" + 0.004*\"suite\" + 0.004*\"rm\" + 0.003*\"open\"\n",
      "2018-02-28 11:44:37,315 : INFO : topic #9 (0.100): 0.003*\"new\" + 0.003*\"water\" + 0.002*\"great\" + 0.002*\"unit\" + 0.002*\"seattle\" + 0.002*\"street\" + 0.002*\"gas\" + 0.002*\"views\" + 0.001*\"garage\" + 0.001*\"just\"\n",
      "2018-02-28 11:44:37,317 : INFO : topic #3 (0.100): 0.011*\"lot\" + 0.011*\"property\" + 0.008*\"home\" + 0.006*\"acres\" + 0.006*\"water\" + 0.006*\"build\" + 0.005*\"acre\" + 0.004*\"land\" + 0.004*\"building\" + 0.004*\"site\"\n",
      "2018-02-28 11:44:37,321 : INFO : topic diff=0.129975, rho=0.327570\n",
      "2018-02-28 11:44:38,987 : INFO : -9.352 per-word bound, 653.6 perplexity estimate based on a held-out corpus of 639 documents with 62936 words\n",
      "2018-02-28 11:44:38,988 : INFO : PROGRESS: pass 7, at document #2639/2639\n",
      "2018-02-28 11:44:39,427 : INFO : merging changes from 639 documents into a model of 2639 documents\n",
      "2018-02-28 11:44:39,611 : INFO : topic #6 (0.100): 0.014*\"room\" + 0.010*\"home\" + 0.007*\"large\" + 0.007*\"master\" + 0.006*\"kitchen\" + 0.006*\"living\" + 0.005*\"bath\" + 0.005*\"floor\" + 0.004*\"garage\" + 0.004*\"bedroom\"\n",
      "2018-02-28 11:44:39,613 : INFO : topic #2 (0.100): 0.009*\"home\" + 0.005*\"large\" + 0.004*\"great\" + 0.004*\"new\" + 0.003*\"room\" + 0.003*\"neighborhood\" + 0.003*\"bedrooms\" + 0.002*\"close\" + 0.002*\"yard\" + 0.002*\"love\"\n",
      "2018-02-28 11:44:39,616 : INFO : topic #8 (0.100): 0.012*\"home\" + 0.011*\"new\" + 0.007*\"room\" + 0.007*\"kitchen\" + 0.006*\"large\" + 0.004*\"living\" + 0.004*\"great\" + 0.004*\"bath\" + 0.004*\"garage\" + 0.003*\"area\"\n",
      "2018-02-28 11:44:39,619 : INFO : topic #3 (0.100): 0.012*\"lot\" + 0.011*\"property\" + 0.007*\"home\" + 0.007*\"acres\" + 0.006*\"water\" + 0.006*\"build\" + 0.005*\"acre\" + 0.005*\"land\" + 0.004*\"building\" + 0.004*\"lots\"\n",
      "2018-02-28 11:44:39,622 : INFO : topic #9 (0.100): 0.003*\"new\" + 0.003*\"water\" + 0.002*\"great\" + 0.002*\"street\" + 0.002*\"gas\" + 0.002*\"seattle\" + 0.002*\"views\" + 0.002*\"unit\" + 0.002*\"garage\" + 0.001*\"neighborhood\"\n",
      "2018-02-28 11:44:39,625 : INFO : topic diff=0.125292, rho=0.327570\n",
      "2018-02-28 11:44:39,686 : INFO : PROGRESS: pass 8, at document #2000/2639\n",
      "2018-02-28 11:44:41,403 : INFO : merging changes from 2000 documents into a model of 2639 documents\n",
      "2018-02-28 11:44:41,787 : INFO : topic #5 (0.100): 0.012*\"home\" + 0.010*\"washington\" + 0.010*\"located\" + 0.009*\"square\" + 0.009*\"foot\" + 0.008*\"square foot\" + 0.007*\"single family\" + 0.007*\"single\" + 0.007*\"bedrooms bathrooms\" + 0.007*\"family\"\n",
      "2018-02-28 11:44:41,790 : INFO : topic #1 (0.100): 0.009*\"room\" + 0.007*\"kitchen\" + 0.006*\"master\" + 0.006*\"home\" + 0.005*\"bath\" + 0.004*\"main\" + 0.004*\"floor\" + 0.004*\"suite\" + 0.004*\"rm\" + 0.003*\"open\"\n",
      "2018-02-28 11:44:41,792 : INFO : topic #7 (0.100): 0.004*\"home\" + 0.003*\"lot\" + 0.003*\"living\" + 0.002*\"garage\" + 0.002*\"views\" + 0.002*\"ft\" + 0.002*\"park\" + 0.002*\"community\" + 0.002*\"area\" + 0.002*\"sq\"\n",
      "2018-02-28 11:44:41,795 : INFO : topic #2 (0.100): 0.009*\"home\" + 0.005*\"large\" + 0.004*\"new\" + 0.003*\"great\" + 0.003*\"room\" + 0.003*\"neighborhood\" + 0.002*\"homes\" + 0.002*\"bedrooms\" + 0.002*\"close\" + 0.002*\"kitchen\"\n",
      "2018-02-28 11:44:41,799 : INFO : topic #8 (0.100): 0.011*\"home\" + 0.010*\"new\" + 0.007*\"room\" + 0.006*\"kitchen\" + 0.006*\"large\" + 0.004*\"living\" + 0.004*\"great\" + 0.004*\"bath\" + 0.003*\"garage\" + 0.003*\"master\"\n",
      "2018-02-28 11:44:41,803 : INFO : topic diff=0.118732, rho=0.311294\n",
      "2018-02-28 11:44:43,545 : INFO : -9.341 per-word bound, 648.3 perplexity estimate based on a held-out corpus of 639 documents with 62936 words\n",
      "2018-02-28 11:44:43,546 : INFO : PROGRESS: pass 8, at document #2639/2639\n",
      "2018-02-28 11:44:43,984 : INFO : merging changes from 639 documents into a model of 2639 documents\n",
      "2018-02-28 11:44:44,165 : INFO : topic #7 (0.100): 0.004*\"home\" + 0.003*\"lot\" + 0.003*\"garage\" + 0.003*\"living\" + 0.002*\"park\" + 0.002*\"area\" + 0.002*\"ft\" + 0.002*\"views\" + 0.002*\"lakewood\" + 0.002*\"community\"\n",
      "2018-02-28 11:44:44,167 : INFO : topic #9 (0.100): 0.003*\"new\" + 0.003*\"water\" + 0.002*\"great\" + 0.002*\"street\" + 0.002*\"gas\" + 0.002*\"seattle\" + 0.002*\"unit\" + 0.002*\"views\" + 0.002*\"garage\" + 0.001*\"neighborhood\"\n",
      "2018-02-28 11:44:44,170 : INFO : topic #1 (0.100): 0.010*\"room\" + 0.007*\"kitchen\" + 0.006*\"home\" + 0.006*\"master\" + 0.005*\"bath\" + 0.004*\"main\" + 0.004*\"suite\" + 0.004*\"floor\" + 0.003*\"open\" + 0.003*\"great\"\n"
     ]
    },
    {
     "name": "stderr",
     "output_type": "stream",
     "text": [
      "2018-02-28 11:44:44,172 : INFO : topic #8 (0.100): 0.012*\"home\" + 0.011*\"new\" + 0.007*\"room\" + 0.007*\"kitchen\" + 0.006*\"large\" + 0.004*\"living\" + 0.004*\"great\" + 0.004*\"bath\" + 0.004*\"garage\" + 0.003*\"area\"\n",
      "2018-02-28 11:44:44,175 : INFO : topic #2 (0.100): 0.009*\"home\" + 0.005*\"large\" + 0.004*\"great\" + 0.003*\"new\" + 0.003*\"room\" + 0.003*\"neighborhood\" + 0.002*\"bedrooms\" + 0.002*\"close\" + 0.002*\"yard\" + 0.002*\"love\"\n",
      "2018-02-28 11:44:44,178 : INFO : topic diff=0.115551, rho=0.311294\n",
      "2018-02-28 11:44:44,243 : INFO : PROGRESS: pass 9, at document #2000/2639\n",
      "2018-02-28 11:44:45,842 : INFO : merging changes from 2000 documents into a model of 2639 documents\n",
      "2018-02-28 11:44:46,205 : INFO : topic #0 (0.100): 0.003*\"lots\" + 0.003*\"lake\" + 0.002*\"home\" + 0.002*\"great\" + 0.002*\"property\" + 0.002*\"located\" + 0.002*\"private\" + 0.002*\"views\" + 0.002*\"access\" + 0.001*\"lot\"\n",
      "2018-02-28 11:44:46,207 : INFO : topic #5 (0.100): 0.012*\"home\" + 0.010*\"washington\" + 0.010*\"located\" + 0.009*\"square\" + 0.009*\"foot\" + 0.009*\"square foot\" + 0.007*\"single family\" + 0.007*\"single\" + 0.007*\"bedrooms bathrooms\" + 0.007*\"family\"\n",
      "2018-02-28 11:44:46,210 : INFO : topic #3 (0.100): 0.012*\"lot\" + 0.011*\"property\" + 0.008*\"home\" + 0.007*\"acres\" + 0.006*\"water\" + 0.006*\"build\" + 0.005*\"acre\" + 0.004*\"building\" + 0.004*\"land\" + 0.004*\"site\"\n",
      "2018-02-28 11:44:46,213 : INFO : topic #4 (0.100): 0.022*\"properties\" + 0.019*\"auction\" + 0.017*\"com\" + 0.016*\"sale\" + 0.016*\"auction com\" + 0.015*\"property\" + 0.008*\"details\" + 0.008*\"foreclosure\" + 0.006*\"opportunity\" + 0.005*\"search\"\n",
      "2018-02-28 11:44:46,215 : INFO : topic #8 (0.100): 0.011*\"home\" + 0.010*\"new\" + 0.007*\"room\" + 0.006*\"kitchen\" + 0.006*\"large\" + 0.004*\"living\" + 0.004*\"great\" + 0.004*\"bath\" + 0.004*\"garage\" + 0.003*\"master\"\n",
      "2018-02-28 11:44:46,219 : INFO : topic diff=0.110234, rho=0.297226\n",
      "2018-02-28 11:44:47,872 : INFO : -9.331 per-word bound, 644.2 perplexity estimate based on a held-out corpus of 639 documents with 62936 words\n",
      "2018-02-28 11:44:47,873 : INFO : PROGRESS: pass 9, at document #2639/2639\n",
      "2018-02-28 11:44:48,310 : INFO : merging changes from 639 documents into a model of 2639 documents\n",
      "2018-02-28 11:44:48,494 : INFO : topic #8 (0.100): 0.012*\"home\" + 0.011*\"new\" + 0.007*\"room\" + 0.007*\"kitchen\" + 0.006*\"large\" + 0.004*\"living\" + 0.004*\"great\" + 0.004*\"bath\" + 0.004*\"garage\" + 0.003*\"area\"\n",
      "2018-02-28 11:44:48,496 : INFO : topic #7 (0.100): 0.004*\"home\" + 0.003*\"lot\" + 0.003*\"garage\" + 0.003*\"living\" + 0.002*\"park\" + 0.002*\"ft\" + 0.002*\"views\" + 0.002*\"area\" + 0.002*\"lakewood\" + 0.002*\"community\"\n",
      "2018-02-28 11:44:48,499 : INFO : topic #3 (0.100): 0.012*\"lot\" + 0.011*\"property\" + 0.008*\"home\" + 0.007*\"acres\" + 0.006*\"water\" + 0.006*\"build\" + 0.005*\"acre\" + 0.005*\"land\" + 0.004*\"building\" + 0.004*\"lots\"\n",
      "2018-02-28 11:44:48,502 : INFO : topic #2 (0.100): 0.009*\"home\" + 0.005*\"large\" + 0.004*\"great\" + 0.003*\"new\" + 0.003*\"room\" + 0.003*\"neighborhood\" + 0.002*\"close\" + 0.002*\"bedrooms\" + 0.002*\"yard\" + 0.002*\"love\"\n",
      "2018-02-28 11:44:48,504 : INFO : topic #4 (0.100): 0.023*\"properties\" + 0.020*\"auction\" + 0.017*\"com\" + 0.017*\"sale\" + 0.017*\"auction com\" + 0.015*\"property\" + 0.008*\"details\" + 0.008*\"foreclosure\" + 0.006*\"opportunity\" + 0.006*\"search\"\n",
      "2018-02-28 11:44:48,508 : INFO : topic diff=0.107923, rho=0.297226\n"
     ]
    }
   ],
   "source": [
    "# Create lda model (equivalent to \"fit\" in sklearn)\n",
    "lda = models.LdaModel(corpus=corpus, num_topics=10, minimum_probability=.03, id2word=id2word, passes=10)"
   ]
  },
  {
   "cell_type": "code",
   "execution_count": 20,
   "metadata": {},
   "outputs": [
    {
     "name": "stderr",
     "output_type": "stream",
     "text": [
      "2018-02-28 11:45:16,539 : INFO : topic #0 (0.100): 0.003*\"lots\" + 0.003*\"lake\" + 0.002*\"home\" + 0.002*\"great\" + 0.002*\"property\" + 0.002*\"located\" + 0.002*\"private\" + 0.001*\"lot\" + 0.001*\"views\" + 0.001*\"access\"\n",
      "2018-02-28 11:45:16,543 : INFO : topic #1 (0.100): 0.010*\"room\" + 0.007*\"kitchen\" + 0.006*\"home\" + 0.006*\"master\" + 0.005*\"bath\" + 0.004*\"main\" + 0.004*\"suite\" + 0.004*\"floor\" + 0.003*\"open\" + 0.003*\"great\"\n",
      "2018-02-28 11:45:16,547 : INFO : topic #2 (0.100): 0.009*\"home\" + 0.005*\"large\" + 0.004*\"great\" + 0.003*\"new\" + 0.003*\"room\" + 0.003*\"neighborhood\" + 0.002*\"close\" + 0.002*\"bedrooms\" + 0.002*\"yard\" + 0.002*\"love\"\n",
      "2018-02-28 11:45:16,550 : INFO : topic #3 (0.100): 0.012*\"lot\" + 0.011*\"property\" + 0.008*\"home\" + 0.007*\"acres\" + 0.006*\"water\" + 0.006*\"build\" + 0.005*\"acre\" + 0.005*\"land\" + 0.004*\"building\" + 0.004*\"lots\"\n",
      "2018-02-28 11:45:16,554 : INFO : topic #4 (0.100): 0.023*\"properties\" + 0.020*\"auction\" + 0.017*\"com\" + 0.017*\"sale\" + 0.017*\"auction com\" + 0.015*\"property\" + 0.008*\"details\" + 0.008*\"foreclosure\" + 0.006*\"opportunity\" + 0.006*\"search\"\n",
      "2018-02-28 11:45:16,558 : INFO : topic #5 (0.100): 0.012*\"home\" + 0.009*\"located\" + 0.009*\"washington\" + 0.009*\"square\" + 0.009*\"foot\" + 0.008*\"square foot\" + 0.007*\"single family\" + 0.007*\"single\" + 0.007*\"family\" + 0.007*\"bedrooms\"\n",
      "2018-02-28 11:45:16,561 : INFO : topic #6 (0.100): 0.014*\"room\" + 0.010*\"home\" + 0.007*\"large\" + 0.007*\"master\" + 0.007*\"kitchen\" + 0.006*\"living\" + 0.005*\"bath\" + 0.005*\"floor\" + 0.004*\"bedroom\" + 0.004*\"garage\"\n",
      "2018-02-28 11:45:16,564 : INFO : topic #7 (0.100): 0.004*\"home\" + 0.003*\"lot\" + 0.003*\"garage\" + 0.003*\"living\" + 0.002*\"park\" + 0.002*\"ft\" + 0.002*\"views\" + 0.002*\"area\" + 0.002*\"lakewood\" + 0.002*\"community\"\n",
      "2018-02-28 11:45:16,567 : INFO : topic #8 (0.100): 0.012*\"home\" + 0.011*\"new\" + 0.007*\"room\" + 0.007*\"kitchen\" + 0.006*\"large\" + 0.004*\"living\" + 0.004*\"great\" + 0.004*\"bath\" + 0.004*\"garage\" + 0.003*\"area\"\n",
      "2018-02-28 11:45:16,571 : INFO : topic #9 (0.100): 0.003*\"new\" + 0.003*\"water\" + 0.002*\"great\" + 0.002*\"street\" + 0.002*\"gas\" + 0.002*\"seattle\" + 0.002*\"unit\" + 0.002*\"views\" + 0.002*\"garage\" + 0.001*\"neighborhood\"\n"
     ]
    },
    {
     "data": {
      "text/plain": [
       "[(0,\n",
       "  '0.003*\"lots\" + 0.003*\"lake\" + 0.002*\"home\" + 0.002*\"great\" + 0.002*\"property\" + 0.002*\"located\" + 0.002*\"private\" + 0.001*\"lot\" + 0.001*\"views\" + 0.001*\"access\"'),\n",
       " (1,\n",
       "  '0.010*\"room\" + 0.007*\"kitchen\" + 0.006*\"home\" + 0.006*\"master\" + 0.005*\"bath\" + 0.004*\"main\" + 0.004*\"suite\" + 0.004*\"floor\" + 0.003*\"open\" + 0.003*\"great\"'),\n",
       " (2,\n",
       "  '0.009*\"home\" + 0.005*\"large\" + 0.004*\"great\" + 0.003*\"new\" + 0.003*\"room\" + 0.003*\"neighborhood\" + 0.002*\"close\" + 0.002*\"bedrooms\" + 0.002*\"yard\" + 0.002*\"love\"'),\n",
       " (3,\n",
       "  '0.012*\"lot\" + 0.011*\"property\" + 0.008*\"home\" + 0.007*\"acres\" + 0.006*\"water\" + 0.006*\"build\" + 0.005*\"acre\" + 0.005*\"land\" + 0.004*\"building\" + 0.004*\"lots\"'),\n",
       " (4,\n",
       "  '0.023*\"properties\" + 0.020*\"auction\" + 0.017*\"com\" + 0.017*\"sale\" + 0.017*\"auction com\" + 0.015*\"property\" + 0.008*\"details\" + 0.008*\"foreclosure\" + 0.006*\"opportunity\" + 0.006*\"search\"'),\n",
       " (5,\n",
       "  '0.012*\"home\" + 0.009*\"located\" + 0.009*\"washington\" + 0.009*\"square\" + 0.009*\"foot\" + 0.008*\"square foot\" + 0.007*\"single family\" + 0.007*\"single\" + 0.007*\"family\" + 0.007*\"bedrooms\"'),\n",
       " (6,\n",
       "  '0.014*\"room\" + 0.010*\"home\" + 0.007*\"large\" + 0.007*\"master\" + 0.007*\"kitchen\" + 0.006*\"living\" + 0.005*\"bath\" + 0.005*\"floor\" + 0.004*\"bedroom\" + 0.004*\"garage\"'),\n",
       " (7,\n",
       "  '0.004*\"home\" + 0.003*\"lot\" + 0.003*\"garage\" + 0.003*\"living\" + 0.002*\"park\" + 0.002*\"ft\" + 0.002*\"views\" + 0.002*\"area\" + 0.002*\"lakewood\" + 0.002*\"community\"'),\n",
       " (8,\n",
       "  '0.012*\"home\" + 0.011*\"new\" + 0.007*\"room\" + 0.007*\"kitchen\" + 0.006*\"large\" + 0.004*\"living\" + 0.004*\"great\" + 0.004*\"bath\" + 0.004*\"garage\" + 0.003*\"area\"'),\n",
       " (9,\n",
       "  '0.003*\"new\" + 0.003*\"water\" + 0.002*\"great\" + 0.002*\"street\" + 0.002*\"gas\" + 0.002*\"seattle\" + 0.002*\"unit\" + 0.002*\"views\" + 0.002*\"garage\" + 0.001*\"neighborhood\"')]"
      ]
     },
     "execution_count": 20,
     "metadata": {},
     "output_type": "execute_result"
    }
   ],
   "source": [
    "lda.print_topics()"
   ]
  },
  {
   "cell_type": "markdown",
   "metadata": {},
   "source": [
    "I want to remove some of the over used or meaningless words like \"great\", \"lots\", \"home\", \"love\", \"room\", \"ft\", \"foot\", \"square foot\", \"com\", \"search\", \"details\", \"large\", \"perfect\", \"main\", \"area\", \"space\", \"floor\", \"located\", \"beautiful\", \"enjoy\", \"one\", \"easy\", \"location\", \"property\", \"properties\", \"throughout\", \"including\", \"features\", \"also\", \"many\", \"offer\", \"available\", \"like\", \"currently\", \"ready\", \"time\", \"bonus\", \"come\", \"information\", \"calisto\", \"less\", \"selected\", \"westridge\", \"square\", \"found\", \"see\", \"additional\", \"homes\", \"find\", \"sale\", \"sales\", \"design\"."
   ]
  },
  {
   "cell_type": "code",
   "execution_count": 125,
   "metadata": {
    "collapsed": true
   },
   "outputs": [],
   "source": [
    "nltk_stopwords = stopwords.words(\"english\")+[\"great\", \"lots\", \"home\", \"love\", \"room\", \"ft\",\n",
    "                                             \"foot\", \"square foot\", \"com\", \"search\", \"details\",\n",
    "                                             \"large\", \"perfect\", \"main\", \"area\", \"space\", \"floor\",\n",
    "                                             \"located\", \"beautiful\", \"enjoy\", \"one\", \"easy\",\n",
    "                                             \"location\", \"property\", \"properties\", \"throughout\",\n",
    "                                             \"including\", \"features\",\"also\", \"many\", \"offer\",\n",
    "                                             \"available\", \"like\", \"currently\", \"ready\", \"time\",\n",
    "                                             \"bonus\", \"come\", \"information\", \"calisto\", \"less\",\n",
    "                                             \"selected\", \"westridge\", \"square\", \"found\", \"see\",\n",
    "                                             \"additional\", \"homes\", \"find\",\"sale\", \"sales\",\n",
    "                                             \"design\"]"
   ]
  },
  {
   "cell_type": "code",
   "execution_count": 126,
   "metadata": {},
   "outputs": [
    {
     "data": {
      "text/plain": [
       "CountVectorizer(analyzer='word', binary=False, decode_error='strict',\n",
       "        dtype=<class 'numpy.int64'>, encoding='utf-8', input='content',\n",
       "        lowercase=True, max_df=1.0, max_features=None, min_df=1,\n",
       "        ngram_range=(1, 2), preprocessor=None,\n",
       "        stop_words=['i', 'me', 'my', 'myself', 'we', 'our', 'ours', 'ourselves', 'you', \"you're\", \"you've\", \"you'll\", \"you'd\", 'your', 'yours', 'yourself', 'yourselves', 'he', 'him', 'his', 'himself', 'she', \"she's\", 'her', 'hers', 'herself', 'it', \"it's\", 'its', 'itself', 'they', 'them', 'their', 'theirs',...d', 'westridge', 'square', 'found', 'see', 'additional', 'homes', 'find', 'sale', 'sales', 'design'],\n",
       "        strip_accents=None, token_pattern='\\\\b[a-z][a-z]+\\\\b',\n",
       "        tokenizer=None, vocabulary=None)"
      ]
     },
     "execution_count": 126,
     "metadata": {},
     "output_type": "execute_result"
    }
   ],
   "source": [
    "count_vectorizer = CountVectorizer(ngram_range=(1, 2), \n",
    "                                   stop_words=nltk_stopwords,\n",
    "                                   token_pattern=\"\\\\b[a-z][a-z]+\\\\b\")\n",
    "count_vectorizer.fit(desc)"
   ]
  },
  {
   "cell_type": "code",
   "execution_count": 127,
   "metadata": {
    "collapsed": true
   },
   "outputs": [],
   "source": [
    "counts = count_vectorizer.transform(desc).transpose()"
   ]
  },
  {
   "cell_type": "code",
   "execution_count": 128,
   "metadata": {},
   "outputs": [
    {
     "data": {
      "text/plain": [
       "(76717, 2639)"
      ]
     },
     "execution_count": 128,
     "metadata": {},
     "output_type": "execute_result"
    }
   ],
   "source": [
    "counts.shape"
   ]
  },
  {
   "cell_type": "code",
   "execution_count": 129,
   "metadata": {
    "collapsed": true
   },
   "outputs": [],
   "source": [
    "# Convert sparse matrix of counts to a gensim corpus\n",
    "corpus = matutils.Sparse2Corpus(counts)"
   ]
  },
  {
   "cell_type": "code",
   "execution_count": 130,
   "metadata": {
    "collapsed": true
   },
   "outputs": [],
   "source": [
    "id2word = dict((v, k) for k, v in count_vectorizer.vocabulary_.items())"
   ]
  },
  {
   "cell_type": "code",
   "execution_count": 131,
   "metadata": {},
   "outputs": [
    {
     "data": {
      "text/plain": [
       "76717"
      ]
     },
     "execution_count": 131,
     "metadata": {},
     "output_type": "execute_result"
    }
   ],
   "source": [
    "len(id2word)"
   ]
  },
  {
   "cell_type": "code",
   "execution_count": 132,
   "metadata": {},
   "outputs": [
    {
     "name": "stderr",
     "output_type": "stream",
     "text": [
      "2018-02-28 14:17:40,959 : INFO : using symmetric alpha at 0.16666666666666666\n",
      "2018-02-28 14:17:40,963 : INFO : using symmetric eta at 0.16666666666666666\n",
      "2018-02-28 14:17:40,984 : INFO : using serial LDA version on this node\n",
      "2018-02-28 14:17:43,187 : INFO : running online (multi-pass) LDA training, 6 topics, 10 passes over the supplied corpus of 2639 documents, updating model once every 2000 documents, evaluating perplexity every 2639 documents, iterating 50x with a convergence threshold of 0.001000\n",
      "2018-02-28 14:17:43,237 : INFO : PROGRESS: pass 0, at document #2000/2639\n",
      "2018-02-28 14:17:46,591 : INFO : merging changes from 2000 documents into a model of 2639 documents\n",
      "2018-02-28 14:17:46,998 : INFO : topic #3 (0.167): 0.004*\"new\" + 0.004*\"kitchen\" + 0.003*\"lot\" + 0.003*\"master\" + 0.003*\"open\" + 0.003*\"views\" + 0.002*\"living\" + 0.002*\"bedroom\" + 0.002*\"garage\" + 0.002*\"bath\"\n",
      "2018-02-28 14:17:47,000 : INFO : topic #4 (0.167): 0.003*\"new\" + 0.003*\"kitchen\" + 0.003*\"lot\" + 0.002*\"lake\" + 0.002*\"view\" + 0.002*\"auction\" + 0.002*\"living\" + 0.002*\"master\" + 0.002*\"water\" + 0.002*\"views\"\n",
      "2018-02-28 14:17:47,003 : INFO : topic #2 (0.167): 0.003*\"new\" + 0.003*\"kitchen\" + 0.003*\"living\" + 0.003*\"master\" + 0.003*\"bath\" + 0.003*\"level\" + 0.002*\"family\" + 0.002*\"garage\" + 0.002*\"bedrooms\" + 0.002*\"lot\"\n",
      "2018-02-28 14:17:47,006 : INFO : topic #5 (0.167): 0.004*\"kitchen\" + 0.004*\"bath\" + 0.004*\"new\" + 0.003*\"lot\" + 0.003*\"master\" + 0.003*\"living\" + 0.003*\"private\" + 0.003*\"bedrooms\" + 0.002*\"bedroom\" + 0.002*\"open\"\n",
      "2018-02-28 14:17:47,009 : INFO : topic #0 (0.167): 0.004*\"new\" + 0.004*\"kitchen\" + 0.004*\"living\" + 0.003*\"master\" + 0.003*\"views\" + 0.003*\"walk\" + 0.003*\"bedroom\" + 0.003*\"garage\" + 0.002*\"private\" + 0.002*\"lot\"\n",
      "2018-02-28 14:17:47,013 : INFO : topic diff=2.870121, rho=1.000000\n",
      "2018-02-28 14:17:49,188 : INFO : -12.261 per-word bound, 4908.7 perplexity estimate based on a held-out corpus of 639 documents with 55118 words\n",
      "2018-02-28 14:17:49,189 : INFO : PROGRESS: pass 0, at document #2639/2639\n",
      "2018-02-28 14:17:50,364 : INFO : merging changes from 639 documents into a model of 2639 documents\n",
      "2018-02-28 14:17:50,722 : INFO : topic #3 (0.167): 0.006*\"new\" + 0.005*\"kitchen\" + 0.004*\"master\" + 0.004*\"garage\" + 0.003*\"lot\" + 0.003*\"open\" + 0.003*\"living\" + 0.003*\"bath\" + 0.003*\"bedroom\" + 0.002*\"appliances\"\n",
      "2018-02-28 14:17:50,725 : INFO : topic #2 (0.167): 0.005*\"family\" + 0.004*\"new\" + 0.004*\"bedrooms\" + 0.003*\"kitchen\" + 0.003*\"living\" + 0.003*\"bath\" + 0.003*\"master\" + 0.003*\"garage\" + 0.003*\"washington\" + 0.003*\"bathrooms\"\n",
      "2018-02-28 14:17:50,727 : INFO : topic #4 (0.167): 0.003*\"lot\" + 0.003*\"water\" + 0.003*\"view\" + 0.002*\"acres\" + 0.002*\"kitchen\" + 0.002*\"land\" + 0.002*\"lake\" + 0.002*\"new\" + 0.002*\"master\" + 0.001*\"views\"\n",
      "2018-02-28 14:17:50,730 : INFO : topic #5 (0.167): 0.005*\"kitchen\" + 0.005*\"bath\" + 0.004*\"master\" + 0.003*\"living\" + 0.003*\"new\" + 0.003*\"dining\" + 0.003*\"open\" + 0.003*\"lot\" + 0.003*\"bedroom\" + 0.003*\"walk\"\n",
      "2018-02-28 14:17:50,734 : INFO : topic #1 (0.167): 0.010*\"auction\" + 0.004*\"lot\" + 0.004*\"foreclosure\" + 0.004*\"opportunity\" + 0.003*\"scheduled\" + 0.003*\"view\" + 0.002*\"build\" + 0.002*\"acre\" + 0.002*\"acres\" + 0.002*\"water\"\n",
      "2018-02-28 14:17:50,737 : INFO : topic diff=1.716937, rho=0.707107\n",
      "2018-02-28 14:17:50,794 : INFO : PROGRESS: pass 1, at document #2000/2639\n",
      "2018-02-28 14:17:53,299 : INFO : merging changes from 2000 documents into a model of 2639 documents\n",
      "2018-02-28 14:17:53,928 : INFO : topic #5 (0.167): 0.005*\"kitchen\" + 0.005*\"bath\" + 0.004*\"master\" + 0.004*\"living\" + 0.003*\"new\" + 0.003*\"open\" + 0.003*\"bedroom\" + 0.003*\"private\" + 0.003*\"dining\" + 0.003*\"walk\"\n",
      "2018-02-28 14:17:53,931 : INFO : topic #3 (0.167): 0.006*\"new\" + 0.005*\"kitchen\" + 0.003*\"master\" + 0.003*\"garage\" + 0.003*\"lot\" + 0.003*\"open\" + 0.003*\"living\" + 0.003*\"appliances\" + 0.003*\"bath\" + 0.002*\"bedroom\"\n",
      "2018-02-28 14:17:53,933 : INFO : topic #1 (0.167): 0.010*\"auction\" + 0.004*\"lot\" + 0.004*\"foreclosure\" + 0.004*\"opportunity\" + 0.003*\"view\" + 0.003*\"scheduled\" + 0.002*\"build\" + 0.002*\"county\" + 0.002*\"acre\" + 0.002*\"water\"\n",
      "2018-02-28 14:17:53,937 : INFO : topic #0 (0.167): 0.005*\"kitchen\" + 0.004*\"new\" + 0.004*\"living\" + 0.003*\"master\" + 0.003*\"garage\" + 0.003*\"bedroom\" + 0.003*\"bath\" + 0.003*\"views\" + 0.003*\"walk\" + 0.002*\"private\"\n",
      "2018-02-28 14:17:53,942 : INFO : topic #4 (0.167): 0.003*\"water\" + 0.003*\"lot\" + 0.003*\"lake\" + 0.003*\"view\" + 0.002*\"acres\" + 0.002*\"land\" + 0.002*\"views\" + 0.002*\"kitchen\" + 0.002*\"last\" + 0.002*\"community\"\n",
      "2018-02-28 14:17:53,945 : INFO : topic diff=0.828320, rho=0.548863\n",
      "2018-02-28 14:17:55,849 : INFO : -10.118 per-word bound, 1111.3 perplexity estimate based on a held-out corpus of 639 documents with 55118 words\n",
      "2018-02-28 14:17:55,850 : INFO : PROGRESS: pass 1, at document #2639/2639\n",
      "2018-02-28 14:17:56,516 : INFO : merging changes from 639 documents into a model of 2639 documents\n",
      "2018-02-28 14:17:56,696 : INFO : topic #4 (0.167): 0.004*\"lot\" + 0.004*\"water\" + 0.003*\"acres\" + 0.003*\"view\" + 0.003*\"land\" + 0.002*\"lake\" + 0.002*\"build\" + 0.002*\"building\" + 0.002*\"level\" + 0.002*\"access\"\n",
      "2018-02-28 14:17:56,699 : INFO : topic #5 (0.167): 0.006*\"kitchen\" + 0.006*\"bath\" + 0.006*\"master\" + 0.004*\"living\" + 0.003*\"dining\" + 0.003*\"open\" + 0.003*\"walk\" + 0.003*\"bedroom\" + 0.003*\"suite\" + 0.003*\"bedrooms\"\n",
      "2018-02-28 14:17:56,701 : INFO : topic #1 (0.167): 0.012*\"auction\" + 0.005*\"lot\" + 0.005*\"opportunity\" + 0.005*\"foreclosure\" + 0.003*\"scheduled\" + 0.003*\"view\" + 0.003*\"build\" + 0.002*\"county\" + 0.002*\"value\" + 0.002*\"residential\"\n",
      "2018-02-28 14:17:56,704 : INFO : topic #3 (0.167): 0.008*\"new\" + 0.005*\"kitchen\" + 0.004*\"garage\" + 0.004*\"master\" + 0.003*\"bath\" + 0.003*\"lot\" + 0.003*\"living\" + 0.003*\"appliances\" + 0.003*\"open\" + 0.003*\"bedroom\"\n",
      "2018-02-28 14:17:56,709 : INFO : topic #2 (0.167): 0.005*\"family\" + 0.005*\"bedrooms\" + 0.004*\"new\" + 0.003*\"washington\" + 0.003*\"bathrooms\" + 0.003*\"kitchen\" + 0.003*\"living\" + 0.003*\"bedrooms bathrooms\" + 0.003*\"single\" + 0.003*\"bath\"\n",
      "2018-02-28 14:17:56,714 : INFO : topic diff=0.600780, rho=0.548863\n",
      "2018-02-28 14:17:56,777 : INFO : PROGRESS: pass 2, at document #2000/2639\n",
      "2018-02-28 14:17:58,628 : INFO : merging changes from 2000 documents into a model of 2639 documents\n",
      "2018-02-28 14:17:59,479 : INFO : topic #0 (0.167): 0.005*\"kitchen\" + 0.004*\"living\" + 0.004*\"master\" + 0.003*\"new\" + 0.003*\"bath\" + 0.003*\"garage\" + 0.003*\"views\" + 0.003*\"bedroom\" + 0.003*\"walk\" + 0.002*\"open\"\n",
      "2018-02-28 14:17:59,481 : INFO : topic #4 (0.167): 0.004*\"lot\" + 0.004*\"water\" + 0.003*\"acres\" + 0.003*\"lake\" + 0.003*\"view\" + 0.002*\"land\" + 0.002*\"building\" + 0.002*\"build\" + 0.002*\"last\" + 0.002*\"views\"\n",
      "2018-02-28 14:17:59,484 : INFO : topic #5 (0.167): 0.006*\"kitchen\" + 0.005*\"bath\" + 0.005*\"master\" + 0.004*\"living\" + 0.003*\"open\" + 0.003*\"walk\" + 0.003*\"dining\" + 0.003*\"bedroom\" + 0.003*\"new\" + 0.003*\"suite\"\n",
      "2018-02-28 14:17:59,487 : INFO : topic #3 (0.167): 0.008*\"new\" + 0.005*\"kitchen\" + 0.003*\"master\" + 0.003*\"garage\" + 0.003*\"living\" + 0.003*\"lot\" + 0.003*\"bath\" + 0.003*\"open\" + 0.003*\"appliances\" + 0.003*\"bedroom\"\n",
      "2018-02-28 14:17:59,490 : INFO : topic #1 (0.167): 0.011*\"auction\" + 0.005*\"lot\" + 0.005*\"opportunity\" + 0.005*\"foreclosure\" + 0.003*\"scheduled\" + 0.003*\"view\" + 0.003*\"build\" + 0.003*\"county\" + 0.002*\"acre\" + 0.002*\"value\"\n",
      "2018-02-28 14:17:59,496 : INFO : topic diff=0.449456, rho=0.481153\n",
      "2018-02-28 14:18:01,339 : INFO : -9.803 per-word bound, 893.3 perplexity estimate based on a held-out corpus of 639 documents with 55118 words\n",
      "2018-02-28 14:18:01,340 : INFO : PROGRESS: pass 2, at document #2639/2639\n",
      "2018-02-28 14:18:01,831 : INFO : merging changes from 639 documents into a model of 2639 documents\n",
      "2018-02-28 14:18:02,006 : INFO : topic #4 (0.167): 0.005*\"lot\" + 0.004*\"water\" + 0.004*\"acres\" + 0.003*\"land\" + 0.003*\"view\" + 0.002*\"lake\" + 0.002*\"build\" + 0.002*\"building\" + 0.002*\"level\" + 0.002*\"access\"\n",
      "2018-02-28 14:18:02,008 : INFO : topic #0 (0.167): 0.005*\"kitchen\" + 0.004*\"living\" + 0.004*\"master\" + 0.003*\"bath\" + 0.003*\"garage\" + 0.003*\"new\" + 0.003*\"walk\" + 0.003*\"views\" + 0.002*\"open\" + 0.002*\"bedroom\"\n",
      "2018-02-28 14:18:02,011 : INFO : topic #2 (0.167): 0.005*\"family\" + 0.005*\"bedrooms\" + 0.004*\"new\" + 0.003*\"washington\" + 0.003*\"bathrooms\" + 0.003*\"bedrooms bathrooms\" + 0.003*\"kitchen\" + 0.003*\"living\" + 0.003*\"single\" + 0.003*\"single family\"\n"
     ]
    },
    {
     "name": "stderr",
     "output_type": "stream",
     "text": [
      "2018-02-28 14:18:02,014 : INFO : topic #3 (0.167): 0.009*\"new\" + 0.005*\"kitchen\" + 0.004*\"garage\" + 0.004*\"master\" + 0.003*\"bath\" + 0.003*\"living\" + 0.003*\"appliances\" + 0.003*\"lot\" + 0.003*\"bedroom\" + 0.003*\"open\"\n",
      "2018-02-28 14:18:02,018 : INFO : topic #1 (0.167): 0.013*\"auction\" + 0.006*\"opportunity\" + 0.006*\"lot\" + 0.005*\"foreclosure\" + 0.004*\"scheduled\" + 0.003*\"view\" + 0.003*\"build\" + 0.003*\"county\" + 0.003*\"value\" + 0.002*\"residential\"\n",
      "2018-02-28 14:18:02,025 : INFO : topic diff=0.353960, rho=0.481153\n",
      "2018-02-28 14:18:02,080 : INFO : PROGRESS: pass 3, at document #2000/2639\n",
      "2018-02-28 14:18:03,840 : INFO : merging changes from 2000 documents into a model of 2639 documents\n",
      "2018-02-28 14:18:04,761 : INFO : topic #1 (0.167): 0.012*\"auction\" + 0.005*\"lot\" + 0.005*\"opportunity\" + 0.005*\"foreclosure\" + 0.003*\"scheduled\" + 0.003*\"view\" + 0.003*\"build\" + 0.003*\"county\" + 0.002*\"acre\" + 0.002*\"residential\"\n",
      "2018-02-28 14:18:04,764 : INFO : topic #5 (0.167): 0.006*\"kitchen\" + 0.006*\"master\" + 0.006*\"bath\" + 0.005*\"living\" + 0.004*\"walk\" + 0.004*\"dining\" + 0.004*\"open\" + 0.003*\"bedroom\" + 0.003*\"suite\" + 0.003*\"bedrooms\"\n",
      "2018-02-28 14:18:04,767 : INFO : topic #4 (0.167): 0.004*\"lot\" + 0.004*\"water\" + 0.003*\"acres\" + 0.003*\"lake\" + 0.003*\"land\" + 0.003*\"view\" + 0.002*\"build\" + 0.002*\"building\" + 0.002*\"site\" + 0.002*\"last\"\n",
      "2018-02-28 14:18:04,770 : INFO : topic #3 (0.167): 0.008*\"new\" + 0.005*\"kitchen\" + 0.003*\"master\" + 0.003*\"garage\" + 0.003*\"bath\" + 0.003*\"living\" + 0.003*\"appliances\" + 0.003*\"lot\" + 0.003*\"open\" + 0.003*\"bedroom\"\n",
      "2018-02-28 14:18:04,773 : INFO : topic #0 (0.167): 0.005*\"kitchen\" + 0.004*\"living\" + 0.004*\"master\" + 0.003*\"bath\" + 0.003*\"new\" + 0.003*\"views\" + 0.003*\"garage\" + 0.003*\"bedroom\" + 0.003*\"walk\" + 0.002*\"open\"\n",
      "2018-02-28 14:18:04,776 : INFO : topic diff=0.296871, rho=0.433575\n",
      "2018-02-28 14:18:06,657 : INFO : -9.678 per-word bound, 819.2 perplexity estimate based on a held-out corpus of 639 documents with 55118 words\n",
      "2018-02-28 14:18:06,658 : INFO : PROGRESS: pass 3, at document #2639/2639\n",
      "2018-02-28 14:18:07,095 : INFO : merging changes from 639 documents into a model of 2639 documents\n",
      "2018-02-28 14:18:07,256 : INFO : topic #1 (0.167): 0.013*\"auction\" + 0.006*\"lot\" + 0.006*\"opportunity\" + 0.006*\"foreclosure\" + 0.004*\"scheduled\" + 0.003*\"view\" + 0.003*\"build\" + 0.003*\"county\" + 0.003*\"residential\" + 0.003*\"value\"\n",
      "2018-02-28 14:18:07,259 : INFO : topic #5 (0.167): 0.007*\"kitchen\" + 0.006*\"master\" + 0.006*\"bath\" + 0.005*\"living\" + 0.004*\"walk\" + 0.004*\"dining\" + 0.004*\"open\" + 0.003*\"suite\" + 0.003*\"bedroom\" + 0.003*\"bedrooms\"\n",
      "2018-02-28 14:18:07,262 : INFO : topic #0 (0.167): 0.005*\"kitchen\" + 0.004*\"living\" + 0.004*\"master\" + 0.003*\"bath\" + 0.003*\"garage\" + 0.003*\"new\" + 0.003*\"views\" + 0.003*\"walk\" + 0.002*\"custom\" + 0.002*\"open\"\n",
      "2018-02-28 14:18:07,265 : INFO : topic #3 (0.167): 0.009*\"new\" + 0.005*\"kitchen\" + 0.004*\"garage\" + 0.003*\"master\" + 0.003*\"bath\" + 0.003*\"living\" + 0.003*\"appliances\" + 0.003*\"lot\" + 0.003*\"bedroom\" + 0.002*\"open\"\n",
      "2018-02-28 14:18:07,268 : INFO : topic #4 (0.167): 0.005*\"lot\" + 0.004*\"water\" + 0.004*\"acres\" + 0.003*\"land\" + 0.003*\"view\" + 0.002*\"lake\" + 0.002*\"build\" + 0.002*\"building\" + 0.002*\"level\" + 0.002*\"access\"\n",
      "2018-02-28 14:18:07,272 : INFO : topic diff=0.249688, rho=0.433575\n",
      "2018-02-28 14:18:07,326 : INFO : PROGRESS: pass 4, at document #2000/2639\n",
      "2018-02-28 14:18:09,027 : INFO : merging changes from 2000 documents into a model of 2639 documents\n",
      "2018-02-28 14:18:09,970 : INFO : topic #0 (0.167): 0.005*\"kitchen\" + 0.004*\"living\" + 0.004*\"master\" + 0.003*\"bath\" + 0.003*\"views\" + 0.003*\"garage\" + 0.003*\"new\" + 0.003*\"walk\" + 0.003*\"bedroom\" + 0.002*\"deck\"\n",
      "2018-02-28 14:18:09,973 : INFO : topic #5 (0.167): 0.006*\"kitchen\" + 0.006*\"master\" + 0.006*\"bath\" + 0.005*\"living\" + 0.004*\"walk\" + 0.004*\"dining\" + 0.004*\"open\" + 0.003*\"bedroom\" + 0.003*\"suite\" + 0.003*\"bedrooms\"\n",
      "2018-02-28 14:18:09,976 : INFO : topic #1 (0.167): 0.012*\"auction\" + 0.005*\"lot\" + 0.005*\"opportunity\" + 0.005*\"foreclosure\" + 0.003*\"scheduled\" + 0.003*\"view\" + 0.003*\"build\" + 0.003*\"county\" + 0.003*\"residential\" + 0.002*\"acre\"\n",
      "2018-02-28 14:18:09,979 : INFO : topic #3 (0.167): 0.009*\"new\" + 0.005*\"kitchen\" + 0.003*\"garage\" + 0.003*\"master\" + 0.003*\"bath\" + 0.003*\"living\" + 0.003*\"appliances\" + 0.003*\"lot\" + 0.003*\"open\" + 0.003*\"bedroom\"\n",
      "2018-02-28 14:18:09,983 : INFO : topic #4 (0.167): 0.005*\"lot\" + 0.004*\"water\" + 0.004*\"acres\" + 0.003*\"lake\" + 0.003*\"land\" + 0.003*\"view\" + 0.002*\"build\" + 0.002*\"building\" + 0.002*\"site\" + 0.002*\"last\"\n",
      "2018-02-28 14:18:09,987 : INFO : topic diff=0.224159, rho=0.397794\n",
      "2018-02-28 14:18:11,784 : INFO : -9.614 per-word bound, 783.4 perplexity estimate based on a held-out corpus of 639 documents with 55118 words\n",
      "2018-02-28 14:18:11,785 : INFO : PROGRESS: pass 4, at document #2639/2639\n",
      "2018-02-28 14:18:12,183 : INFO : merging changes from 639 documents into a model of 2639 documents\n",
      "2018-02-28 14:18:12,345 : INFO : topic #5 (0.167): 0.007*\"kitchen\" + 0.007*\"master\" + 0.006*\"bath\" + 0.005*\"living\" + 0.004*\"walk\" + 0.004*\"dining\" + 0.004*\"open\" + 0.004*\"suite\" + 0.003*\"bedroom\" + 0.003*\"fireplace\"\n",
      "2018-02-28 14:18:12,348 : INFO : topic #4 (0.167): 0.005*\"lot\" + 0.004*\"water\" + 0.004*\"acres\" + 0.003*\"land\" + 0.003*\"view\" + 0.002*\"build\" + 0.002*\"lake\" + 0.002*\"building\" + 0.002*\"level\" + 0.002*\"access\"\n",
      "2018-02-28 14:18:12,350 : INFO : topic #2 (0.167): 0.005*\"family\" + 0.005*\"bedrooms\" + 0.004*\"new\" + 0.004*\"washington\" + 0.003*\"bathrooms\" + 0.003*\"bedrooms bathrooms\" + 0.003*\"living\" + 0.003*\"single\" + 0.003*\"kitchen\" + 0.003*\"single family\"\n",
      "2018-02-28 14:18:12,352 : INFO : topic #1 (0.167): 0.013*\"auction\" + 0.006*\"lot\" + 0.006*\"opportunity\" + 0.006*\"foreclosure\" + 0.004*\"scheduled\" + 0.003*\"view\" + 0.003*\"build\" + 0.003*\"county\" + 0.003*\"residential\" + 0.003*\"value\"\n",
      "2018-02-28 14:18:12,355 : INFO : topic #0 (0.167): 0.005*\"kitchen\" + 0.004*\"living\" + 0.004*\"master\" + 0.003*\"bath\" + 0.003*\"garage\" + 0.003*\"views\" + 0.003*\"walk\" + 0.003*\"new\" + 0.002*\"custom\" + 0.002*\"open\"\n",
      "2018-02-28 14:18:12,360 : INFO : topic diff=0.199425, rho=0.397794\n",
      "2018-02-28 14:18:12,417 : INFO : PROGRESS: pass 5, at document #2000/2639\n",
      "2018-02-28 14:18:14,045 : INFO : merging changes from 2000 documents into a model of 2639 documents\n",
      "2018-02-28 14:18:14,417 : INFO : topic #1 (0.167): 0.012*\"auction\" + 0.006*\"lot\" + 0.005*\"opportunity\" + 0.005*\"foreclosure\" + 0.003*\"scheduled\" + 0.003*\"view\" + 0.003*\"build\" + 0.003*\"county\" + 0.003*\"residential\" + 0.003*\"acre\"\n",
      "2018-02-28 14:18:14,419 : INFO : topic #3 (0.167): 0.009*\"new\" + 0.005*\"kitchen\" + 0.003*\"garage\" + 0.003*\"master\" + 0.003*\"bath\" + 0.003*\"appliances\" + 0.003*\"living\" + 0.003*\"lot\" + 0.003*\"bedroom\" + 0.003*\"open\"\n",
      "2018-02-28 14:18:14,422 : INFO : topic #5 (0.167): 0.007*\"kitchen\" + 0.006*\"master\" + 0.006*\"bath\" + 0.005*\"living\" + 0.004*\"walk\" + 0.004*\"dining\" + 0.004*\"open\" + 0.003*\"suite\" + 0.003*\"bedroom\" + 0.003*\"bedrooms\"\n",
      "2018-02-28 14:18:14,425 : INFO : topic #4 (0.167): 0.005*\"lot\" + 0.004*\"water\" + 0.004*\"acres\" + 0.003*\"lake\" + 0.003*\"land\" + 0.003*\"view\" + 0.002*\"build\" + 0.002*\"building\" + 0.002*\"site\" + 0.002*\"level\"\n",
      "2018-02-28 14:18:14,428 : INFO : topic #2 (0.167): 0.004*\"family\" + 0.004*\"bedrooms\" + 0.004*\"washington\" + 0.003*\"new\" + 0.003*\"bathrooms\" + 0.003*\"living\" + 0.003*\"bedrooms bathrooms\" + 0.003*\"kitchen\" + 0.003*\"single\" + 0.003*\"single family\"\n",
      "2018-02-28 14:18:14,433 : INFO : topic diff=0.185323, rho=0.369623\n",
      "2018-02-28 14:18:15,949 : INFO : -9.576 per-word bound, 763.2 perplexity estimate based on a held-out corpus of 639 documents with 55118 words\n",
      "2018-02-28 14:18:15,950 : INFO : PROGRESS: pass 5, at document #2639/2639\n",
      "2018-02-28 14:18:16,339 : INFO : merging changes from 639 documents into a model of 2639 documents\n",
      "2018-02-28 14:18:16,495 : INFO : topic #1 (0.167): 0.013*\"auction\" + 0.006*\"lot\" + 0.006*\"opportunity\" + 0.006*\"foreclosure\" + 0.004*\"scheduled\" + 0.003*\"view\" + 0.003*\"build\" + 0.003*\"county\" + 0.003*\"residential\" + 0.003*\"value\"\n",
      "2018-02-28 14:18:16,497 : INFO : topic #4 (0.167): 0.005*\"lot\" + 0.004*\"water\" + 0.004*\"acres\" + 0.003*\"land\" + 0.003*\"view\" + 0.002*\"build\" + 0.002*\"lake\" + 0.002*\"building\" + 0.002*\"level\" + 0.002*\"access\"\n"
     ]
    },
    {
     "name": "stderr",
     "output_type": "stream",
     "text": [
      "2018-02-28 14:18:16,500 : INFO : topic #0 (0.167): 0.005*\"kitchen\" + 0.004*\"living\" + 0.004*\"master\" + 0.003*\"bath\" + 0.003*\"garage\" + 0.003*\"views\" + 0.003*\"walk\" + 0.003*\"new\" + 0.002*\"custom\" + 0.002*\"car\"\n",
      "2018-02-28 14:18:16,502 : INFO : topic #2 (0.167): 0.005*\"family\" + 0.005*\"bedrooms\" + 0.004*\"washington\" + 0.004*\"new\" + 0.003*\"bathrooms\" + 0.003*\"bedrooms bathrooms\" + 0.003*\"living\" + 0.003*\"single\" + 0.003*\"single family\" + 0.003*\"kitchen\"\n",
      "2018-02-28 14:18:16,505 : INFO : topic #3 (0.167): 0.009*\"new\" + 0.005*\"kitchen\" + 0.004*\"garage\" + 0.003*\"master\" + 0.003*\"bath\" + 0.003*\"appliances\" + 0.003*\"living\" + 0.003*\"bedroom\" + 0.003*\"lot\" + 0.002*\"close\"\n",
      "2018-02-28 14:18:16,510 : INFO : topic diff=0.171173, rho=0.369623\n",
      "2018-02-28 14:18:16,564 : INFO : PROGRESS: pass 6, at document #2000/2639\n",
      "2018-02-28 14:18:18,181 : INFO : merging changes from 2000 documents into a model of 2639 documents\n",
      "2018-02-28 14:18:18,555 : INFO : topic #5 (0.167): 0.007*\"kitchen\" + 0.006*\"master\" + 0.006*\"bath\" + 0.005*\"living\" + 0.004*\"walk\" + 0.004*\"dining\" + 0.004*\"open\" + 0.003*\"suite\" + 0.003*\"bedroom\" + 0.003*\"bedrooms\"\n",
      "2018-02-28 14:18:18,558 : INFO : topic #4 (0.167): 0.005*\"lot\" + 0.004*\"water\" + 0.004*\"acres\" + 0.003*\"land\" + 0.003*\"lake\" + 0.003*\"view\" + 0.002*\"build\" + 0.002*\"building\" + 0.002*\"site\" + 0.002*\"level\"\n",
      "2018-02-28 14:18:18,561 : INFO : topic #0 (0.167): 0.005*\"kitchen\" + 0.004*\"living\" + 0.004*\"master\" + 0.003*\"views\" + 0.003*\"bath\" + 0.003*\"garage\" + 0.003*\"new\" + 0.003*\"walk\" + 0.002*\"private\" + 0.002*\"bedroom\"\n",
      "2018-02-28 14:18:18,564 : INFO : topic #1 (0.167): 0.012*\"auction\" + 0.006*\"lot\" + 0.005*\"opportunity\" + 0.005*\"foreclosure\" + 0.003*\"scheduled\" + 0.003*\"view\" + 0.003*\"build\" + 0.003*\"county\" + 0.003*\"residential\" + 0.003*\"acre\"\n",
      "2018-02-28 14:18:18,566 : INFO : topic #2 (0.167): 0.004*\"family\" + 0.004*\"bedrooms\" + 0.004*\"washington\" + 0.003*\"new\" + 0.003*\"bathrooms\" + 0.003*\"living\" + 0.003*\"bedrooms bathrooms\" + 0.003*\"single\" + 0.003*\"kitchen\" + 0.003*\"single family\"\n",
      "2018-02-28 14:18:18,568 : INFO : topic diff=0.161782, rho=0.346698\n",
      "2018-02-28 14:18:20,058 : INFO : -9.552 per-word bound, 750.7 perplexity estimate based on a held-out corpus of 639 documents with 55118 words\n",
      "2018-02-28 14:18:20,060 : INFO : PROGRESS: pass 6, at document #2639/2639\n",
      "2018-02-28 14:18:20,432 : INFO : merging changes from 639 documents into a model of 2639 documents\n",
      "2018-02-28 14:18:20,586 : INFO : topic #5 (0.167): 0.007*\"kitchen\" + 0.007*\"master\" + 0.006*\"bath\" + 0.005*\"living\" + 0.004*\"walk\" + 0.004*\"dining\" + 0.004*\"open\" + 0.004*\"suite\" + 0.003*\"bedroom\" + 0.003*\"fireplace\"\n",
      "2018-02-28 14:18:20,589 : INFO : topic #3 (0.167): 0.009*\"new\" + 0.005*\"kitchen\" + 0.004*\"garage\" + 0.003*\"master\" + 0.003*\"bath\" + 0.003*\"appliances\" + 0.003*\"living\" + 0.003*\"bedroom\" + 0.003*\"lot\" + 0.002*\"close\"\n",
      "2018-02-28 14:18:20,591 : INFO : topic #4 (0.167): 0.005*\"lot\" + 0.004*\"water\" + 0.004*\"acres\" + 0.003*\"land\" + 0.003*\"view\" + 0.002*\"build\" + 0.002*\"lake\" + 0.002*\"building\" + 0.002*\"level\" + 0.002*\"access\"\n",
      "2018-02-28 14:18:20,595 : INFO : topic #2 (0.167): 0.005*\"family\" + 0.005*\"bedrooms\" + 0.004*\"washington\" + 0.004*\"new\" + 0.003*\"bathrooms\" + 0.003*\"bedrooms bathrooms\" + 0.003*\"living\" + 0.003*\"single\" + 0.003*\"single family\" + 0.003*\"kitchen\"\n",
      "2018-02-28 14:18:20,597 : INFO : topic #1 (0.167): 0.013*\"auction\" + 0.006*\"lot\" + 0.006*\"opportunity\" + 0.006*\"foreclosure\" + 0.004*\"scheduled\" + 0.003*\"view\" + 0.003*\"build\" + 0.003*\"county\" + 0.003*\"residential\" + 0.003*\"value\"\n",
      "2018-02-28 14:18:20,601 : INFO : topic diff=0.153190, rho=0.346698\n",
      "2018-02-28 14:18:20,652 : INFO : PROGRESS: pass 7, at document #2000/2639\n",
      "2018-02-28 14:18:22,223 : INFO : merging changes from 2000 documents into a model of 2639 documents\n",
      "2018-02-28 14:18:22,588 : INFO : topic #1 (0.167): 0.012*\"auction\" + 0.006*\"lot\" + 0.005*\"opportunity\" + 0.005*\"foreclosure\" + 0.003*\"scheduled\" + 0.003*\"view\" + 0.003*\"build\" + 0.003*\"county\" + 0.003*\"residential\" + 0.002*\"acre\"\n",
      "2018-02-28 14:18:22,591 : INFO : topic #0 (0.167): 0.005*\"kitchen\" + 0.004*\"living\" + 0.004*\"master\" + 0.003*\"views\" + 0.003*\"bath\" + 0.003*\"garage\" + 0.003*\"walk\" + 0.002*\"private\" + 0.002*\"new\" + 0.002*\"deck\"\n",
      "2018-02-28 14:18:22,593 : INFO : topic #4 (0.167): 0.005*\"lot\" + 0.004*\"water\" + 0.004*\"acres\" + 0.003*\"land\" + 0.003*\"lake\" + 0.003*\"view\" + 0.003*\"build\" + 0.002*\"building\" + 0.002*\"site\" + 0.002*\"level\"\n",
      "2018-02-28 14:18:22,596 : INFO : topic #3 (0.167): 0.009*\"new\" + 0.005*\"kitchen\" + 0.003*\"garage\" + 0.003*\"master\" + 0.003*\"bath\" + 0.003*\"appliances\" + 0.003*\"living\" + 0.003*\"bedroom\" + 0.003*\"lot\" + 0.003*\"open\"\n",
      "2018-02-28 14:18:22,600 : INFO : topic #5 (0.167): 0.007*\"kitchen\" + 0.006*\"master\" + 0.006*\"bath\" + 0.005*\"living\" + 0.004*\"walk\" + 0.004*\"dining\" + 0.004*\"open\" + 0.004*\"suite\" + 0.003*\"bedroom\" + 0.003*\"bedrooms\"\n",
      "2018-02-28 14:18:22,601 : INFO : topic diff=0.145789, rho=0.327570\n",
      "2018-02-28 14:18:24,101 : INFO : -9.535 per-word bound, 742.0 perplexity estimate based on a held-out corpus of 639 documents with 55118 words\n",
      "2018-02-28 14:18:24,103 : INFO : PROGRESS: pass 7, at document #2639/2639\n",
      "2018-02-28 14:18:24,468 : INFO : merging changes from 639 documents into a model of 2639 documents\n",
      "2018-02-28 14:18:24,620 : INFO : topic #4 (0.167): 0.005*\"lot\" + 0.004*\"water\" + 0.004*\"acres\" + 0.003*\"land\" + 0.003*\"view\" + 0.003*\"build\" + 0.002*\"lake\" + 0.002*\"building\" + 0.002*\"level\" + 0.002*\"site\"\n",
      "2018-02-28 14:18:24,625 : INFO : topic #2 (0.167): 0.005*\"family\" + 0.005*\"bedrooms\" + 0.004*\"washington\" + 0.003*\"new\" + 0.003*\"bathrooms\" + 0.003*\"bedrooms bathrooms\" + 0.003*\"single\" + 0.003*\"living\" + 0.003*\"single family\" + 0.003*\"kitchen\"\n",
      "2018-02-28 14:18:24,629 : INFO : topic #1 (0.167): 0.013*\"auction\" + 0.006*\"lot\" + 0.006*\"opportunity\" + 0.006*\"foreclosure\" + 0.004*\"scheduled\" + 0.003*\"view\" + 0.003*\"build\" + 0.003*\"county\" + 0.003*\"residential\" + 0.003*\"value\"\n",
      "2018-02-28 14:18:24,632 : INFO : topic #3 (0.167): 0.009*\"new\" + 0.005*\"kitchen\" + 0.004*\"garage\" + 0.003*\"master\" + 0.003*\"bath\" + 0.003*\"appliances\" + 0.003*\"living\" + 0.003*\"bedroom\" + 0.003*\"lot\" + 0.002*\"floors\"\n",
      "2018-02-28 14:18:24,635 : INFO : topic #5 (0.167): 0.007*\"kitchen\" + 0.007*\"master\" + 0.006*\"bath\" + 0.005*\"living\" + 0.004*\"walk\" + 0.004*\"dining\" + 0.004*\"open\" + 0.004*\"suite\" + 0.003*\"bedroom\" + 0.003*\"fireplace\"\n",
      "2018-02-28 14:18:24,638 : INFO : topic diff=0.140238, rho=0.327570\n",
      "2018-02-28 14:18:24,691 : INFO : PROGRESS: pass 8, at document #2000/2639\n",
      "2018-02-28 14:18:26,258 : INFO : merging changes from 2000 documents into a model of 2639 documents\n",
      "2018-02-28 14:18:26,622 : INFO : topic #4 (0.167): 0.005*\"lot\" + 0.004*\"water\" + 0.004*\"acres\" + 0.003*\"land\" + 0.003*\"lake\" + 0.003*\"view\" + 0.003*\"build\" + 0.002*\"building\" + 0.002*\"site\" + 0.002*\"level\"\n",
      "2018-02-28 14:18:26,625 : INFO : topic #5 (0.167): 0.007*\"kitchen\" + 0.006*\"master\" + 0.006*\"bath\" + 0.005*\"living\" + 0.004*\"walk\" + 0.004*\"dining\" + 0.004*\"open\" + 0.004*\"suite\" + 0.003*\"bedroom\" + 0.003*\"fireplace\"\n",
      "2018-02-28 14:18:26,628 : INFO : topic #3 (0.167): 0.009*\"new\" + 0.005*\"kitchen\" + 0.003*\"garage\" + 0.003*\"master\" + 0.003*\"bath\" + 0.003*\"appliances\" + 0.003*\"living\" + 0.003*\"bedroom\" + 0.003*\"lot\" + 0.002*\"floors\"\n",
      "2018-02-28 14:18:26,630 : INFO : topic #0 (0.167): 0.005*\"kitchen\" + 0.004*\"living\" + 0.004*\"master\" + 0.003*\"views\" + 0.003*\"bath\" + 0.003*\"garage\" + 0.002*\"walk\" + 0.002*\"private\" + 0.002*\"deck\" + 0.002*\"custom\"\n",
      "2018-02-28 14:18:26,633 : INFO : topic #1 (0.167): 0.012*\"auction\" + 0.006*\"lot\" + 0.005*\"opportunity\" + 0.005*\"foreclosure\" + 0.003*\"scheduled\" + 0.003*\"view\" + 0.003*\"build\" + 0.003*\"county\" + 0.003*\"residential\" + 0.002*\"acre\"\n",
      "2018-02-28 14:18:26,635 : INFO : topic diff=0.134080, rho=0.311294\n",
      "2018-02-28 14:18:28,118 : INFO : -9.522 per-word bound, 735.4 perplexity estimate based on a held-out corpus of 639 documents with 55118 words\n",
      "2018-02-28 14:18:28,120 : INFO : PROGRESS: pass 8, at document #2639/2639\n",
      "2018-02-28 14:18:28,477 : INFO : merging changes from 639 documents into a model of 2639 documents\n",
      "2018-02-28 14:18:28,631 : INFO : topic #0 (0.167): 0.005*\"kitchen\" + 0.004*\"living\" + 0.004*\"master\" + 0.003*\"bath\" + 0.003*\"garage\" + 0.003*\"views\" + 0.003*\"walk\" + 0.002*\"custom\" + 0.002*\"private\" + 0.002*\"car\"\n"
     ]
    },
    {
     "name": "stderr",
     "output_type": "stream",
     "text": [
      "2018-02-28 14:18:28,633 : INFO : topic #1 (0.167): 0.013*\"auction\" + 0.006*\"lot\" + 0.006*\"foreclosure\" + 0.006*\"opportunity\" + 0.004*\"scheduled\" + 0.003*\"view\" + 0.003*\"build\" + 0.003*\"county\" + 0.003*\"residential\" + 0.003*\"value\"\n",
      "2018-02-28 14:18:28,636 : INFO : topic #4 (0.167): 0.005*\"lot\" + 0.004*\"water\" + 0.004*\"acres\" + 0.003*\"land\" + 0.003*\"view\" + 0.003*\"build\" + 0.002*\"lake\" + 0.002*\"building\" + 0.002*\"level\" + 0.002*\"site\"\n",
      "2018-02-28 14:18:28,639 : INFO : topic #5 (0.167): 0.007*\"kitchen\" + 0.007*\"master\" + 0.006*\"bath\" + 0.005*\"living\" + 0.004*\"walk\" + 0.004*\"dining\" + 0.004*\"open\" + 0.004*\"suite\" + 0.003*\"bedroom\" + 0.003*\"fireplace\"\n",
      "2018-02-28 14:18:28,642 : INFO : topic #2 (0.167): 0.005*\"family\" + 0.005*\"bedrooms\" + 0.004*\"washington\" + 0.003*\"bathrooms\" + 0.003*\"new\" + 0.003*\"bedrooms bathrooms\" + 0.003*\"single\" + 0.003*\"living\" + 0.003*\"single family\" + 0.003*\"kitchen\"\n",
      "2018-02-28 14:18:28,646 : INFO : topic diff=0.130167, rho=0.311294\n",
      "2018-02-28 14:18:28,702 : INFO : PROGRESS: pass 9, at document #2000/2639\n",
      "2018-02-28 14:18:30,231 : INFO : merging changes from 2000 documents into a model of 2639 documents\n",
      "2018-02-28 14:18:30,596 : INFO : topic #2 (0.167): 0.004*\"family\" + 0.004*\"bedrooms\" + 0.004*\"washington\" + 0.003*\"bathrooms\" + 0.003*\"new\" + 0.003*\"living\" + 0.003*\"bedrooms bathrooms\" + 0.003*\"single\" + 0.003*\"single family\" + 0.003*\"kitchen\"\n",
      "2018-02-28 14:18:30,598 : INFO : topic #0 (0.167): 0.005*\"kitchen\" + 0.004*\"living\" + 0.004*\"master\" + 0.003*\"views\" + 0.003*\"bath\" + 0.003*\"garage\" + 0.002*\"walk\" + 0.002*\"private\" + 0.002*\"deck\" + 0.002*\"custom\"\n",
      "2018-02-28 14:18:30,601 : INFO : topic #3 (0.167): 0.009*\"new\" + 0.005*\"kitchen\" + 0.003*\"garage\" + 0.003*\"master\" + 0.003*\"bath\" + 0.003*\"appliances\" + 0.003*\"living\" + 0.003*\"bedroom\" + 0.003*\"floors\" + 0.002*\"lot\"\n",
      "2018-02-28 14:18:30,603 : INFO : topic #4 (0.167): 0.005*\"lot\" + 0.004*\"water\" + 0.004*\"acres\" + 0.003*\"land\" + 0.003*\"lake\" + 0.003*\"build\" + 0.003*\"view\" + 0.002*\"building\" + 0.002*\"site\" + 0.002*\"level\"\n",
      "2018-02-28 14:18:30,606 : INFO : topic #5 (0.167): 0.007*\"kitchen\" + 0.006*\"master\" + 0.006*\"bath\" + 0.005*\"living\" + 0.004*\"walk\" + 0.004*\"dining\" + 0.004*\"open\" + 0.004*\"suite\" + 0.003*\"bedroom\" + 0.003*\"fireplace\"\n",
      "2018-02-28 14:18:30,608 : INFO : topic diff=0.124945, rho=0.297226\n",
      "2018-02-28 14:18:32,081 : INFO : -9.512 per-word bound, 730.3 perplexity estimate based on a held-out corpus of 639 documents with 55118 words\n",
      "2018-02-28 14:18:32,082 : INFO : PROGRESS: pass 9, at document #2639/2639\n",
      "2018-02-28 14:18:32,439 : INFO : merging changes from 639 documents into a model of 2639 documents\n",
      "2018-02-28 14:18:32,585 : INFO : topic #4 (0.167): 0.005*\"lot\" + 0.004*\"water\" + 0.004*\"acres\" + 0.003*\"land\" + 0.003*\"view\" + 0.003*\"build\" + 0.002*\"lake\" + 0.002*\"building\" + 0.002*\"level\" + 0.002*\"site\"\n",
      "2018-02-28 14:18:32,588 : INFO : topic #1 (0.167): 0.013*\"auction\" + 0.006*\"lot\" + 0.006*\"foreclosure\" + 0.006*\"opportunity\" + 0.004*\"scheduled\" + 0.003*\"view\" + 0.003*\"build\" + 0.003*\"county\" + 0.003*\"residential\" + 0.003*\"value\"\n",
      "2018-02-28 14:18:32,590 : INFO : topic #0 (0.167): 0.005*\"kitchen\" + 0.004*\"living\" + 0.004*\"master\" + 0.003*\"bath\" + 0.003*\"garage\" + 0.003*\"views\" + 0.003*\"walk\" + 0.003*\"custom\" + 0.002*\"private\" + 0.002*\"car\"\n",
      "2018-02-28 14:18:32,593 : INFO : topic #5 (0.167): 0.007*\"kitchen\" + 0.007*\"master\" + 0.006*\"bath\" + 0.005*\"living\" + 0.004*\"walk\" + 0.004*\"dining\" + 0.004*\"open\" + 0.004*\"suite\" + 0.003*\"bedroom\" + 0.003*\"fireplace\"\n",
      "2018-02-28 14:18:32,596 : INFO : topic #2 (0.167): 0.005*\"family\" + 0.005*\"bedrooms\" + 0.004*\"washington\" + 0.004*\"bathrooms\" + 0.003*\"new\" + 0.003*\"bedrooms bathrooms\" + 0.003*\"single\" + 0.003*\"living\" + 0.003*\"single family\" + 0.003*\"kitchen\"\n",
      "2018-02-28 14:18:32,600 : INFO : topic diff=0.122069, rho=0.297226\n"
     ]
    }
   ],
   "source": [
    "# Create lda model (equivalent to \"fit\" in sklearn)\n",
    "lda = models.LdaModel(corpus=corpus, num_topics=6, minimum_probability=.03, id2word=id2word, passes=10)"
   ]
  },
  {
   "cell_type": "code",
   "execution_count": 133,
   "metadata": {},
   "outputs": [
    {
     "name": "stderr",
     "output_type": "stream",
     "text": [
      "2018-02-28 14:18:32,617 : INFO : topic #0 (0.167): 0.005*\"kitchen\" + 0.004*\"living\" + 0.004*\"master\" + 0.003*\"bath\" + 0.003*\"garage\" + 0.003*\"views\" + 0.003*\"walk\" + 0.003*\"custom\" + 0.002*\"private\" + 0.002*\"car\"\n",
      "2018-02-28 14:18:32,621 : INFO : topic #1 (0.167): 0.013*\"auction\" + 0.006*\"lot\" + 0.006*\"foreclosure\" + 0.006*\"opportunity\" + 0.004*\"scheduled\" + 0.003*\"view\" + 0.003*\"build\" + 0.003*\"county\" + 0.003*\"residential\" + 0.003*\"value\"\n",
      "2018-02-28 14:18:32,624 : INFO : topic #2 (0.167): 0.005*\"family\" + 0.005*\"bedrooms\" + 0.004*\"washington\" + 0.004*\"bathrooms\" + 0.003*\"new\" + 0.003*\"bedrooms bathrooms\" + 0.003*\"single\" + 0.003*\"living\" + 0.003*\"single family\" + 0.003*\"kitchen\"\n",
      "2018-02-28 14:18:32,628 : INFO : topic #3 (0.167): 0.010*\"new\" + 0.005*\"kitchen\" + 0.004*\"garage\" + 0.003*\"master\" + 0.003*\"bath\" + 0.003*\"appliances\" + 0.003*\"living\" + 0.003*\"bedroom\" + 0.003*\"lot\" + 0.002*\"floors\"\n",
      "2018-02-28 14:18:32,632 : INFO : topic #4 (0.167): 0.005*\"lot\" + 0.004*\"water\" + 0.004*\"acres\" + 0.003*\"land\" + 0.003*\"view\" + 0.003*\"build\" + 0.002*\"lake\" + 0.002*\"building\" + 0.002*\"level\" + 0.002*\"site\"\n",
      "2018-02-28 14:18:32,635 : INFO : topic #5 (0.167): 0.007*\"kitchen\" + 0.007*\"master\" + 0.006*\"bath\" + 0.005*\"living\" + 0.004*\"walk\" + 0.004*\"dining\" + 0.004*\"open\" + 0.004*\"suite\" + 0.003*\"bedroom\" + 0.003*\"fireplace\"\n"
     ]
    },
    {
     "data": {
      "text/plain": [
       "[(0,\n",
       "  '0.005*\"kitchen\" + 0.004*\"living\" + 0.004*\"master\" + 0.003*\"bath\" + 0.003*\"garage\" + 0.003*\"views\" + 0.003*\"walk\" + 0.003*\"custom\" + 0.002*\"private\" + 0.002*\"car\"'),\n",
       " (1,\n",
       "  '0.013*\"auction\" + 0.006*\"lot\" + 0.006*\"foreclosure\" + 0.006*\"opportunity\" + 0.004*\"scheduled\" + 0.003*\"view\" + 0.003*\"build\" + 0.003*\"county\" + 0.003*\"residential\" + 0.003*\"value\"'),\n",
       " (2,\n",
       "  '0.005*\"family\" + 0.005*\"bedrooms\" + 0.004*\"washington\" + 0.004*\"bathrooms\" + 0.003*\"new\" + 0.003*\"bedrooms bathrooms\" + 0.003*\"single\" + 0.003*\"living\" + 0.003*\"single family\" + 0.003*\"kitchen\"'),\n",
       " (3,\n",
       "  '0.010*\"new\" + 0.005*\"kitchen\" + 0.004*\"garage\" + 0.003*\"master\" + 0.003*\"bath\" + 0.003*\"appliances\" + 0.003*\"living\" + 0.003*\"bedroom\" + 0.003*\"lot\" + 0.002*\"floors\"'),\n",
       " (4,\n",
       "  '0.005*\"lot\" + 0.004*\"water\" + 0.004*\"acres\" + 0.003*\"land\" + 0.003*\"view\" + 0.003*\"build\" + 0.002*\"lake\" + 0.002*\"building\" + 0.002*\"level\" + 0.002*\"site\"'),\n",
       " (5,\n",
       "  '0.007*\"kitchen\" + 0.007*\"master\" + 0.006*\"bath\" + 0.005*\"living\" + 0.004*\"walk\" + 0.004*\"dining\" + 0.004*\"open\" + 0.004*\"suite\" + 0.003*\"bedroom\" + 0.003*\"fireplace\"')]"
      ]
     },
     "execution_count": 133,
     "metadata": {},
     "output_type": "execute_result"
    }
   ],
   "source": [
    "lda.print_topics()"
   ]
  },
  {
   "cell_type": "code",
   "execution_count": null,
   "metadata": {
    "collapsed": true
   },
   "outputs": [],
   "source": []
  }
 ],
 "metadata": {
  "kernelspec": {
   "display_name": "Python 3",
   "language": "python",
   "name": "python3"
  },
  "language_info": {
   "codemirror_mode": {
    "name": "ipython",
    "version": 3
   },
   "file_extension": ".py",
   "mimetype": "text/x-python",
   "name": "python",
   "nbconvert_exporter": "python",
   "pygments_lexer": "ipython3",
   "version": "3.6.3"
  }
 },
 "nbformat": 4,
 "nbformat_minor": 2
}
