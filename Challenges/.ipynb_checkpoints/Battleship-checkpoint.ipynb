{
 "cells": [
  {
   "cell_type": "code",
   "execution_count": 11,
   "metadata": {},
   "outputs": [],
   "source": [
    "# Imports\n",
    "# Basics\n",
    "from __future__ import print_function, division\n",
    "import pandas as pd \n",
    "import numpy as np\n",
    "import random\n",
    "from matplotlib import pyplot as plt\n",
    "%matplotlib inline\n",
    "\n",
    "# sklearn\n",
    "\n",
    "# keras\n",
    "np.random.seed(13)\n",
    "from keras.models import Sequential\n",
    "from keras.layers import Dense, Embedding, Reshape, Activation, SimpleRNN, GRU, LSTM, Convolution1D, MaxPooling1D, Merge, Dropout, Bidirectional\n",
    "from IPython.display import SVG\n",
    "from keras.utils import np_utils\n",
    "from keras.utils.data_utils import get_file\n",
    "from keras.preprocessing.text import Tokenizer\n",
    "from keras.utils.vis_utils import model_to_dot, plot_model\n",
    "\n",
    "from keras.preprocessing import sequence\n",
    "from keras.optimizers import SGD, RMSprop\n",
    "\n",
    "from IPython import display\n",
    "# logging for gensim (set to INFO)\n",
    "import logging\n",
    "logging.basicConfig(format='%(asctime)s : %(levelname)s : %(message)s', level=logging.INFO)"
   ]
  },
  {
   "cell_type": "code",
   "execution_count": 51,
   "metadata": {},
   "outputs": [],
   "source": [
    "# initialize some variables\n",
    "grid = np.zeros((10,10))\n",
    "\n",
    "ship_list = [('carrier', 5), ('battleship', 4), ('sub', 3), ('cruiser', 3), ('destroyer', 2)]"
   ]
  },
  {
   "cell_type": "code",
   "execution_count": 23,
   "metadata": {},
   "outputs": [
    {
     "data": {
      "text/plain": [
       "<matplotlib.image.AxesImage at 0x11d86a5c0>"
      ]
     },
     "execution_count": 23,
     "metadata": {},
     "output_type": "execute_result"
    },
    {
     "data": {
      "image/png": "[encoded data removed]",
      "text/plain": [
       "<matplotlib.figure.Figure at 0x11d811240>"
      ]
     },
     "metadata": {},
     "output_type": "display_data"
    }
   ],
   "source": [
    "plt.imshow(grid, cmap='gray', interpolation='nearest')"
   ]
  },
  {
   "cell_type": "code",
   "execution_count": 137,
   "metadata": {
    "collapsed": true
   },
   "outputs": [],
   "source": [
    "#randomly place the ships on the grid\n",
    "#grid = np.zeros((10,10))\n",
    "\n",
    "#ship_list = [('carrier', 5), ('battleship', 4), ('sub', 3), ('cruiser', 3), ('destroyer', 2)]\n",
    "def place_ships(grid):\n",
    "    grid = np.zeros((10,10))\n",
    "\n",
    "    ship_list = [('carrier', 5), ('battleship', 4), ('sub', 3), ('cruiser', 3), ('destroyer', 2)]\n",
    "    \n",
    "    for ship in ship_list:\n",
    "        start_spot = np.random.randint(0,10,2)\n",
    "        test = 0\n",
    "        #start_spot = [1,2]\n",
    "        direction = np.random.randint(0,4) #if direction = 0 down, if direction = 1 up, if direction = 2 left , 3 right\n",
    "        #direction = 0\n",
    "        if direction == 0:\n",
    "            if start_spot[0] + ship[1]-1 < 10:\n",
    "                for i in range(ship[1]):\n",
    "                    if grid[start_spot[0] + i][start_spot[1]] == 1:\n",
    "                        test = 1\n",
    "                        \n",
    "                if test == 0:   \n",
    "                    for i in range(ship[1]):\n",
    "                        grid[start_spot[0] + i][start_spot[1]] = 1\n",
    "                else:\n",
    "                    ship_list.append(ship)\n",
    "            else:\n",
    "                ship_list.append(ship)\n",
    "                    \n",
    "                    \n",
    "        elif direction == 1:\n",
    "            if start_spot[0] - ship[1] + 1 > 0:\n",
    "                for i in range(ship[1]):\n",
    "                    if grid[start_spot[0] - i][start_spot[1]] == 1:\n",
    "                        test = 1\n",
    "                        \n",
    "                if test == 0:   \n",
    "                    for i in range(ship[1]):\n",
    "                        grid[start_spot[0] - i][start_spot[1]] = 1\n",
    "                else:\n",
    "                    ship_list.append(ship)\n",
    "            else:\n",
    "                ship_list.append(ship)\n",
    "                    \n",
    "                    \n",
    "        elif direction == 2:\n",
    "            if start_spot[1] - ship[1] + 1 > 0:\n",
    "                for i in range(ship[1]):\n",
    "                    if grid[start_spot[0]][start_spot[1] - i] == 1:\n",
    "                        test = 1\n",
    "                        \n",
    "                if test == 0:   \n",
    "                    for i in range(ship[1]):\n",
    "                        grid[start_spot[0]][start_spot[1] - i] = 1\n",
    "                else:\n",
    "                    ship_list.append(ship)\n",
    "                                       \n",
    "            else:\n",
    "                ship_list.append(ship)\n",
    "\n",
    "        \n",
    "        elif direction == 3:\n",
    "            if start_spot[1] + ship[1] - 1  < 10:\n",
    "                for i in range(ship[1]):\n",
    "                    if grid[start_spot[0]][start_spot[1] + i] == 1:\n",
    "                        test = 1\n",
    "                        \n",
    "                if test == 0:   \n",
    "                    for i in range(ship[1]):\n",
    "                        grid[start_spot[0]][start_spot[1] + i] = 1\n",
    "                else:\n",
    "                    ship_list.append(ship)\n",
    "                        \n",
    "            else:\n",
    "                ship_list.append(ship)\n",
    "        \n",
    "        print(ship_list)\n",
    "    return grid\n",
    "    "
   ]
  },
  {
   "cell_type": "code",
   "execution_count": 129,
   "metadata": {},
   "outputs": [],
   "source": [
    "grid = np.zeros((10,10))"
   ]
  },
  {
   "cell_type": "code",
   "execution_count": 142,
   "metadata": {},
   "outputs": [
    {
     "name": "stdout",
     "output_type": "stream",
     "text": [
      "[('carrier', 5), ('battleship', 4), ('sub', 3), ('cruiser', 3), ('destroyer', 2), ('carrier', 5)]\n",
      "[('carrier', 5), ('battleship', 4), ('sub', 3), ('cruiser', 3), ('destroyer', 2), ('carrier', 5), ('battleship', 4)]\n",
      "[('carrier', 5), ('battleship', 4), ('sub', 3), ('cruiser', 3), ('destroyer', 2), ('carrier', 5), ('battleship', 4)]\n",
      "[('carrier', 5), ('battleship', 4), ('sub', 3), ('cruiser', 3), ('destroyer', 2), ('carrier', 5), ('battleship', 4)]\n",
      "[('carrier', 5), ('battleship', 4), ('sub', 3), ('cruiser', 3), ('destroyer', 2), ('carrier', 5), ('battleship', 4)]\n",
      "[('carrier', 5), ('battleship', 4), ('sub', 3), ('cruiser', 3), ('destroyer', 2), ('carrier', 5), ('battleship', 4)]\n",
      "[('carrier', 5), ('battleship', 4), ('sub', 3), ('cruiser', 3), ('destroyer', 2), ('carrier', 5), ('battleship', 4), ('battleship', 4)]\n",
      "[('carrier', 5), ('battleship', 4), ('sub', 3), ('cruiser', 3), ('destroyer', 2), ('carrier', 5), ('battleship', 4), ('battleship', 4)]\n"
     ]
    }
   ],
   "source": [
    "grid = place_ships(grid)"
   ]
  },
  {
   "cell_type": "code",
   "execution_count": 143,
   "metadata": {},
   "outputs": [
    {
     "data": {
      "text/plain": [
       "<matplotlib.image.AxesImage at 0x11f11cc18>"
      ]
     },
     "execution_count": 143,
     "metadata": {},
     "output_type": "execute_result"
    },
    {
     "data": {
      "image/png": "[encoded data removed]",
      "text/plain": [
       "<matplotlib.figure.Figure at 0x11eeeeb00>"
      ]
     },
     "metadata": {},
     "output_type": "display_data"
    }
   ],
   "source": [
    "plt.imshow(grid, cmap='gray', interpolation='nearest')"
   ]
  },
  {
   "cell_type": "code",
   "execution_count": null,
   "metadata": {
    "collapsed": true
   },
   "outputs": [],
   "source": []
  }
 ],
 "metadata": {
  "kernelspec": {
   "display_name": "Python 3",
   "language": "python",
   "name": "python3"
  },
  "language_info": {
   "codemirror_mode": {
    "name": "ipython",
    "version": 3
   },
   "file_extension": ".py",
   "mimetype": "text/x-python",
   "name": "python",
   "nbconvert_exporter": "python",
   "pygments_lexer": "ipython3",
   "version": "3.6.3"
  }
 },
 "nbformat": 4,
 "nbformat_minor": 2
}
