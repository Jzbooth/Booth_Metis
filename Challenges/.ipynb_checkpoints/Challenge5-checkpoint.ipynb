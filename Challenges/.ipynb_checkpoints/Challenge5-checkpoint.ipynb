{
 "cells": [
  {
   "cell_type": "code",
   "execution_count": 279,
   "metadata": {},
   "outputs": [],
   "source": [
    "from __future__ import print_function, division\n",
    "import requests\n",
    "import math\n",
    "from bs4 import BeautifulSoup\n",
    "import pandas as pd\n",
    "from collections import defaultdict\n",
    "import numpy as np\n",
    "import statsmodels.api as sm\n",
    "import statsmodels.formula.api as smf\n",
    "import patsy\n",
    "import seaborn as sns\n",
    "import matplotlib.pyplot as plt\n",
    "from sklearn.linear_model import LinearRegression\n",
    "from sklearn.linear_model import RidgeCV\n",
    "from sklearn.model_selection import train_test_split\n",
    "from sklearn.pipeline import make_pipeline\n",
    "from sklearn.preprocessing import PolynomialFeatures\n",
    "from sklearn.cross_validation import KFold\n",
    "from sklearn.linear_model import ElasticNet\n",
    "from sklearn.cross_validation import cross_val_score\n",
    "from sklearn import feature_selection as f_select\n",
    "import re\n",
    "%matplotlib inline"
   ]
  },
  {
   "cell_type": "code",
   "execution_count": 280,
   "metadata": {},
   "outputs": [],
   "source": [
    "pitching = pd.read_csv('../Project_2/Pitchingdata.csv')\n",
    "batting = pd.read_csv('../Project_2/battersdata.csv')\n",
    "salaries = pd.read_csv('../Project_2/salariesdata.csv')"
   ]
  },
  {
   "cell_type": "code",
   "execution_count": 281,
   "metadata": {
    "collapsed": true
   },
   "outputs": [],
   "source": [
    "salaries = salaries.drop([\"Pos'n\", \"MLS\"], axis=1)"
   ]
  },
  {
   "cell_type": "code",
   "execution_count": 282,
   "metadata": {
    "collapsed": true
   },
   "outputs": [],
   "source": [
    "#lets remove all of those nasty characters from our names so we can merge easily\n",
    "from string import printable\n",
    "\n",
    "batting['Name'] = batting['Name'].apply(lambda x: x.split('*',1)[0])\n",
    "batting['Name'] = batting['Name'].apply(lambda x: x.split('#',1)[0])\n",
    "batting['Name'] = batting['Name'].apply(lambda x: x.split('\\\\',1)[0])\n",
    "batting['Name'] = batting['Name'].apply(lambda x: re.sub(\"[^{}]+\".format(printable), \" \", x))\n",
    "batting['Name'] = batting['Name'].apply(lambda x: x.split(' ',1)[-1] + ',' + ' ' + x.split(' ',1)[0])"
   ]
  },
  {
   "cell_type": "code",
   "execution_count": 283,
   "metadata": {
    "collapsed": true
   },
   "outputs": [],
   "source": [
    "#Lets do the same thing with the pitching data\n",
    "pitching['Name'] = pitching['Name'].apply(lambda x: x.split('*',1)[0])\n",
    "pitching['Name'] = pitching['Name'].apply(lambda x: x.split('#',1)[0])\n",
    "pitching['Name'] = pitching['Name'].apply(lambda x: x.split('\\\\',1)[0])\n",
    "pitching['Name'] = pitching['Name'].apply(lambda x: re.sub(\"[^{}]+\".format(printable), \" \", x))\n",
    "pitching['Name'] = pitching['Name'].apply(lambda x: x.split(' ',1)[-1] + ',' + ' ' + x.split(' ',1)[0])\n",
    "\n"
   ]
  },
  {
   "cell_type": "code",
   "execution_count": 284,
   "metadata": {
    "collapsed": true
   },
   "outputs": [],
   "source": [
    "#narrow down our sample to only players with more than 200 at bats this year\n",
    "batting2 = batting[batting['AB'] >= 200]"
   ]
  },
  {
   "cell_type": "code",
   "execution_count": 285,
   "metadata": {
    "collapsed": true
   },
   "outputs": [],
   "source": [
    "#narrow down our sample to only players with more than 30 games played this year\n",
    "pitching2 = pitching[pitching['G'] >= 30]"
   ]
  },
  {
   "cell_type": "code",
   "execution_count": 286,
   "metadata": {
    "collapsed": true
   },
   "outputs": [],
   "source": [
    "salaries.rename(columns={'Player':'Name', '2017' : 'Salary'},inplace = True)"
   ]
  },
  {
   "cell_type": "code",
   "execution_count": 287,
   "metadata": {
    "collapsed": true
   },
   "outputs": [],
   "source": [
    "def money_to_int(moneystring):\n",
    "    moneystring = moneystring.replace('$', '').replace(',', '').replace(' ','')\n",
    "    return int(moneystring)"
   ]
  },
  {
   "cell_type": "code",
   "execution_count": 288,
   "metadata": {
    "collapsed": true
   },
   "outputs": [],
   "source": [
    "salaries['Salary'] = salaries['Salary'].apply(lambda x: money_to_int(x))"
   ]
  },
  {
   "cell_type": "code",
   "execution_count": 289,
   "metadata": {},
   "outputs": [
    {
     "data": {
      "text/plain": [
       "0    535000\n",
       "dtype: int64"
      ]
     },
     "execution_count": 289,
     "metadata": {},
     "output_type": "execute_result"
    }
   ],
   "source": [
    "salaries['Salary'].mode()"
   ]
  },
  {
   "cell_type": "code",
   "execution_count": 290,
   "metadata": {
    "collapsed": true
   },
   "outputs": [],
   "source": [
    "#lets merge our salaries dataframe with our pitching dataframe \n",
    "\n",
    "pitchdf = pd.merge(salaries, pitching2, on=['Name'])"
   ]
  },
  {
   "cell_type": "code",
   "execution_count": 291,
   "metadata": {
    "collapsed": true
   },
   "outputs": [],
   "source": [
    "batdf = pd.merge(salaries, batting2, on=['Name'])"
   ]
  },
  {
   "cell_type": "markdown",
   "metadata": {},
   "source": [
    "# Challenge 1"
   ]
  },
  {
   "cell_type": "code",
   "execution_count": 292,
   "metadata": {},
   "outputs": [],
   "source": [
    "#Now that we have our mostly cleaned data sets let's start on part 1\n",
    "#We need to add a colmun of ones to our data set and use that to model salary.\n",
    "batdf.loc[:,'ones'] = 1"
   ]
  },
  {
   "cell_type": "code",
   "execution_count": 293,
   "metadata": {},
   "outputs": [
    {
     "name": "stderr",
     "output_type": "stream",
     "text": [
      "/Users/gilliangoodman/anaconda3/lib/python3.6/site-packages/statsmodels/regression/linear_model.py:1396: RuntimeWarning: divide by zero encountered in double_scalars\n",
      "  return self.ess/self.df_model\n"
     ]
    },
    {
     "data": {
      "text/html": [
       "<table class=\"simpletable\">\n",
       "<caption>OLS Regression Results</caption>\n",
       "<tr>\n",
       "  <th>Dep. Variable:</th>         <td>Salary</td>      <th>  R-squared:         </th> <td>  -0.000</td> \n",
       "</tr>\n",
       "<tr>\n",
       "  <th>Model:</th>                   <td>OLS</td>       <th>  Adj. R-squared:    </th> <td>  -0.000</td> \n",
       "</tr>\n",
       "<tr>\n",
       "  <th>Method:</th>             <td>Least Squares</td>  <th>  F-statistic:       </th> <td>    -inf</td> \n",
       "</tr>\n",
       "<tr>\n",
       "  <th>Date:</th>             <td>Mon, 29 Jan 2018</td> <th>  Prob (F-statistic):</th>  <td>   nan</td>  \n",
       "</tr>\n",
       "<tr>\n",
       "  <th>Time:</th>                 <td>17:25:03</td>     <th>  Log-Likelihood:    </th> <td> -5452.2</td> \n",
       "</tr>\n",
       "<tr>\n",
       "  <th>No. Observations:</th>      <td>   318</td>      <th>  AIC:               </th> <td>1.091e+04</td>\n",
       "</tr>\n",
       "<tr>\n",
       "  <th>Df Residuals:</th>          <td>   317</td>      <th>  BIC:               </th> <td>1.091e+04</td>\n",
       "</tr>\n",
       "<tr>\n",
       "  <th>Df Model:</th>              <td>     0</td>      <th>                     </th>     <td> </td>    \n",
       "</tr>\n",
       "<tr>\n",
       "  <th>Covariance Type:</th>      <td>nonrobust</td>    <th>                     </th>     <td> </td>    \n",
       "</tr>\n",
       "</table>\n",
       "<table class=\"simpletable\">\n",
       "<tr>\n",
       "      <td></td>         <th>coef</th>     <th>std err</th>      <th>t</th>      <th>P>|t|</th>  <th>[0.025</th>    <th>0.975]</th>  \n",
       "</tr>\n",
       "<tr>\n",
       "  <th>Intercept</th> <td> 3.238e+06</td> <td>  1.9e+05</td> <td>   17.061</td> <td> 0.000</td> <td> 2.86e+06</td> <td> 3.61e+06</td>\n",
       "</tr>\n",
       "<tr>\n",
       "  <th>ones</th>      <td> 3.238e+06</td> <td>  1.9e+05</td> <td>   17.061</td> <td> 0.000</td> <td> 2.86e+06</td> <td> 3.61e+06</td>\n",
       "</tr>\n",
       "</table>\n",
       "<table class=\"simpletable\">\n",
       "<tr>\n",
       "  <th>Omnibus:</th>       <td>48.423</td> <th>  Durbin-Watson:     </th> <td>   0.001</td>\n",
       "</tr>\n",
       "<tr>\n",
       "  <th>Prob(Omnibus):</th> <td> 0.000</td> <th>  Jarque-Bera (JB):  </th> <td>  67.221</td>\n",
       "</tr>\n",
       "<tr>\n",
       "  <th>Skew:</th>          <td> 1.118</td> <th>  Prob(JB):          </th> <td>2.53e-15</td>\n",
       "</tr>\n",
       "<tr>\n",
       "  <th>Kurtosis:</th>      <td> 3.272</td> <th>  Cond. No.          </th> <td>1.21e+16</td>\n",
       "</tr>\n",
       "</table>"
      ],
      "text/plain": [
       "<class 'statsmodels.iolib.summary.Summary'>\n",
       "\"\"\"\n",
       "                            OLS Regression Results                            \n",
       "==============================================================================\n",
       "Dep. Variable:                 Salary   R-squared:                      -0.000\n",
       "Model:                            OLS   Adj. R-squared:                 -0.000\n",
       "Method:                 Least Squares   F-statistic:                      -inf\n",
       "Date:                Mon, 29 Jan 2018   Prob (F-statistic):                nan\n",
       "Time:                        17:25:03   Log-Likelihood:                -5452.2\n",
       "No. Observations:                 318   AIC:                         1.091e+04\n",
       "Df Residuals:                     317   BIC:                         1.091e+04\n",
       "Df Model:                           0                                         \n",
       "Covariance Type:            nonrobust                                         \n",
       "==============================================================================\n",
       "                 coef    std err          t      P>|t|      [0.025      0.975]\n",
       "------------------------------------------------------------------------------\n",
       "Intercept   3.238e+06    1.9e+05     17.061      0.000    2.86e+06    3.61e+06\n",
       "ones        3.238e+06    1.9e+05     17.061      0.000    2.86e+06    3.61e+06\n",
       "==============================================================================\n",
       "Omnibus:                       48.423   Durbin-Watson:                   0.001\n",
       "Prob(Omnibus):                  0.000   Jarque-Bera (JB):               67.221\n",
       "Skew:                           1.118   Prob(JB):                     2.53e-15\n",
       "Kurtosis:                       3.272   Cond. No.                     1.21e+16\n",
       "==============================================================================\n",
       "\n",
       "Warnings:\n",
       "[1] Standard Errors assume that the covariance matrix of the errors is correctly specified.\n",
       "[2] The smallest eigenvalue is 4.35e-30. This might indicate that there are\n",
       "strong multicollinearity problems or that the design matrix is singular.\n",
       "\"\"\""
      ]
     },
     "execution_count": 293,
     "metadata": {},
     "output_type": "execute_result"
    }
   ],
   "source": [
    "# Define the model\n",
    "lm1 = smf.ols('Salary ~ ones', data=batdf)\n",
    "\n",
    "# Fit the model\n",
    "fit1 = lm1.fit()\n",
    "# Print summary statistics of the model's performance\n",
    "fit1.summary()"
   ]
  },
  {
   "cell_type": "code",
   "execution_count": 294,
   "metadata": {},
   "outputs": [
    {
     "data": {
      "text/plain": [
       "[<matplotlib.lines.Line2D at 0x109bc9cf8>]"
      ]
     },
     "execution_count": 294,
     "metadata": {},
     "output_type": "execute_result"
    },
    {
     "data": {
      "image/png": "[encoded data removed]",
      "text/plain": [
       "<matplotlib.figure.Figure at 0x109bc9048>"
      ]
     },
     "metadata": {},
     "output_type": "display_data"
    }
   ],
   "source": [
    "x_ax = list(batdf['ones'])\n",
    "predictions = []\n",
    "for item in x_ax:\n",
    "    predictions.append(3238000 + 3238000 * item)\n",
    "plt.scatter(batdf['ones'],batdf['Salary'])\n",
    "plt.plot(x_ax, predictions, color='red')"
   ]
  },
  {
   "cell_type": "markdown",
   "metadata": {},
   "source": [
    "Here we can see that the model resulted in a straight line."
   ]
  },
  {
   "cell_type": "code",
   "execution_count": 295,
   "metadata": {},
   "outputs": [
    {
     "data": {
      "image/png": "[encoded data removed]",
      "text/plain": [
       "<matplotlib.figure.Figure at 0x109bca160>"
      ]
     },
     "metadata": {},
     "output_type": "display_data"
    }
   ],
   "source": [
    "fit1.resid.plot(style='o', figsize=(12,8));"
   ]
  },
  {
   "cell_type": "markdown",
   "metadata": {},
   "source": [
    "The residuals appear to follow a chi-squared distribution."
   ]
  },
  {
   "cell_type": "markdown",
   "metadata": {},
   "source": [
    "# Challenge 2"
   ]
  },
  {
   "cell_type": "code",
   "execution_count": 296,
   "metadata": {},
   "outputs": [
    {
     "data": {
      "text/html": [
       "<table class=\"simpletable\">\n",
       "<caption>OLS Regression Results</caption>\n",
       "<tr>\n",
       "  <th>Dep. Variable:</th>         <td>Salary</td>      <th>  R-squared:         </th> <td>   0.367</td> \n",
       "</tr>\n",
       "<tr>\n",
       "  <th>Model:</th>                   <td>OLS</td>       <th>  Adj. R-squared:    </th> <td>   0.365</td> \n",
       "</tr>\n",
       "<tr>\n",
       "  <th>Method:</th>             <td>Least Squares</td>  <th>  F-statistic:       </th> <td>   183.6</td> \n",
       "</tr>\n",
       "<tr>\n",
       "  <th>Date:</th>             <td>Mon, 29 Jan 2018</td> <th>  Prob (F-statistic):</th> <td>2.73e-33</td> \n",
       "</tr>\n",
       "<tr>\n",
       "  <th>Time:</th>                 <td>17:25:03</td>     <th>  Log-Likelihood:    </th> <td> -5379.4</td> \n",
       "</tr>\n",
       "<tr>\n",
       "  <th>No. Observations:</th>      <td>   318</td>      <th>  AIC:               </th> <td>1.076e+04</td>\n",
       "</tr>\n",
       "<tr>\n",
       "  <th>Df Residuals:</th>          <td>   316</td>      <th>  BIC:               </th> <td>1.077e+04</td>\n",
       "</tr>\n",
       "<tr>\n",
       "  <th>Df Model:</th>              <td>     1</td>      <th>                     </th>     <td> </td>    \n",
       "</tr>\n",
       "<tr>\n",
       "  <th>Covariance Type:</th>      <td>nonrobust</td>    <th>                     </th>     <td> </td>    \n",
       "</tr>\n",
       "</table>\n",
       "<table class=\"simpletable\">\n",
       "<tr>\n",
       "      <td></td>         <th>coef</th>     <th>std err</th>      <th>t</th>      <th>P>|t|</th>  <th>[0.025</th>    <th>0.975]</th>  \n",
       "</tr>\n",
       "<tr>\n",
       "  <th>Intercept</th> <td>-2.571e+07</td> <td> 2.39e+06</td> <td>  -10.737</td> <td> 0.000</td> <td>-3.04e+07</td> <td> -2.1e+07</td>\n",
       "</tr>\n",
       "<tr>\n",
       "  <th>Age</th>       <td> 1.112e+06</td> <td> 8.21e+04</td> <td>   13.550</td> <td> 0.000</td> <td> 9.51e+05</td> <td> 1.27e+06</td>\n",
       "</tr>\n",
       "</table>\n",
       "<table class=\"simpletable\">\n",
       "<tr>\n",
       "  <th>Omnibus:</th>       <td>56.271</td> <th>  Durbin-Watson:     </th> <td>   0.497</td>\n",
       "</tr>\n",
       "<tr>\n",
       "  <th>Prob(Omnibus):</th> <td> 0.000</td> <th>  Jarque-Bera (JB):  </th> <td>  97.534</td>\n",
       "</tr>\n",
       "<tr>\n",
       "  <th>Skew:</th>          <td> 0.994</td> <th>  Prob(JB):          </th> <td>6.62e-22</td>\n",
       "</tr>\n",
       "<tr>\n",
       "  <th>Kurtosis:</th>      <td> 4.846</td> <th>  Cond. No.          </th> <td>    231.</td>\n",
       "</tr>\n",
       "</table>"
      ],
      "text/plain": [
       "<class 'statsmodels.iolib.summary.Summary'>\n",
       "\"\"\"\n",
       "                            OLS Regression Results                            \n",
       "==============================================================================\n",
       "Dep. Variable:                 Salary   R-squared:                       0.367\n",
       "Model:                            OLS   Adj. R-squared:                  0.365\n",
       "Method:                 Least Squares   F-statistic:                     183.6\n",
       "Date:                Mon, 29 Jan 2018   Prob (F-statistic):           2.73e-33\n",
       "Time:                        17:25:03   Log-Likelihood:                -5379.4\n",
       "No. Observations:                 318   AIC:                         1.076e+04\n",
       "Df Residuals:                     316   BIC:                         1.077e+04\n",
       "Df Model:                           1                                         \n",
       "Covariance Type:            nonrobust                                         \n",
       "==============================================================================\n",
       "                 coef    std err          t      P>|t|      [0.025      0.975]\n",
       "------------------------------------------------------------------------------\n",
       "Intercept  -2.571e+07   2.39e+06    -10.737      0.000   -3.04e+07    -2.1e+07\n",
       "Age         1.112e+06   8.21e+04     13.550      0.000    9.51e+05    1.27e+06\n",
       "==============================================================================\n",
       "Omnibus:                       56.271   Durbin-Watson:                   0.497\n",
       "Prob(Omnibus):                  0.000   Jarque-Bera (JB):               97.534\n",
       "Skew:                           0.994   Prob(JB):                     6.62e-22\n",
       "Kurtosis:                       4.846   Cond. No.                         231.\n",
       "==============================================================================\n",
       "\n",
       "Warnings:\n",
       "[1] Standard Errors assume that the covariance matrix of the errors is correctly specified.\n",
       "\"\"\""
      ]
     },
     "execution_count": 296,
     "metadata": {},
     "output_type": "execute_result"
    }
   ],
   "source": [
    "# Define the model\n",
    "lm1 = smf.ols('Salary ~ Age', data=batdf)\n",
    "\n",
    "# Fit the model\n",
    "fit1 = lm1.fit()\n",
    "# Print summary statistics of the model's performance\n",
    "fit1.summary()"
   ]
  },
  {
   "cell_type": "code",
   "execution_count": 297,
   "metadata": {},
   "outputs": [
    {
     "data": {
      "text/plain": [
       "{21.0,\n",
       " 22.0,\n",
       " 23.0,\n",
       " 24.0,\n",
       " 25.0,\n",
       " 26.0,\n",
       " 27.0,\n",
       " 28.0,\n",
       " 29.0,\n",
       " 30.0,\n",
       " 31.0,\n",
       " 32.0,\n",
       " 33.0,\n",
       " 34.0,\n",
       " 35.0,\n",
       " 36.0,\n",
       " 37.0,\n",
       " 38.0,\n",
       " 40.0}"
      ]
     },
     "execution_count": 297,
     "metadata": {},
     "output_type": "execute_result"
    }
   ],
   "source": [
    "set(batdf['Age'])"
   ]
  },
  {
   "cell_type": "code",
   "execution_count": 298,
   "metadata": {},
   "outputs": [
    {
     "data": {
      "text/plain": [
       "[<matplotlib.lines.Line2D at 0x1c22236940>]"
      ]
     },
     "execution_count": 298,
     "metadata": {},
     "output_type": "execute_result"
    },
    {
     "data": {
      "image/png": "[encoded data removed]",
      "text/plain": [
       "<matplotlib.figure.Figure at 0x1c222361d0>"
      ]
     },
     "metadata": {},
     "output_type": "display_data"
    }
   ],
   "source": [
    "x_ax = list(set(batdf['Age']))\n",
    "predictions = []\n",
    "for item in x_ax:\n",
    "    predictions.append(-25710000 + 1112000 * item)\n",
    "plt.scatter(batdf['Age'],batdf['Salary'])\n",
    "plt.plot(x_ax, predictions, color='red')\n",
    "\n",
    "\n"
   ]
  },
  {
   "cell_type": "markdown",
   "metadata": {},
   "source": [
    "In this model we are attempting to predict the salary a player will make with respect to his age."
   ]
  },
  {
   "cell_type": "code",
   "execution_count": 299,
   "metadata": {},
   "outputs": [
    {
     "data": {
      "image/png": "[encoded data removed]",
      "text/plain": [
       "<matplotlib.figure.Figure at 0x1c22236ac8>"
      ]
     },
     "metadata": {},
     "output_type": "display_data"
    }
   ],
   "source": [
    "fit1.resid.plot(style='o', figsize=(12,8));"
   ]
  },
  {
   "cell_type": "markdown",
   "metadata": {},
   "source": [
    "# Challenge 3\n",
    "\n",
    "\n",
    "In this challenge we will add dummy variables for the team of the player."
   ]
  },
  {
   "cell_type": "code",
   "execution_count": 300,
   "metadata": {},
   "outputs": [
    {
     "data": {
      "text/plain": [
       "{'ARI',\n",
       " 'ATL',\n",
       " 'BAL',\n",
       " 'BOS',\n",
       " 'CHC',\n",
       " 'CHW',\n",
       " 'CIN',\n",
       " 'CLE',\n",
       " 'COL',\n",
       " 'DET',\n",
       " 'HOU',\n",
       " 'KCR',\n",
       " 'LAA',\n",
       " 'LAD',\n",
       " 'MIA',\n",
       " 'MIL',\n",
       " 'MIN',\n",
       " 'NYM',\n",
       " 'NYY',\n",
       " 'OAK',\n",
       " 'PHI',\n",
       " 'PIT',\n",
       " 'SDP',\n",
       " 'SEA',\n",
       " 'SFG',\n",
       " 'STL',\n",
       " 'TBR',\n",
       " 'TEX',\n",
       " 'TOR',\n",
       " 'TOT',\n",
       " 'WSN'}"
      ]
     },
     "execution_count": 300,
     "metadata": {},
     "output_type": "execute_result"
    }
   ],
   "source": [
    "set(batdf['Tm'])"
   ]
  },
  {
   "cell_type": "code",
   "execution_count": 301,
   "metadata": {},
   "outputs": [
    {
     "data": {
      "text/html": [
       "<div>\n",
       "<style>\n",
       "    .dataframe thead tr:only-child th {\n",
       "        text-align: right;\n",
       "    }\n",
       "\n",
       "    .dataframe thead th {\n",
       "        text-align: left;\n",
       "    }\n",
       "\n",
       "    .dataframe tbody tr th {\n",
       "        vertical-align: top;\n",
       "    }\n",
       "</style>\n",
       "<table border=\"1\" class=\"dataframe\">\n",
       "  <thead>\n",
       "    <tr style=\"text-align: right;\">\n",
       "      <th></th>\n",
       "      <th>Intercept</th>\n",
       "      <th>Tm[T.ATL]</th>\n",
       "      <th>Tm[T.BAL]</th>\n",
       "      <th>Tm[T.BOS]</th>\n",
       "      <th>Tm[T.CHC]</th>\n",
       "      <th>Tm[T.CHW]</th>\n",
       "      <th>Tm[T.CIN]</th>\n",
       "      <th>Tm[T.CLE]</th>\n",
       "      <th>Tm[T.COL]</th>\n",
       "      <th>Tm[T.DET]</th>\n",
       "      <th>...</th>\n",
       "      <th>Tm[T.PIT]</th>\n",
       "      <th>Tm[T.SDP]</th>\n",
       "      <th>Tm[T.SEA]</th>\n",
       "      <th>Tm[T.SFG]</th>\n",
       "      <th>Tm[T.STL]</th>\n",
       "      <th>Tm[T.TBR]</th>\n",
       "      <th>Tm[T.TEX]</th>\n",
       "      <th>Tm[T.TOR]</th>\n",
       "      <th>Tm[T.TOT]</th>\n",
       "      <th>Tm[T.WSN]</th>\n",
       "    </tr>\n",
       "  </thead>\n",
       "  <tbody>\n",
       "    <tr>\n",
       "      <th>0</th>\n",
       "      <td>1.0</td>\n",
       "      <td>0.0</td>\n",
       "      <td>0.0</td>\n",
       "      <td>0.0</td>\n",
       "      <td>1.0</td>\n",
       "      <td>0.0</td>\n",
       "      <td>0.0</td>\n",
       "      <td>0.0</td>\n",
       "      <td>0.0</td>\n",
       "      <td>0.0</td>\n",
       "      <td>...</td>\n",
       "      <td>0.0</td>\n",
       "      <td>0.0</td>\n",
       "      <td>0.0</td>\n",
       "      <td>0.0</td>\n",
       "      <td>0.0</td>\n",
       "      <td>0.0</td>\n",
       "      <td>0.0</td>\n",
       "      <td>0.0</td>\n",
       "      <td>0.0</td>\n",
       "      <td>0.0</td>\n",
       "    </tr>\n",
       "    <tr>\n",
       "      <th>1</th>\n",
       "      <td>1.0</td>\n",
       "      <td>0.0</td>\n",
       "      <td>0.0</td>\n",
       "      <td>0.0</td>\n",
       "      <td>0.0</td>\n",
       "      <td>0.0</td>\n",
       "      <td>0.0</td>\n",
       "      <td>0.0</td>\n",
       "      <td>0.0</td>\n",
       "      <td>1.0</td>\n",
       "      <td>...</td>\n",
       "      <td>0.0</td>\n",
       "      <td>0.0</td>\n",
       "      <td>0.0</td>\n",
       "      <td>0.0</td>\n",
       "      <td>0.0</td>\n",
       "      <td>0.0</td>\n",
       "      <td>0.0</td>\n",
       "      <td>0.0</td>\n",
       "      <td>0.0</td>\n",
       "      <td>0.0</td>\n",
       "    </tr>\n",
       "    <tr>\n",
       "      <th>2</th>\n",
       "      <td>1.0</td>\n",
       "      <td>0.0</td>\n",
       "      <td>0.0</td>\n",
       "      <td>0.0</td>\n",
       "      <td>0.0</td>\n",
       "      <td>0.0</td>\n",
       "      <td>0.0</td>\n",
       "      <td>0.0</td>\n",
       "      <td>0.0</td>\n",
       "      <td>0.0</td>\n",
       "      <td>...</td>\n",
       "      <td>0.0</td>\n",
       "      <td>0.0</td>\n",
       "      <td>0.0</td>\n",
       "      <td>0.0</td>\n",
       "      <td>0.0</td>\n",
       "      <td>0.0</td>\n",
       "      <td>0.0</td>\n",
       "      <td>0.0</td>\n",
       "      <td>0.0</td>\n",
       "      <td>0.0</td>\n",
       "    </tr>\n",
       "    <tr>\n",
       "      <th>3</th>\n",
       "      <td>1.0</td>\n",
       "      <td>0.0</td>\n",
       "      <td>0.0</td>\n",
       "      <td>0.0</td>\n",
       "      <td>0.0</td>\n",
       "      <td>0.0</td>\n",
       "      <td>0.0</td>\n",
       "      <td>0.0</td>\n",
       "      <td>0.0</td>\n",
       "      <td>0.0</td>\n",
       "      <td>...</td>\n",
       "      <td>0.0</td>\n",
       "      <td>0.0</td>\n",
       "      <td>1.0</td>\n",
       "      <td>0.0</td>\n",
       "      <td>0.0</td>\n",
       "      <td>0.0</td>\n",
       "      <td>0.0</td>\n",
       "      <td>0.0</td>\n",
       "      <td>0.0</td>\n",
       "      <td>0.0</td>\n",
       "    </tr>\n",
       "    <tr>\n",
       "      <th>4</th>\n",
       "      <td>1.0</td>\n",
       "      <td>0.0</td>\n",
       "      <td>0.0</td>\n",
       "      <td>0.0</td>\n",
       "      <td>0.0</td>\n",
       "      <td>0.0</td>\n",
       "      <td>0.0</td>\n",
       "      <td>0.0</td>\n",
       "      <td>0.0</td>\n",
       "      <td>0.0</td>\n",
       "      <td>...</td>\n",
       "      <td>0.0</td>\n",
       "      <td>0.0</td>\n",
       "      <td>0.0</td>\n",
       "      <td>0.0</td>\n",
       "      <td>0.0</td>\n",
       "      <td>0.0</td>\n",
       "      <td>0.0</td>\n",
       "      <td>0.0</td>\n",
       "      <td>0.0</td>\n",
       "      <td>0.0</td>\n",
       "    </tr>\n",
       "  </tbody>\n",
       "</table>\n",
       "<p>5 rows × 31 columns</p>\n",
       "</div>"
      ],
      "text/plain": [
       "   Intercept  Tm[T.ATL]  Tm[T.BAL]  Tm[T.BOS]  Tm[T.CHC]  Tm[T.CHW]  \\\n",
       "0        1.0        0.0        0.0        0.0        1.0        0.0   \n",
       "1        1.0        0.0        0.0        0.0        0.0        0.0   \n",
       "2        1.0        0.0        0.0        0.0        0.0        0.0   \n",
       "3        1.0        0.0        0.0        0.0        0.0        0.0   \n",
       "4        1.0        0.0        0.0        0.0        0.0        0.0   \n",
       "\n",
       "   Tm[T.CIN]  Tm[T.CLE]  Tm[T.COL]  Tm[T.DET]    ...      Tm[T.PIT]  \\\n",
       "0        0.0        0.0        0.0        0.0    ...            0.0   \n",
       "1        0.0        0.0        0.0        1.0    ...            0.0   \n",
       "2        0.0        0.0        0.0        0.0    ...            0.0   \n",
       "3        0.0        0.0        0.0        0.0    ...            0.0   \n",
       "4        0.0        0.0        0.0        0.0    ...            0.0   \n",
       "\n",
       "   Tm[T.SDP]  Tm[T.SEA]  Tm[T.SFG]  Tm[T.STL]  Tm[T.TBR]  Tm[T.TEX]  \\\n",
       "0        0.0        0.0        0.0        0.0        0.0        0.0   \n",
       "1        0.0        0.0        0.0        0.0        0.0        0.0   \n",
       "2        0.0        0.0        0.0        0.0        0.0        0.0   \n",
       "3        0.0        1.0        0.0        0.0        0.0        0.0   \n",
       "4        0.0        0.0        0.0        0.0        0.0        0.0   \n",
       "\n",
       "   Tm[T.TOR]  Tm[T.TOT]  Tm[T.WSN]  \n",
       "0        0.0        0.0        0.0  \n",
       "1        0.0        0.0        0.0  \n",
       "2        0.0        0.0        0.0  \n",
       "3        0.0        0.0        0.0  \n",
       "4        0.0        0.0        0.0  \n",
       "\n",
       "[5 rows x 31 columns]"
      ]
     },
     "execution_count": 301,
     "metadata": {},
     "output_type": "execute_result"
    }
   ],
   "source": [
    "X=patsy.dmatrix('Tm',data=batdf,return_type='dataframe')\n",
    "X.head()"
   ]
  },
  {
   "cell_type": "code",
   "execution_count": 302,
   "metadata": {
    "collapsed": true
   },
   "outputs": [],
   "source": [
    "batdf2=batdf.join(X)"
   ]
  },
  {
   "cell_type": "code",
   "execution_count": 303,
   "metadata": {},
   "outputs": [
    {
     "data": {
      "text/plain": [
       "'Pos\\xa0Summary'"
      ]
     },
     "execution_count": 303,
     "metadata": {},
     "output_type": "execute_result"
    }
   ],
   "source": [
    "batdf2.columns[30]"
   ]
  },
  {
   "cell_type": "code",
   "execution_count": 304,
   "metadata": {},
   "outputs": [
    {
     "data": {
      "text/html": [
       "<table class=\"simpletable\">\n",
       "<caption>OLS Regression Results</caption>\n",
       "<tr>\n",
       "  <th>Dep. Variable:</th>         <td>Salary</td>      <th>  R-squared:         </th> <td>   0.116</td> \n",
       "</tr>\n",
       "<tr>\n",
       "  <th>Model:</th>                   <td>OLS</td>       <th>  Adj. R-squared:    </th> <td>   0.024</td> \n",
       "</tr>\n",
       "<tr>\n",
       "  <th>Method:</th>             <td>Least Squares</td>  <th>  F-statistic:       </th> <td>   1.260</td> \n",
       "</tr>\n",
       "<tr>\n",
       "  <th>Date:</th>             <td>Mon, 29 Jan 2018</td> <th>  Prob (F-statistic):</th>  <td> 0.171</td>  \n",
       "</tr>\n",
       "<tr>\n",
       "  <th>Time:</th>                 <td>17:25:03</td>     <th>  Log-Likelihood:    </th> <td> -5432.5</td> \n",
       "</tr>\n",
       "<tr>\n",
       "  <th>No. Observations:</th>      <td>   318</td>      <th>  AIC:               </th> <td>1.093e+04</td>\n",
       "</tr>\n",
       "<tr>\n",
       "  <th>Df Residuals:</th>          <td>   287</td>      <th>  BIC:               </th> <td>1.104e+04</td>\n",
       "</tr>\n",
       "<tr>\n",
       "  <th>Df Model:</th>              <td>    30</td>      <th>                     </th>     <td> </td>    \n",
       "</tr>\n",
       "<tr>\n",
       "  <th>Covariance Type:</th>      <td>nonrobust</td>    <th>                     </th>     <td> </td>    \n",
       "</tr>\n",
       "</table>\n",
       "<table class=\"simpletable\">\n",
       "<tr>\n",
       "      <td></td>         <th>coef</th>     <th>std err</th>      <th>t</th>      <th>P>|t|</th>  <th>[0.025</th>    <th>0.975]</th>  \n",
       "</tr>\n",
       "<tr>\n",
       "  <th>Intercept</th> <td> 3.514e+06</td> <td> 2.11e+06</td> <td>    1.661</td> <td> 0.098</td> <td>-6.49e+05</td> <td> 7.68e+06</td>\n",
       "</tr>\n",
       "<tr>\n",
       "  <th>Tm[T.ATL]</th> <td>  5.17e+06</td> <td> 3.07e+06</td> <td>    1.682</td> <td> 0.094</td> <td>-8.79e+05</td> <td> 1.12e+07</td>\n",
       "</tr>\n",
       "<tr>\n",
       "  <th>Tm[T.BAL]</th> <td> 4.285e+06</td> <td> 2.86e+06</td> <td>    1.496</td> <td> 0.136</td> <td>-1.35e+06</td> <td> 9.92e+06</td>\n",
       "</tr>\n",
       "<tr>\n",
       "  <th>Tm[T.BOS]</th> <td> 2.835e+06</td> <td> 2.99e+06</td> <td>    0.948</td> <td> 0.344</td> <td>-3.05e+06</td> <td> 8.72e+06</td>\n",
       "</tr>\n",
       "<tr>\n",
       "  <th>Tm[T.CHC]</th> <td> 2.879e+06</td> <td> 2.99e+06</td> <td>    0.963</td> <td> 0.337</td> <td>-3.01e+06</td> <td> 8.77e+06</td>\n",
       "</tr>\n",
       "<tr>\n",
       "  <th>Tm[T.CHW]</th> <td> 1.358e+06</td> <td> 3.07e+06</td> <td>    0.442</td> <td> 0.659</td> <td>-4.69e+06</td> <td> 7.41e+06</td>\n",
       "</tr>\n",
       "<tr>\n",
       "  <th>Tm[T.CIN]</th> <td> 4.088e+05</td> <td> 3.07e+06</td> <td>    0.133</td> <td> 0.894</td> <td>-5.64e+06</td> <td> 6.46e+06</td>\n",
       "</tr>\n",
       "<tr>\n",
       "  <th>Tm[T.CLE]</th> <td> 2.168e+06</td> <td> 2.99e+06</td> <td>    0.725</td> <td> 0.469</td> <td>-3.72e+06</td> <td> 8.05e+06</td>\n",
       "</tr>\n",
       "<tr>\n",
       "  <th>Tm[T.COL]</th> <td> 3.744e+06</td> <td> 3.17e+06</td> <td>    1.180</td> <td> 0.239</td> <td> -2.5e+06</td> <td> 9.99e+06</td>\n",
       "</tr>\n",
       "<tr>\n",
       "  <th>Tm[T.DET]</th> <td> 6.423e+06</td> <td> 2.99e+06</td> <td>    2.148</td> <td> 0.033</td> <td> 5.36e+05</td> <td> 1.23e+07</td>\n",
       "</tr>\n",
       "<tr>\n",
       "  <th>Tm[T.HOU]</th> <td> 3.055e+06</td> <td> 2.99e+06</td> <td>    1.021</td> <td> 0.308</td> <td>-2.83e+06</td> <td> 8.94e+06</td>\n",
       "</tr>\n",
       "<tr>\n",
       "  <th>Tm[T.KCR]</th> <td> 6.161e+06</td> <td> 3.17e+06</td> <td>    1.942</td> <td> 0.053</td> <td>-8.26e+04</td> <td> 1.24e+07</td>\n",
       "</tr>\n",
       "<tr>\n",
       "  <th>Tm[T.LAA]</th> <td> 5.059e+06</td> <td> 2.92e+06</td> <td>    1.731</td> <td> 0.084</td> <td>-6.93e+05</td> <td> 1.08e+07</td>\n",
       "</tr>\n",
       "<tr>\n",
       "  <th>Tm[T.LAD]</th> <td> 2.516e+06</td> <td> 2.99e+06</td> <td>    0.841</td> <td> 0.401</td> <td>-3.37e+06</td> <td>  8.4e+06</td>\n",
       "</tr>\n",
       "<tr>\n",
       "  <th>Tm[T.MIA]</th> <td> 5.676e+05</td> <td> 3.17e+06</td> <td>    0.179</td> <td> 0.858</td> <td>-5.68e+06</td> <td> 6.81e+06</td>\n",
       "</tr>\n",
       "<tr>\n",
       "  <th>Tm[T.MIL]</th> <td>-6.797e+05</td> <td> 2.99e+06</td> <td>   -0.227</td> <td> 0.820</td> <td>-6.57e+06</td> <td> 5.21e+06</td>\n",
       "</tr>\n",
       "<tr>\n",
       "  <th>Tm[T.MIN]</th> <td> 4.809e+05</td> <td> 2.92e+06</td> <td>    0.165</td> <td> 0.869</td> <td>-5.27e+06</td> <td> 6.23e+06</td>\n",
       "</tr>\n",
       "<tr>\n",
       "  <th>Tm[T.NYM]</th> <td> 6.974e+06</td> <td> 2.81e+06</td> <td>    2.479</td> <td> 0.014</td> <td> 1.44e+06</td> <td> 1.25e+07</td>\n",
       "</tr>\n",
       "<tr>\n",
       "  <th>Tm[T.NYY]</th> <td> 4.272e+06</td> <td> 2.99e+06</td> <td>    1.428</td> <td> 0.154</td> <td>-1.61e+06</td> <td> 1.02e+07</td>\n",
       "</tr>\n",
       "<tr>\n",
       "  <th>Tm[T.OAK]</th> <td> -1.09e+05</td> <td>  3.3e+06</td> <td>   -0.033</td> <td> 0.974</td> <td> -6.6e+06</td> <td> 6.38e+06</td>\n",
       "</tr>\n",
       "<tr>\n",
       "  <th>Tm[T.PHI]</th> <td>-1.175e+06</td> <td> 3.17e+06</td> <td>   -0.371</td> <td> 0.711</td> <td>-7.42e+06</td> <td> 5.07e+06</td>\n",
       "</tr>\n",
       "<tr>\n",
       "  <th>Tm[T.PIT]</th> <td> 1.843e+06</td> <td> 2.99e+06</td> <td>    0.616</td> <td> 0.538</td> <td>-4.04e+06</td> <td> 7.73e+06</td>\n",
       "</tr>\n",
       "<tr>\n",
       "  <th>Tm[T.SDP]</th> <td> -1.94e+06</td> <td>  3.3e+06</td> <td>   -0.589</td> <td> 0.557</td> <td>-8.43e+06</td> <td> 4.55e+06</td>\n",
       "</tr>\n",
       "<tr>\n",
       "  <th>Tm[T.SEA]</th> <td> 3.109e+06</td> <td> 2.99e+06</td> <td>    1.040</td> <td> 0.299</td> <td>-2.78e+06</td> <td>    9e+06</td>\n",
       "</tr>\n",
       "<tr>\n",
       "  <th>Tm[T.SFG]</th> <td> 4.399e+06</td> <td> 3.07e+06</td> <td>    1.432</td> <td> 0.153</td> <td>-1.65e+06</td> <td> 1.04e+07</td>\n",
       "</tr>\n",
       "<tr>\n",
       "  <th>Tm[T.STL]</th> <td> 1.954e+06</td> <td> 2.99e+06</td> <td>    0.653</td> <td> 0.514</td> <td>-3.93e+06</td> <td> 7.84e+06</td>\n",
       "</tr>\n",
       "<tr>\n",
       "  <th>Tm[T.TBR]</th> <td>-2.146e+05</td> <td> 2.92e+06</td> <td>   -0.073</td> <td> 0.942</td> <td>-5.97e+06</td> <td> 5.54e+06</td>\n",
       "</tr>\n",
       "<tr>\n",
       "  <th>Tm[T.TEX]</th> <td> 4.523e+06</td> <td> 2.99e+06</td> <td>    1.512</td> <td> 0.132</td> <td>-1.36e+06</td> <td> 1.04e+07</td>\n",
       "</tr>\n",
       "<tr>\n",
       "  <th>Tm[T.TOR]</th> <td> 5.625e+06</td> <td> 2.92e+06</td> <td>    1.925</td> <td> 0.055</td> <td>-1.26e+05</td> <td> 1.14e+07</td>\n",
       "</tr>\n",
       "<tr>\n",
       "  <th>Tm[T.TOT]</th> <td> 4.582e+06</td> <td> 2.48e+06</td> <td>    1.851</td> <td> 0.065</td> <td>-2.91e+05</td> <td> 9.46e+06</td>\n",
       "</tr>\n",
       "<tr>\n",
       "  <th>Tm[T.WSN]</th> <td> 4.501e+06</td> <td> 2.99e+06</td> <td>    1.505</td> <td> 0.133</td> <td>-1.39e+06</td> <td> 1.04e+07</td>\n",
       "</tr>\n",
       "</table>\n",
       "<table class=\"simpletable\">\n",
       "<tr>\n",
       "  <th>Omnibus:</th>       <td>41.338</td> <th>  Durbin-Watson:     </th> <td>   0.225</td>\n",
       "</tr>\n",
       "<tr>\n",
       "  <th>Prob(Omnibus):</th> <td> 0.000</td> <th>  Jarque-Bera (JB):  </th> <td>  53.656</td>\n",
       "</tr>\n",
       "<tr>\n",
       "  <th>Skew:</th>          <td> 0.982</td> <th>  Prob(JB):          </th> <td>2.23e-12</td>\n",
       "</tr>\n",
       "<tr>\n",
       "  <th>Kurtosis:</th>      <td> 3.434</td> <th>  Cond. No.          </th> <td>    32.5</td>\n",
       "</tr>\n",
       "</table>"
      ],
      "text/plain": [
       "<class 'statsmodels.iolib.summary.Summary'>\n",
       "\"\"\"\n",
       "                            OLS Regression Results                            \n",
       "==============================================================================\n",
       "Dep. Variable:                 Salary   R-squared:                       0.116\n",
       "Model:                            OLS   Adj. R-squared:                  0.024\n",
       "Method:                 Least Squares   F-statistic:                     1.260\n",
       "Date:                Mon, 29 Jan 2018   Prob (F-statistic):              0.171\n",
       "Time:                        17:25:03   Log-Likelihood:                -5432.5\n",
       "No. Observations:                 318   AIC:                         1.093e+04\n",
       "Df Residuals:                     287   BIC:                         1.104e+04\n",
       "Df Model:                          30                                         \n",
       "Covariance Type:            nonrobust                                         \n",
       "==============================================================================\n",
       "                 coef    std err          t      P>|t|      [0.025      0.975]\n",
       "------------------------------------------------------------------------------\n",
       "Intercept   3.514e+06   2.11e+06      1.661      0.098   -6.49e+05    7.68e+06\n",
       "Tm[T.ATL]    5.17e+06   3.07e+06      1.682      0.094   -8.79e+05    1.12e+07\n",
       "Tm[T.BAL]   4.285e+06   2.86e+06      1.496      0.136   -1.35e+06    9.92e+06\n",
       "Tm[T.BOS]   2.835e+06   2.99e+06      0.948      0.344   -3.05e+06    8.72e+06\n",
       "Tm[T.CHC]   2.879e+06   2.99e+06      0.963      0.337   -3.01e+06    8.77e+06\n",
       "Tm[T.CHW]   1.358e+06   3.07e+06      0.442      0.659   -4.69e+06    7.41e+06\n",
       "Tm[T.CIN]   4.088e+05   3.07e+06      0.133      0.894   -5.64e+06    6.46e+06\n",
       "Tm[T.CLE]   2.168e+06   2.99e+06      0.725      0.469   -3.72e+06    8.05e+06\n",
       "Tm[T.COL]   3.744e+06   3.17e+06      1.180      0.239    -2.5e+06    9.99e+06\n",
       "Tm[T.DET]   6.423e+06   2.99e+06      2.148      0.033    5.36e+05    1.23e+07\n",
       "Tm[T.HOU]   3.055e+06   2.99e+06      1.021      0.308   -2.83e+06    8.94e+06\n",
       "Tm[T.KCR]   6.161e+06   3.17e+06      1.942      0.053   -8.26e+04    1.24e+07\n",
       "Tm[T.LAA]   5.059e+06   2.92e+06      1.731      0.084   -6.93e+05    1.08e+07\n",
       "Tm[T.LAD]   2.516e+06   2.99e+06      0.841      0.401   -3.37e+06     8.4e+06\n",
       "Tm[T.MIA]   5.676e+05   3.17e+06      0.179      0.858   -5.68e+06    6.81e+06\n",
       "Tm[T.MIL]  -6.797e+05   2.99e+06     -0.227      0.820   -6.57e+06    5.21e+06\n",
       "Tm[T.MIN]   4.809e+05   2.92e+06      0.165      0.869   -5.27e+06    6.23e+06\n",
       "Tm[T.NYM]   6.974e+06   2.81e+06      2.479      0.014    1.44e+06    1.25e+07\n",
       "Tm[T.NYY]   4.272e+06   2.99e+06      1.428      0.154   -1.61e+06    1.02e+07\n",
       "Tm[T.OAK]   -1.09e+05    3.3e+06     -0.033      0.974    -6.6e+06    6.38e+06\n",
       "Tm[T.PHI]  -1.175e+06   3.17e+06     -0.371      0.711   -7.42e+06    5.07e+06\n",
       "Tm[T.PIT]   1.843e+06   2.99e+06      0.616      0.538   -4.04e+06    7.73e+06\n",
       "Tm[T.SDP]   -1.94e+06    3.3e+06     -0.589      0.557   -8.43e+06    4.55e+06\n",
       "Tm[T.SEA]   3.109e+06   2.99e+06      1.040      0.299   -2.78e+06       9e+06\n",
       "Tm[T.SFG]   4.399e+06   3.07e+06      1.432      0.153   -1.65e+06    1.04e+07\n",
       "Tm[T.STL]   1.954e+06   2.99e+06      0.653      0.514   -3.93e+06    7.84e+06\n",
       "Tm[T.TBR]  -2.146e+05   2.92e+06     -0.073      0.942   -5.97e+06    5.54e+06\n",
       "Tm[T.TEX]   4.523e+06   2.99e+06      1.512      0.132   -1.36e+06    1.04e+07\n",
       "Tm[T.TOR]   5.625e+06   2.92e+06      1.925      0.055   -1.26e+05    1.14e+07\n",
       "Tm[T.TOT]   4.582e+06   2.48e+06      1.851      0.065   -2.91e+05    9.46e+06\n",
       "Tm[T.WSN]   4.501e+06   2.99e+06      1.505      0.133   -1.39e+06    1.04e+07\n",
       "==============================================================================\n",
       "Omnibus:                       41.338   Durbin-Watson:                   0.225\n",
       "Prob(Omnibus):                  0.000   Jarque-Bera (JB):               53.656\n",
       "Skew:                           0.982   Prob(JB):                     2.23e-12\n",
       "Kurtosis:                       3.434   Cond. No.                         32.5\n",
       "==============================================================================\n",
       "\n",
       "Warnings:\n",
       "[1] Standard Errors assume that the covariance matrix of the errors is correctly specified.\n",
       "\"\"\""
      ]
     },
     "execution_count": 304,
     "metadata": {},
     "output_type": "execute_result"
    }
   ],
   "source": [
    "y = batdf2['Salary']\n",
    "x = batdf2.drop(['Name', 'Age','Salary', 'Rk', 'Tm', 'Lg', 'G', 'PA', 'AB', 'R', 'H',\n",
    "       '2B', '3B', 'HR', 'RBI', 'SB', 'CS', 'BB', 'SO', 'BA', 'OBP', 'SLG',\n",
    "       'OPS', 'OPS+', 'TB', 'GDP', 'HBP', 'SH', 'SF', 'IBB', 'Pos\\xa0Summary','ones'],1)\n",
    "\n",
    "lsm = sm.OLS(y,x)\n",
    "fit4 = lsm.fit()\n",
    "fit4.summary()"
   ]
  },
  {
   "cell_type": "markdown",
   "metadata": {},
   "source": [
    "If we take the coefficient of T.SEA (which equals 3,109,000) we can interpret this by saying that if a player is on the Seattle Mariners then we expect them to make $3,109,000 more than if they played for our base case team which is the Arizona Diamondbacks.  "
   ]
  },
  {
   "cell_type": "markdown",
   "metadata": {},
   "source": [
    "# Challenge 4\n",
    "\n",
    "In this challenge we need to improve the model by adding more features and/or transforming existing ones."
   ]
  },
  {
   "cell_type": "code",
   "execution_count": 305,
   "metadata": {
    "collapsed": true
   },
   "outputs": [],
   "source": [
    "#I think that salary needs to be transformed into log_salary\n",
    "batdf2['log_salary'] = np.log(batdf2.Salary)\n",
    "batdf2['Intercept'] = np.log(batdf2.Intercept)"
   ]
  },
  {
   "cell_type": "code",
   "execution_count": 313,
   "metadata": {},
   "outputs": [
    {
     "data": {
      "text/html": [
       "<table class=\"simpletable\">\n",
       "<caption>OLS Regression Results</caption>\n",
       "<tr>\n",
       "  <th>Dep. Variable:</th>       <td>log_salary</td>    <th>  R-squared:         </th> <td>   0.619</td>\n",
       "</tr>\n",
       "<tr>\n",
       "  <th>Model:</th>                   <td>OLS</td>       <th>  Adj. R-squared:    </th> <td>   0.611</td>\n",
       "</tr>\n",
       "<tr>\n",
       "  <th>Method:</th>             <td>Least Squares</td>  <th>  F-statistic:       </th> <td>   72.10</td>\n",
       "</tr>\n",
       "<tr>\n",
       "  <th>Date:</th>             <td>Mon, 29 Jan 2018</td> <th>  Prob (F-statistic):</th> <td>2.57e-61</td>\n",
       "</tr>\n",
       "<tr>\n",
       "  <th>Time:</th>                 <td>17:26:43</td>     <th>  Log-Likelihood:    </th> <td> -389.15</td>\n",
       "</tr>\n",
       "<tr>\n",
       "  <th>No. Observations:</th>      <td>   318</td>      <th>  AIC:               </th> <td>   794.3</td>\n",
       "</tr>\n",
       "<tr>\n",
       "  <th>Df Residuals:</th>          <td>   310</td>      <th>  BIC:               </th> <td>   824.4</td>\n",
       "</tr>\n",
       "<tr>\n",
       "  <th>Df Model:</th>              <td>     7</td>      <th>                     </th>     <td> </td>   \n",
       "</tr>\n",
       "<tr>\n",
       "  <th>Covariance Type:</th>      <td>nonrobust</td>    <th>                     </th>     <td> </td>   \n",
       "</tr>\n",
       "</table>\n",
       "<table class=\"simpletable\">\n",
       "<tr>\n",
       "    <td></td>      <th>coef</th>     <th>std err</th>      <th>t</th>      <th>P>|t|</th>  <th>[0.025</th>    <th>0.975]</th>  \n",
       "</tr>\n",
       "<tr>\n",
       "  <th>Age</th>  <td>    0.2473</td> <td>    0.013</td> <td>   19.002</td> <td> 0.000</td> <td>    0.222</td> <td>    0.273</td>\n",
       "</tr>\n",
       "<tr>\n",
       "  <th>G</th>    <td>   -0.0227</td> <td>    0.004</td> <td>   -5.464</td> <td> 0.000</td> <td>   -0.031</td> <td>   -0.015</td>\n",
       "</tr>\n",
       "<tr>\n",
       "  <th>AB</th>   <td>    0.0043</td> <td>    0.001</td> <td>    3.380</td> <td> 0.001</td> <td>    0.002</td> <td>    0.007</td>\n",
       "</tr>\n",
       "<tr>\n",
       "  <th>R</th>    <td>    0.0169</td> <td>    0.005</td> <td>    3.099</td> <td> 0.002</td> <td>    0.006</td> <td>    0.028</td>\n",
       "</tr>\n",
       "<tr>\n",
       "  <th>RBI</th>  <td>    0.0098</td> <td>    0.004</td> <td>    2.327</td> <td> 0.021</td> <td>    0.002</td> <td>    0.018</td>\n",
       "</tr>\n",
       "<tr>\n",
       "  <th>SO</th>   <td>   -0.0064</td> <td>    0.002</td> <td>   -3.610</td> <td> 0.000</td> <td>   -0.010</td> <td>   -0.003</td>\n",
       "</tr>\n",
       "<tr>\n",
       "  <th>OPS</th>  <td>   -0.7193</td> <td>    0.860</td> <td>   -0.836</td> <td> 0.404</td> <td>   -2.412</td> <td>    0.973</td>\n",
       "</tr>\n",
       "<tr>\n",
       "  <th>ones</th> <td>    8.3563</td> <td>    0.836</td> <td>   10.000</td> <td> 0.000</td> <td>    6.712</td> <td>   10.001</td>\n",
       "</tr>\n",
       "</table>\n",
       "<table class=\"simpletable\">\n",
       "<tr>\n",
       "  <th>Omnibus:</th>       <td> 0.989</td> <th>  Durbin-Watson:     </th> <td>   1.013</td>\n",
       "</tr>\n",
       "<tr>\n",
       "  <th>Prob(Omnibus):</th> <td> 0.610</td> <th>  Jarque-Bera (JB):  </th> <td>   1.046</td>\n",
       "</tr>\n",
       "<tr>\n",
       "  <th>Skew:</th>          <td>-0.059</td> <th>  Prob(JB):          </th> <td>   0.593</td>\n",
       "</tr>\n",
       "<tr>\n",
       "  <th>Kurtosis:</th>      <td> 2.745</td> <th>  Cond. No.          </th> <td>1.16e+04</td>\n",
       "</tr>\n",
       "</table>"
      ],
      "text/plain": [
       "<class 'statsmodels.iolib.summary.Summary'>\n",
       "\"\"\"\n",
       "                            OLS Regression Results                            \n",
       "==============================================================================\n",
       "Dep. Variable:             log_salary   R-squared:                       0.619\n",
       "Model:                            OLS   Adj. R-squared:                  0.611\n",
       "Method:                 Least Squares   F-statistic:                     72.10\n",
       "Date:                Mon, 29 Jan 2018   Prob (F-statistic):           2.57e-61\n",
       "Time:                        17:26:43   Log-Likelihood:                -389.15\n",
       "No. Observations:                 318   AIC:                             794.3\n",
       "Df Residuals:                     310   BIC:                             824.4\n",
       "Df Model:                           7                                         \n",
       "Covariance Type:            nonrobust                                         \n",
       "==============================================================================\n",
       "                 coef    std err          t      P>|t|      [0.025      0.975]\n",
       "------------------------------------------------------------------------------\n",
       "Age            0.2473      0.013     19.002      0.000       0.222       0.273\n",
       "G             -0.0227      0.004     -5.464      0.000      -0.031      -0.015\n",
       "AB             0.0043      0.001      3.380      0.001       0.002       0.007\n",
       "R              0.0169      0.005      3.099      0.002       0.006       0.028\n",
       "RBI            0.0098      0.004      2.327      0.021       0.002       0.018\n",
       "SO            -0.0064      0.002     -3.610      0.000      -0.010      -0.003\n",
       "OPS           -0.7193      0.860     -0.836      0.404      -2.412       0.973\n",
       "ones           8.3563      0.836     10.000      0.000       6.712      10.001\n",
       "==============================================================================\n",
       "Omnibus:                        0.989   Durbin-Watson:                   1.013\n",
       "Prob(Omnibus):                  0.610   Jarque-Bera (JB):                1.046\n",
       "Skew:                          -0.059   Prob(JB):                        0.593\n",
       "Kurtosis:                       2.745   Cond. No.                     1.16e+04\n",
       "==============================================================================\n",
       "\n",
       "Warnings:\n",
       "[1] Standard Errors assume that the covariance matrix of the errors is correctly specified.\n",
       "[2] The condition number is large, 1.16e+04. This might indicate that there are\n",
       "strong multicollinearity or other numerical problems.\n",
       "\"\"\""
      ]
     },
     "execution_count": 313,
     "metadata": {},
     "output_type": "execute_result"
    }
   ],
   "source": [
    "y = batdf2['log_salary']\n",
    "x = batdf.drop(['Name','BB','Salary','OBP','PA','SB','SLG' ,'Rk', 'Tm', 'Lg', 'H',\n",
    "       '2B', '3B', 'HR', 'CS', 'BA', 'OPS+', 'TB', 'GDP', 'HBP', 'SH', 'SF', 'IBB', 'Pos\\xa0Summary'],1)\n",
    "\n",
    "lsm = sm.OLS(y,x)\n",
    "fit4 = lsm.fit()\n",
    "fit4.summary()"
   ]
  },
  {
   "cell_type": "markdown",
   "metadata": {},
   "source": [
    "# Challenge 5\n",
    "\n",
    "In this section we will use test data and training data to test the accuracy of the predictions."
   ]
  },
  {
   "cell_type": "code",
   "execution_count": 314,
   "metadata": {},
   "outputs": [
    {
     "data": {
      "text/plain": [
       "0.5605977741595618"
      ]
     },
     "execution_count": 314,
     "metadata": {},
     "output_type": "execute_result"
    }
   ],
   "source": [
    "lr = LinearRegression()\n",
    "\n",
    "# INSTRUCTOR NOTE: Run this multiple times to show the variation\n",
    "# Split the data into training and test sets\n",
    "X_train, X_test, y_train, y_test = train_test_split(x, y, test_size=0.25)\n",
    "# Fit the model against the training data\n",
    "lr.fit(X_train, y_train)\n",
    "# Evaluate the model against the testing data\n",
    "lr.score(X_test, y_test)\n",
    "\n"
   ]
  },
  {
   "cell_type": "code",
   "execution_count": 315,
   "metadata": {},
   "outputs": [
    {
     "data": {
      "text/plain": [
       "7.4628316800408836"
      ]
     },
     "execution_count": 315,
     "metadata": {},
     "output_type": "execute_result"
    }
   ],
   "source": [
    "np.dot(lr.coef_,np.array(x)[10])"
   ]
  },
  {
   "cell_type": "code",
   "execution_count": 318,
   "metadata": {},
   "outputs": [
    {
     "data": {
      "text/plain": [
       "[<matplotlib.lines.Line2D at 0x1c209cc588>]"
      ]
     },
     "execution_count": 318,
     "metadata": {},
     "output_type": "execute_result"
    },
    {
     "data": {
      "image/png": "[encoded data removed]",
      "text/plain": [
       "<matplotlib.figure.Figure at 0x1c217bc0f0>"
      ]
     },
     "metadata": {},
     "output_type": "display_data"
    }
   ],
   "source": [
    "predictions = []\n",
    "i = 0\n",
    "while i < len(x):\n",
    "    predictions.append(np.dot(lr.coef_, np.array(x)[i]))\n",
    "    i = i + 1\n",
    "plt.scatter(range(1,319),batdf2['log_salary'])\n",
    "plt.plot(range(1,319), predictions, color='red')\n"
   ]
  },
  {
   "cell_type": "code",
   "execution_count": null,
   "metadata": {},
   "outputs": [],
   "source": [
    "# 10-fold cross-validation\n",
    "reg = LinearRegression()\n",
    "scores = cross_val_score(reg, x, y, cv=10, scoring='mean_squared_error')\n",
    "\n",
    "# scores output is negative, a sklearn quirk bc mse is used to min. optimization func.\n",
    "print(-scores)"
   ]
  },
  {
   "cell_type": "code",
   "execution_count": null,
   "metadata": {},
   "outputs": [],
   "source": [
    "est=LinearRegression()\n",
    "X = batdf2.drop(['log_salary','Salary','Tm','Lg','Pos\\xa0Summary','ones','Name'],1)\n",
    "\n",
    "kf=KFold(n=len(X),n_folds=5,shuffle=True)\n",
    "\n",
    "all_scores=[]\n",
    "\n",
    "# Instead of using cross_val_score, let's use sklearn.cross_validation.KFold; this will allow\n",
    "# us to 'manipulate' our training set, \n",
    "\n",
    "# get indices of corresponding train & test\n",
    "for train,test in kf:\n",
    "    x_train=X.iloc[train]\n",
    "    y_train=y.iloc[train]\n",
    "    x_test=X.iloc[test]\n",
    "    y_test=y.iloc[test]\n",
    "    pvals=[]\n",
    "    sig_cols=[]\n",
    "    \n",
    "    for feature in x_train.columns:\n",
    "        pval=f_select.f_regression(x_train[[feature]],y_train)\n",
    "        if pval[1][0]<.02: \n",
    "            sig_cols.append(feature)\n",
    "            pvals.append(pval[1][0])\n",
    "            \n",
    "    est.fit(x_train[sig_cols],y_train)\n",
    "    r_2=est.score(x_test[sig_cols],y_test)\n",
    "    all_scores.append(r_2)\n",
    "        \n",
    "np.mean(all_scores)\n",
    "    "
   ]
  },
  {
   "cell_type": "code",
   "execution_count": null,
   "metadata": {
    "collapsed": true
   },
   "outputs": [],
   "source": []
  }
 ],
 "metadata": {
  "kernelspec": {
   "display_name": "Python 3",
   "language": "python",
   "name": "python3"
  },
  "language_info": {
   "codemirror_mode": {
    "name": "ipython",
    "version": 3
   },
   "file_extension": ".py",
   "mimetype": "text/x-python",
   "name": "python",
   "nbconvert_exporter": "python",
   "pygments_lexer": "ipython3",
   "version": "3.6.3"
  }
 },
 "nbformat": 4,
 "nbformat_minor": 2
}
