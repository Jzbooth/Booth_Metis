{
 "cells": [
  {
   "cell_type": "code",
   "execution_count": 125,
   "metadata": {},
   "outputs": [],
   "source": [
    "import pandas as pd\n",
    "from collections import defaultdict\n",
    "import numpy as np\n",
    "import seaborn as sns\n",
    "import matplotlib.pyplot as plt\n",
    "from sklearn.model_selection import train_test_split\n",
    "from sklearn.pipeline import make_pipeline\n",
    "from sklearn.metrics import mean_squared_error\n",
    "from sklearn.metrics import r2_score\n",
    "from sklearn.preprocessing import PolynomialFeatures\n",
    "import re\n",
    "from patsy import dmatrices\n",
    "from sklearn import linear_model as lm\n",
    "from sklearn import cross_validation\n",
    "from sklearn import metrics\n",
    "from sklearn.metrics import confusion_matrix\n",
    "%matplotlib inline\n",
    "from sklearn.tree import DecisionTreeClassifier\n",
    "from sklearn.neighbors import KNeighborsClassifier\n",
    "from sklearn import metrics\n",
    "from sklearn.svm import LinearSVC\n",
    "from sklearn.svm import SVC\n",
    "from sklearn.ensemble import RandomForestClassifier\n",
    "from sklearn.linear_model import LogisticRegression\n",
    "from IPython.display import Image\n",
    "from sklearn.decomposition import PCA\n",
    "from sklearn.metrics import roc_curve, auc\n",
    "from sklearn.metrics import classification_report\n",
    "from sklearn import tree\n",
    "import pickle"
   ]
  },
  {
   "cell_type": "code",
   "execution_count": 126,
   "metadata": {
    "collapsed": true
   },
   "outputs": [],
   "source": [
    "with open(\"ccdf3.pkl\", 'rb') as picklefile: \n",
    "    ccdf = pickle.load(picklefile)"
   ]
  },
  {
   "cell_type": "code",
   "execution_count": 143,
   "metadata": {
    "collapsed": true
   },
   "outputs": [],
   "source": [
    "with open(\"ccdf_upsampled_test.pkl\", 'rb') as picklefile: \n",
    "    ccdf_up_test = pickle.load(picklefile)\n",
    "    \n",
    "    \n",
    "X_up_test = ccdf_up_test.drop(['default'],1)\n",
    "y_up_test = ccdf_up_test.default"
   ]
  },
  {
   "cell_type": "code",
   "execution_count": 128,
   "metadata": {
    "collapsed": true
   },
   "outputs": [],
   "source": [
    "with open(\"ccdf_upsampled_train.pkl\", 'rb') as picklefile: \n",
    "    ccdf_up = pickle.load(picklefile)"
   ]
  },
  {
   "cell_type": "code",
   "execution_count": 129,
   "metadata": {
    "collapsed": true
   },
   "outputs": [],
   "source": [
    "with open(\"ccdf_downsampled.pkl\", 'rb') as picklefile: \n",
    "    ccdf_down = pickle.load(picklefile)"
   ]
  },
  {
   "cell_type": "code",
   "execution_count": 130,
   "metadata": {
    "collapsed": true
   },
   "outputs": [],
   "source": [
    "def plot_confusion_matrix(cm,title='Confusion matrix', cmap=plt.cm.Reds):\n",
    "    plt.imshow(cm, interpolation='nearest',cmap=cmap)\n",
    "    plt.title(title)\n",
    "    plt.colorbar()\n",
    "    plt.tight_layout()\n",
    "    plt.ylabel('True label')\n",
    "    plt.xlabel('Predicted label')"
   ]
  },
  {
   "cell_type": "code",
   "execution_count": 131,
   "metadata": {
    "collapsed": true
   },
   "outputs": [],
   "source": [
    "def train_score(classifier,x,y):\n",
    "    xtrain, xtest, ytrain, ytest = cross_validation.train_test_split(x, y, test_size=0.3, random_state=1234)\n",
    "    ytrain=np.ravel(ytrain)\n",
    "    clf = classifier.fit(xtrain, ytrain)\n",
    "    # accuracy for test & train:\n",
    "    train_acc=clf.score(xtrain, ytrain)\n",
    "    test_acc=clf.score(xtest,ytest)\n",
    "    print(\"Training Data Accuracy: %0.2f\" %(train_acc))\n",
    "    print(\"Test Data Accuracy:     %0.2f\" %(test_acc))\n",
    "    \n",
    "    y_true = ytest\n",
    "    y_pred = clf.predict(xtest)\n",
    "\n",
    "\n",
    "    conf = confusion_matrix(y_true, y_pred)\n",
    "    print(conf)\n",
    "\n",
    "    print ('\\n')\n",
    "    print (\"Precision:              %0.2f\" %(conf[0, 0] / (conf[0, 0] + conf[1, 0])))\n",
    "    print (\"Recall:                 %0.2f\"% (conf[0, 0] / (conf[0, 0] + conf[0, 1])))\n",
    "    \n",
    "    cm=confusion_matrix(y_true, y_pred, labels=None)\n",
    "    \n",
    "    plt.figure()\n",
    "    plot_confusion_matrix(cm)"
   ]
  },
  {
   "cell_type": "code",
   "execution_count": 141,
   "metadata": {},
   "outputs": [],
   "source": [
    "X = ccdf.drop(['default'],1)\n",
    "y = ccdf['default']\n",
    "\n",
    "X_up_train = ccdf_up.drop('default',1)\n",
    "y_up_train = ccdf_up['default']\n",
    "\n",
    "X_down = ccdf_down.drop('default',1)\n",
    "y_down = ccdf_down['default']"
   ]
  },
  {
   "cell_type": "code",
   "execution_count": 135,
   "metadata": {
    "collapsed": true
   },
   "outputs": [],
   "source": [
    "X_train, X_test, y_train, y_test = train_test_split(X, y, test_size=0.3, random_state=1234)\n",
    "\n",
    "\n",
    "X_down_train, X_down_test, y_down_train, y_down_test = train_test_split(X_down, y_down, test_size=0.3, random_state=1234)"
   ]
  },
  {
   "cell_type": "code",
   "execution_count": 136,
   "metadata": {},
   "outputs": [
    {
     "name": "stdout",
     "output_type": "stream",
     "text": [
      "0.725682935193\n"
     ]
    }
   ],
   "source": [
    "#Decision tree classifier\n",
    "dtc = DecisionTreeClassifier()\n",
    "fit = dtc.fit(X_train, y_train)\n",
    "yhat = fit.predict(X_test)\n",
    "dtc_score = fit.score(X_test, y_test)\n",
    "print(dtc_score)"
   ]
  },
  {
   "cell_type": "code",
   "execution_count": 137,
   "metadata": {},
   "outputs": [
    {
     "name": "stdout",
     "output_type": "stream",
     "text": [
      "Training Data Accuracy: 1.00\n",
      "Test Data Accuracy:     0.73\n",
      "[[5556 1307]\n",
      " [1058  828]]\n",
      "\n",
      "\n",
      "Precision:              0.84\n",
      "Recall:                 0.81\n"
     ]
    },
    {
     "data": {
      "image/png": "[encoded data removed]",
      "text/plain": [
       "<matplotlib.figure.Figure at 0x1a17fe6e80>"
      ]
     },
     "metadata": {},
     "output_type": "display_data"
    }
   ],
   "source": [
    "train_score(dtc,X,y)"
   ]
  },
  {
   "cell_type": "code",
   "execution_count": 138,
   "metadata": {},
   "outputs": [
    {
     "data": {
      "text/plain": [
       "Text(0,0.5,'TPR')"
      ]
     },
     "execution_count": 138,
     "metadata": {},
     "output_type": "execute_result"
    },
    {
     "data": {
      "image/png": "[encoded data removed]",
      "text/plain": [
       "<matplotlib.figure.Figure at 0x1a17238780>"
      ]
     },
     "metadata": {},
     "output_type": "display_data"
    }
   ],
   "source": [
    "# What about ROC ? \n",
    "y_score=dtc.predict_proba(X_test)[:,1]\n",
    "\n",
    "fpr, tpr,_ = roc_curve(y_test, y_score)\n",
    "roc_auc = auc(fpr, tpr)\n",
    "\n",
    "plt.figure()\n",
    "# Plotting our Baseline..\n",
    "plt.plot([0,1],[0,1])\n",
    "plt.plot(fpr,tpr)\n",
    "plt.xlabel('FPR')\n",
    "plt.ylabel('TPR')"
   ]
  },
  {
   "cell_type": "code",
   "execution_count": 139,
   "metadata": {},
   "outputs": [
    {
     "data": {
      "text/plain": [
       "0.62435294366690985"
      ]
     },
     "execution_count": 139,
     "metadata": {},
     "output_type": "execute_result"
    }
   ],
   "source": [
    "roc_auc"
   ]
  },
  {
   "cell_type": "code",
   "execution_count": 145,
   "metadata": {},
   "outputs": [
    {
     "name": "stdout",
     "output_type": "stream",
     "text": [
      "0.610182170202\n"
     ]
    }
   ],
   "source": [
    "#Decision tree classifier\n",
    "dtc = DecisionTreeClassifier()\n",
    "fit = dtc.fit(X_up_train, y_up_train)\n",
    "yhat = fit.predict(X_up_test)\n",
    "dtc_score = fit.score(X_up_test, y_up_test)\n",
    "print(dtc_score)"
   ]
  },
  {
   "cell_type": "code",
   "execution_count": 146,
   "metadata": {},
   "outputs": [
    {
     "name": "stdout",
     "output_type": "stream",
     "text": [
      "[[9403 1960]\n",
      " [6899 4464]]\n"
     ]
    },
    {
     "data": {
      "image/png": "[encoded data removed]",
      "text/plain": [
       "<matplotlib.figure.Figure at 0x1a231225f8>"
      ]
     },
     "metadata": {},
     "output_type": "display_data"
    }
   ],
   "source": [
    "cm=confusion_matrix(y_up_test, yhat, labels=None)\n",
    "    \n",
    "plt.figure()\n",
    "plot_confusion_matrix(cm)\n",
    "print(cm)"
   ]
  },
  {
   "cell_type": "code",
   "execution_count": 147,
   "metadata": {},
   "outputs": [
    {
     "data": {
      "text/plain": [
       "Text(0,0.5,'TPR')"
      ]
     },
     "execution_count": 147,
     "metadata": {},
     "output_type": "execute_result"
    },
    {
     "data": {
      "image/png": "[encoded data removed]",
      "text/plain": [
       "<matplotlib.figure.Figure at 0x1a14cc2b70>"
      ]
     },
     "metadata": {},
     "output_type": "display_data"
    }
   ],
   "source": [
    "# What about ROC ? \n",
    "y_up_score=dtc.predict_proba(X_up_test)[:,1]\n",
    "\n",
    "fpr_up, tpr_up,_ = roc_curve(y_up_test, y_up_score)\n",
    "roc_auc_up = auc(fpr_up, tpr_up)\n",
    "\n",
    "plt.figure()\n",
    "# Plotting our Baseline..\n",
    "plt.plot([0,1],[0,1])\n",
    "plt.plot(fpr_up,tpr_up)\n",
    "plt.xlabel('FPR')\n",
    "plt.ylabel('TPR')"
   ]
  },
  {
   "cell_type": "code",
   "execution_count": 148,
   "metadata": {},
   "outputs": [
    {
     "data": {
      "text/plain": [
       "0.61018217020153132"
      ]
     },
     "execution_count": 148,
     "metadata": {},
     "output_type": "execute_result"
    }
   ],
   "source": [
    "roc_auc_up"
   ]
  },
  {
   "cell_type": "code",
   "execution_count": 149,
   "metadata": {},
   "outputs": [
    {
     "name": "stdout",
     "output_type": "stream",
     "text": [
      "0.627718765807\n"
     ]
    }
   ],
   "source": [
    "#Decision tree classifier\n",
    "dtc = DecisionTreeClassifier()\n",
    "fit = dtc.fit(X_down_train, y_down_train)\n",
    "yhat = fit.predict(X_down_test)\n",
    "dtc_score = fit.score(X_down_test, y_down_test)\n",
    "print(dtc_score)"
   ]
  },
  {
   "cell_type": "code",
   "execution_count": 150,
   "metadata": {},
   "outputs": [
    {
     "name": "stdout",
     "output_type": "stream",
     "text": [
      "Training Data Accuracy: 1.00\n",
      "Test Data Accuracy:     0.62\n",
      "[[616 405]\n",
      " [352 604]]\n",
      "\n",
      "\n",
      "Precision:              0.64\n",
      "Recall:                 0.60\n"
     ]
    },
    {
     "data": {
      "image/png": "[encoded data removed]",
      "text/plain": [
       "<matplotlib.figure.Figure at 0x1a15cf14e0>"
      ]
     },
     "metadata": {},
     "output_type": "display_data"
    }
   ],
   "source": [
    "train_score(dtc,X_down,y_down)"
   ]
  },
  {
   "cell_type": "code",
   "execution_count": 151,
   "metadata": {
    "scrolled": true
   },
   "outputs": [
    {
     "data": {
      "text/plain": [
       "Text(0,0.5,'TPR')"
      ]
     },
     "execution_count": 151,
     "metadata": {},
     "output_type": "execute_result"
    },
    {
     "data": {
      "image/png": "[encoded data removed]",
      "text/plain": [
       "<matplotlib.figure.Figure at 0x1a14cc2518>"
      ]
     },
     "metadata": {},
     "output_type": "display_data"
    }
   ],
   "source": [
    "# What about ROC ? \n",
    "y_down_score=dtc.predict_proba(X_down_test)[:,1]\n",
    "\n",
    "fpr_down, tpr_down,_ = roc_curve(y_down_test, y_down_score)\n",
    "roc_auc_down = auc(fpr_down, tpr_down)\n",
    "\n",
    "plt.figure()\n",
    "# Plotting our Baseline..\n",
    "plt.plot([0,1],[0,1])\n",
    "plt.plot(fpr_down,tpr_down)\n",
    "plt.xlabel('FPR')\n",
    "plt.ylabel('TPR')"
   ]
  },
  {
   "cell_type": "code",
   "execution_count": 152,
   "metadata": {},
   "outputs": [
    {
     "data": {
      "text/plain": [
       "0.61756461587007561"
      ]
     },
     "execution_count": 152,
     "metadata": {},
     "output_type": "execute_result"
    }
   ],
   "source": [
    "roc_auc_down"
   ]
  },
  {
   "cell_type": "code",
   "execution_count": 153,
   "metadata": {
    "scrolled": true
   },
   "outputs": [
    {
     "data": {
      "image/png": "[encoded data removed]",
      "text/plain": [
       "<matplotlib.figure.Figure at 0x1a15ef4668>"
      ]
     },
     "metadata": {},
     "output_type": "display_data"
    }
   ],
   "source": [
    "plt.figure()\n",
    "# Plotting our Baseline..\n",
    "plt.plot([0,1],[0,1])\n",
    "plt.plot(fpr,tpr, label = 'original', linestyle = '-.')\n",
    "plt.plot(fpr_up,tpr_up, label = 'up sampled', linestyle = '--')\n",
    "plt.plot(fpr_down,tpr_down, label = 'down smapled')\n",
    "plt.xlabel('FPR')\n",
    "plt.ylabel('TPR')\n",
    "plt.legend();"
   ]
  },
  {
   "cell_type": "markdown",
   "metadata": {},
   "source": [
    "From the combined roc plot we can see that the up-sampled data set is performing much better.\n"
   ]
  },
  {
   "cell_type": "code",
   "execution_count": 154,
   "metadata": {},
   "outputs": [
    {
     "name": "stderr",
     "output_type": "stream",
     "text": [
      "/Users/gilliangoodman/anaconda3/lib/python3.6/site-packages/sklearn/grid_search.py:42: DeprecationWarning: This module was deprecated in version 0.18 in favor of the model_selection module into which all the refactored classes and functions are moved. This module will be removed in 0.20.\n",
      "  DeprecationWarning)\n"
     ]
    },
    {
     "name": "stdout",
     "output_type": "stream",
     "text": [
      "{'max_depth': None, 'max_features': 'auto'}\n"
     ]
    }
   ],
   "source": [
    "from sklearn.grid_search import GridSearchCV\n",
    "from sklearn.datasets import make_classification\n",
    "\n",
    "\n",
    "\n",
    "dtc = DecisionTreeClassifier(max_features= 'sqrt' , max_depth = None) \n",
    "\n",
    "param_grid = { \n",
    "    #'n_estimators': [10, 25, 50, 70, 100],\n",
    "    'max_features': ['auto', 'sqrt', 'log2', None],\n",
    "    'max_depth': [1,5,10,25,None]\n",
    "}\n",
    "\n",
    "CV_rfc = GridSearchCV(estimator=dtc, param_grid=param_grid, cv= 5,n_jobs=-1)\n",
    "CV_rfc.fit(X_up_train, y_up_train)\n",
    "print(CV_rfc.best_params_)"
   ]
  },
  {
   "cell_type": "code",
   "execution_count": 155,
   "metadata": {},
   "outputs": [
    {
     "name": "stdout",
     "output_type": "stream",
     "text": [
      "0.700211211828\n"
     ]
    }
   ],
   "source": [
    "#Random forest classifier\n",
    "dtc = DecisionTreeClassifier(max_depth=3)\n",
    "fit = dtc.fit(X_up_train, y_up_train)\n",
    "yhat_up = fit.predict(X_up_test)\n",
    "dtc_score = fit.score(X_up_test, y_up_test)\n",
    "print(dtc_score)"
   ]
  },
  {
   "cell_type": "code",
   "execution_count": 156,
   "metadata": {},
   "outputs": [
    {
     "data": {
      "text/plain": [
       "Text(0,0.5,'TPR')"
      ]
     },
     "execution_count": 156,
     "metadata": {},
     "output_type": "execute_result"
    },
    {
     "data": {
      "image/png": "[encoded data removed]",
      "text/plain": [
       "<matplotlib.figure.Figure at 0x10dbe76d8>"
      ]
     },
     "metadata": {},
     "output_type": "display_data"
    }
   ],
   "source": [
    "# What about ROC ? \n",
    "y_score=dtc.predict_proba(X_up_test)[:,1]\n",
    "\n",
    "fpr, tpr,_ = roc_curve(y_up_test, y_score)\n",
    "roc_auc = auc(fpr, tpr)\n",
    "\n",
    "plt.figure()\n",
    "# Plotting our Baseline..\n",
    "plt.plot([0,1],[0,1])\n",
    "plt.plot(fpr,tpr)\n",
    "plt.xlabel('FPR')\n",
    "plt.ylabel('TPR')"
   ]
  },
  {
   "cell_type": "code",
   "execution_count": 157,
   "metadata": {},
   "outputs": [
    {
     "data": {
      "text/plain": [
       "0.74307038251257274"
      ]
     },
     "execution_count": 157,
     "metadata": {},
     "output_type": "execute_result"
    }
   ],
   "source": [
    "roc_auc"
   ]
  },
  {
   "cell_type": "code",
   "execution_count": 158,
   "metadata": {},
   "outputs": [
    {
     "name": "stdout",
     "output_type": "stream",
     "text": [
      "             precision    recall  f1-score   support\n",
      "\n",
      "          0       0.66      0.83      0.73     11363\n",
      "          1       0.77      0.57      0.66     11363\n",
      "\n",
      "avg / total       0.71      0.70      0.69     22726\n",
      "\n"
     ]
    }
   ],
   "source": [
    "print(classification_report(y_up_test,yhat_up))"
   ]
  },
  {
   "cell_type": "code",
   "execution_count": 160,
   "metadata": {},
   "outputs": [
    {
     "data": {
      "text/plain": [
       "'default.pdf'"
      ]
     },
     "execution_count": 160,
     "metadata": {},
     "output_type": "execute_result"
    }
   ],
   "source": [
    "dot_data = tree.export_graphviz(dtc, out_file=None, feature_names=X_up_train.columns,  \n",
    "                         class_names=['No Default', 'Default'],  \n",
    "                         filled=True, rounded=True,  \n",
    "                         special_characters=True) \n",
    "graph = graphviz.Source(dot_data) \n",
    "graph.render(\"default\") "
   ]
  },
  {
   "cell_type": "code",
   "execution_count": 163,
   "metadata": {},
   "outputs": [
    {
     "data": {
      "image/svg+xml": [
       "<?xml version=\"1.0\" encoding=\"UTF-8\" standalone=\"no\"?>\n",
       "<!DOCTYPE svg PUBLIC \"-//W3C//DTD SVG 1.1//EN\"\n",
       " \"http://www.w3.org/Graphics/SVG/1.1/DTD/svg11.dtd\">\n",
       "<!-- Generated by graphviz version 2.40.1 (20161225.0304)\n",
       " -->\n",
       "<!-- Title: Tree Pages: 1 -->\n",
       "<svg width=\"1189pt\" height=\"467pt\"\n",
       " viewBox=\"0.00 0.00 1189.34 467.20\" xmlns=\"http://www.w3.org/2000/svg\" xmlns:xlink=\"http://www.w3.org/1999/xlink\">\n",
       "<g id=\"graph0\" class=\"graph\" transform=\"scale(1 1) rotate(0) translate(4 463.2)\">\n",
       "<title>Tree</title>\n",
       "<polygon fill=\"#ffffff\" stroke=\"transparent\" points=\"-4,4 -4,-463.2 1185.3421,-463.2 1185.3421,4 -4,4\"/>\n",
       "<!-- 0 -->\n",
       "<g id=\"node1\" class=\"node\">\n",
       "<title>0</title>\n",
       "<path fill=\"transparent\" stroke=\"#000000\" d=\"M643.9154,-459.2C643.9154,-459.2 509.318,-459.2 509.318,-459.2 503.318,-459.2 497.318,-453.2 497.318,-447.2 497.318,-447.2 497.318,-379.2 497.318,-379.2 497.318,-373.2 503.318,-367.2 509.318,-367.2 509.318,-367.2 643.9154,-367.2 643.9154,-367.2 649.9154,-367.2 655.9154,-373.2 655.9154,-379.2 655.9154,-379.2 655.9154,-447.2 655.9154,-447.2 655.9154,-453.2 649.9154,-459.2 643.9154,-459.2\"/>\n",
       "<text text-anchor=\"start\" x=\"536.1518\" y=\"-442.6\" font-family=\"Helvetica,sans-Serif\" font-size=\"14.00\" fill=\"#000000\">PAY_0 ≤ 0.5</text>\n",
       "<text text-anchor=\"start\" x=\"548.0217\" y=\"-425.8\" font-family=\"Helvetica,sans-Serif\" font-size=\"14.00\" fill=\"#000000\">gini = 0.5</text>\n",
       "<text text-anchor=\"start\" x=\"523.1248\" y=\"-409\" font-family=\"Helvetica,sans-Serif\" font-size=\"14.00\" fill=\"#000000\">samples = 22572</text>\n",
       "<text text-anchor=\"start\" x=\"505.2174\" y=\"-392.2\" font-family=\"Helvetica,sans-Serif\" font-size=\"14.00\" fill=\"#000000\">value = [11286, 11286]</text>\n",
       "<text text-anchor=\"start\" x=\"519.6332\" y=\"-375.4\" font-family=\"Helvetica,sans-Serif\" font-size=\"14.00\" fill=\"#000000\">class = No Default</text>\n",
       "</g>\n",
       "<!-- 1 -->\n",
       "<g id=\"node2\" class=\"node\">\n",
       "<title>1</title>\n",
       "<path fill=\"#e58139\" fill-opacity=\"0.435294\" stroke=\"#000000\" d=\"M554.3503,-331.2C554.3503,-331.2 434.8831,-331.2 434.8831,-331.2 428.8831,-331.2 422.8831,-325.2 422.8831,-319.2 422.8831,-319.2 422.8831,-251.2 422.8831,-251.2 422.8831,-245.2 428.8831,-239.2 434.8831,-239.2 434.8831,-239.2 554.3503,-239.2 554.3503,-239.2 560.3503,-239.2 566.3503,-245.2 566.3503,-251.2 566.3503,-251.2 566.3503,-319.2 566.3503,-319.2 566.3503,-325.2 560.3503,-331.2 554.3503,-331.2\"/>\n",
       "<text text-anchor=\"start\" x=\"454.1518\" y=\"-314.6\" font-family=\"Helvetica,sans-Serif\" font-size=\"14.00\" fill=\"#000000\">PAY_3 ≤ 1.0</text>\n",
       "<text text-anchor=\"start\" x=\"458.2391\" y=\"-297.8\" font-family=\"Helvetica,sans-Serif\" font-size=\"14.00\" fill=\"#000000\">gini = 0.461</text>\n",
       "<text text-anchor=\"start\" x=\"441.1248\" y=\"-281\" font-family=\"Helvetica,sans-Serif\" font-size=\"14.00\" fill=\"#000000\">samples = 15078</text>\n",
       "<text text-anchor=\"start\" x=\"431\" y=\"-264.2\" font-family=\"Helvetica,sans-Serif\" font-size=\"14.00\" fill=\"#000000\">value = [9645, 5433]</text>\n",
       "<text text-anchor=\"start\" x=\"437.6332\" y=\"-247.4\" font-family=\"Helvetica,sans-Serif\" font-size=\"14.00\" fill=\"#000000\">class = No Default</text>\n",
       "</g>\n",
       "<!-- 0&#45;&gt;1 -->\n",
       "<g id=\"edge1\" class=\"edge\">\n",
       "<title>0&#45;&gt;1</title>\n",
       "<path fill=\"none\" stroke=\"#000000\" d=\"M547.0128,-366.9891C541.381,-358.1979 535.4375,-348.9202 529.6556,-339.8949\"/>\n",
       "<polygon fill=\"#000000\" stroke=\"#000000\" points=\"532.5186,-337.8754 524.1771,-331.3431 526.6243,-341.6515 532.5186,-337.8754\"/>\n",
       "<text text-anchor=\"middle\" x=\"518.8278\" y=\"-351.5641\" font-family=\"Helvetica,sans-Serif\" font-size=\"14.00\" fill=\"#000000\">True</text>\n",
       "</g>\n",
       "<!-- 8 -->\n",
       "<g id=\"node9\" class=\"node\">\n",
       "<title>8</title>\n",
       "<path fill=\"#399de5\" fill-opacity=\"0.721569\" stroke=\"#000000\" d=\"M776.3503,-331.2C776.3503,-331.2 656.8831,-331.2 656.8831,-331.2 650.8831,-331.2 644.8831,-325.2 644.8831,-319.2 644.8831,-319.2 644.8831,-251.2 644.8831,-251.2 644.8831,-245.2 650.8831,-239.2 656.8831,-239.2 656.8831,-239.2 776.3503,-239.2 776.3503,-239.2 782.3503,-239.2 788.3503,-245.2 788.3503,-251.2 788.3503,-251.2 788.3503,-319.2 788.3503,-319.2 788.3503,-325.2 782.3503,-331.2 776.3503,-331.2\"/>\n",
       "<text text-anchor=\"start\" x=\"676.1518\" y=\"-314.6\" font-family=\"Helvetica,sans-Serif\" font-size=\"14.00\" fill=\"#000000\">PAY_0 ≤ 1.5</text>\n",
       "<text text-anchor=\"start\" x=\"680.2391\" y=\"-297.8\" font-family=\"Helvetica,sans-Serif\" font-size=\"14.00\" fill=\"#000000\">gini = 0.342</text>\n",
       "<text text-anchor=\"start\" x=\"667.0161\" y=\"-281\" font-family=\"Helvetica,sans-Serif\" font-size=\"14.00\" fill=\"#000000\">samples = 7494</text>\n",
       "<text text-anchor=\"start\" x=\"653\" y=\"-264.2\" font-family=\"Helvetica,sans-Serif\" font-size=\"14.00\" fill=\"#000000\">value = [1641, 5853]</text>\n",
       "<text text-anchor=\"start\" x=\"670.5231\" y=\"-247.4\" font-family=\"Helvetica,sans-Serif\" font-size=\"14.00\" fill=\"#000000\">class = Default</text>\n",
       "</g>\n",
       "<!-- 0&#45;&gt;8 -->\n",
       "<g id=\"edge8\" class=\"edge\">\n",
       "<title>0&#45;&gt;8</title>\n",
       "<path fill=\"none\" stroke=\"#000000\" d=\"M627.1599,-366.9891C637.37,-357.6541 648.1801,-347.7706 658.6226,-338.2231\"/>\n",
       "<polygon fill=\"#000000\" stroke=\"#000000\" points=\"661.1291,-340.6739 666.1477,-331.3431 656.4057,-335.5077 661.1291,-340.6739\"/>\n",
       "<text text-anchor=\"middle\" x=\"665.0294\" y=\"-352.1181\" font-family=\"Helvetica,sans-Serif\" font-size=\"14.00\" fill=\"#000000\">False</text>\n",
       "</g>\n",
       "<!-- 2 -->\n",
       "<g id=\"node3\" class=\"node\">\n",
       "<title>2</title>\n",
       "<path fill=\"#e58139\" fill-opacity=\"0.486275\" stroke=\"#000000\" d=\"M295.4442,-203.2C295.4442,-203.2 169.7892,-203.2 169.7892,-203.2 163.7892,-203.2 157.7892,-197.2 157.7892,-191.2 157.7892,-191.2 157.7892,-123.2 157.7892,-123.2 157.7892,-117.2 163.7892,-111.2 169.7892,-111.2 169.7892,-111.2 295.4442,-111.2 295.4442,-111.2 301.4442,-111.2 307.4442,-117.2 307.4442,-123.2 307.4442,-123.2 307.4442,-191.2 307.4442,-191.2 307.4442,-197.2 301.4442,-203.2 295.4442,-203.2\"/>\n",
       "<text text-anchor=\"start\" x=\"165.703\" y=\"-186.6\" font-family=\"Helvetica,sans-Serif\" font-size=\"14.00\" fill=\"#000000\">PAY_AMT1 ≤ 1201.0</text>\n",
       "<text text-anchor=\"start\" x=\"196.2391\" y=\"-169.8\" font-family=\"Helvetica,sans-Serif\" font-size=\"14.00\" fill=\"#000000\">gini = 0.448</text>\n",
       "<text text-anchor=\"start\" x=\"179.1248\" y=\"-153\" font-family=\"Helvetica,sans-Serif\" font-size=\"14.00\" fill=\"#000000\">samples = 13886</text>\n",
       "<text text-anchor=\"start\" x=\"169\" y=\"-136.2\" font-family=\"Helvetica,sans-Serif\" font-size=\"14.00\" fill=\"#000000\">value = [9180, 4706]</text>\n",
       "<text text-anchor=\"start\" x=\"175.6332\" y=\"-119.4\" font-family=\"Helvetica,sans-Serif\" font-size=\"14.00\" fill=\"#000000\">class = No Default</text>\n",
       "</g>\n",
       "<!-- 1&#45;&gt;2 -->\n",
       "<g id=\"edge2\" class=\"edge\">\n",
       "<title>1&#45;&gt;2</title>\n",
       "<path fill=\"none\" stroke=\"#000000\" d=\"M422.6775,-250.0541C389.8588,-234.0206 350.7853,-214.9312 316.6259,-198.2427\"/>\n",
       "<polygon fill=\"#000000\" stroke=\"#000000\" points=\"318.1154,-195.0751 307.594,-193.8301 315.0426,-201.3646 318.1154,-195.0751\"/>\n",
       "</g>\n",
       "<!-- 5 -->\n",
       "<g id=\"node6\" class=\"node\">\n",
       "<title>5</title>\n",
       "<path fill=\"#399de5\" fill-opacity=\"0.360784\" stroke=\"#000000\" d=\"M557.4442,-203.2C557.4442,-203.2 431.7892,-203.2 431.7892,-203.2 425.7892,-203.2 419.7892,-197.2 419.7892,-191.2 419.7892,-191.2 419.7892,-123.2 419.7892,-123.2 419.7892,-117.2 425.7892,-111.2 431.7892,-111.2 431.7892,-111.2 557.4442,-111.2 557.4442,-111.2 563.4442,-111.2 569.4442,-117.2 569.4442,-123.2 569.4442,-123.2 569.4442,-191.2 569.4442,-191.2 569.4442,-197.2 563.4442,-203.2 557.4442,-203.2\"/>\n",
       "<text text-anchor=\"start\" x=\"427.703\" y=\"-186.6\" font-family=\"Helvetica,sans-Serif\" font-size=\"14.00\" fill=\"#000000\">PAY_AMT4 ≤ 1810.0</text>\n",
       "<text text-anchor=\"start\" x=\"458.2391\" y=\"-169.8\" font-family=\"Helvetica,sans-Serif\" font-size=\"14.00\" fill=\"#000000\">gini = 0.476</text>\n",
       "<text text-anchor=\"start\" x=\"445.0161\" y=\"-153\" font-family=\"Helvetica,sans-Serif\" font-size=\"14.00\" fill=\"#000000\">samples = 1192</text>\n",
       "<text text-anchor=\"start\" x=\"438.7826\" y=\"-136.2\" font-family=\"Helvetica,sans-Serif\" font-size=\"14.00\" fill=\"#000000\">value = [465, 727]</text>\n",
       "<text text-anchor=\"start\" x=\"448.5231\" y=\"-119.4\" font-family=\"Helvetica,sans-Serif\" font-size=\"14.00\" fill=\"#000000\">class = Default</text>\n",
       "</g>\n",
       "<!-- 1&#45;&gt;5 -->\n",
       "<g id=\"edge5\" class=\"edge\">\n",
       "<title>1&#45;&gt;5</title>\n",
       "<path fill=\"none\" stroke=\"#000000\" d=\"M494.6167,-238.9891C494.6167,-230.7417 494.6167,-222.0661 494.6167,-213.5724\"/>\n",
       "<polygon fill=\"#000000\" stroke=\"#000000\" points=\"498.1168,-213.3431 494.6167,-203.3431 491.1168,-213.3431 498.1168,-213.3431\"/>\n",
       "</g>\n",
       "<!-- 3 -->\n",
       "<g id=\"node4\" class=\"node\">\n",
       "<title>3</title>\n",
       "<path fill=\"#e58139\" fill-opacity=\"0.117647\" stroke=\"#000000\" d=\"M131.3503,-75.3003C131.3503,-75.3003 11.8831,-75.3003 11.8831,-75.3003 5.8831,-75.3003 -.1169,-69.3003 -.1169,-63.3003 -.1169,-63.3003 -.1169,-11.8997 -.1169,-11.8997 -.1169,-5.8997 5.8831,.1003 11.8831,.1003 11.8831,.1003 131.3503,.1003 131.3503,.1003 137.3503,.1003 143.3503,-5.8997 143.3503,-11.8997 143.3503,-11.8997 143.3503,-63.3003 143.3503,-63.3003 143.3503,-69.3003 137.3503,-75.3003 131.3503,-75.3003\"/>\n",
       "<text text-anchor=\"start\" x=\"35.2391\" y=\"-58.6\" font-family=\"Helvetica,sans-Serif\" font-size=\"14.00\" fill=\"#000000\">gini = 0.498</text>\n",
       "<text text-anchor=\"start\" x=\"22.0161\" y=\"-41.8\" font-family=\"Helvetica,sans-Serif\" font-size=\"14.00\" fill=\"#000000\">samples = 3430</text>\n",
       "<text text-anchor=\"start\" x=\"8\" y=\"-25\" font-family=\"Helvetica,sans-Serif\" font-size=\"14.00\" fill=\"#000000\">value = [1821, 1609]</text>\n",
       "<text text-anchor=\"start\" x=\"14.6332\" y=\"-8.2\" font-family=\"Helvetica,sans-Serif\" font-size=\"14.00\" fill=\"#000000\">class = No Default</text>\n",
       "</g>\n",
       "<!-- 2&#45;&gt;3 -->\n",
       "<g id=\"edge3\" class=\"edge\">\n",
       "<title>2&#45;&gt;3</title>\n",
       "<path fill=\"none\" stroke=\"#000000\" d=\"M170.3699,-110.9595C157.3042,-101.2536 143.5614,-91.0446 130.6185,-81.4299\"/>\n",
       "<polygon fill=\"#000000\" stroke=\"#000000\" points=\"132.3586,-78.3625 122.244,-75.2088 128.1843,-83.9817 132.3586,-78.3625\"/>\n",
       "</g>\n",
       "<!-- 4 -->\n",
       "<g id=\"node5\" class=\"node\">\n",
       "<title>4</title>\n",
       "<path fill=\"#e58139\" fill-opacity=\"0.580392\" stroke=\"#000000\" d=\"M292.3503,-75.3003C292.3503,-75.3003 172.8831,-75.3003 172.8831,-75.3003 166.8831,-75.3003 160.8831,-69.3003 160.8831,-63.3003 160.8831,-63.3003 160.8831,-11.8997 160.8831,-11.8997 160.8831,-5.8997 166.8831,.1003 172.8831,.1003 172.8831,.1003 292.3503,.1003 292.3503,.1003 298.3503,.1003 304.3503,-5.8997 304.3503,-11.8997 304.3503,-11.8997 304.3503,-63.3003 304.3503,-63.3003 304.3503,-69.3003 298.3503,-75.3003 292.3503,-75.3003\"/>\n",
       "<text text-anchor=\"start\" x=\"196.2391\" y=\"-58.6\" font-family=\"Helvetica,sans-Serif\" font-size=\"14.00\" fill=\"#000000\">gini = 0.417</text>\n",
       "<text text-anchor=\"start\" x=\"179.1248\" y=\"-41.8\" font-family=\"Helvetica,sans-Serif\" font-size=\"14.00\" fill=\"#000000\">samples = 10456</text>\n",
       "<text text-anchor=\"start\" x=\"169\" y=\"-25\" font-family=\"Helvetica,sans-Serif\" font-size=\"14.00\" fill=\"#000000\">value = [7359, 3097]</text>\n",
       "<text text-anchor=\"start\" x=\"175.6332\" y=\"-8.2\" font-family=\"Helvetica,sans-Serif\" font-size=\"14.00\" fill=\"#000000\">class = No Default</text>\n",
       "</g>\n",
       "<!-- 2&#45;&gt;4 -->\n",
       "<g id=\"edge4\" class=\"edge\">\n",
       "<title>2&#45;&gt;4</title>\n",
       "<path fill=\"none\" stroke=\"#000000\" d=\"M232.6167,-110.9595C232.6167,-102.5477 232.6167,-93.7581 232.6167,-85.3049\"/>\n",
       "<polygon fill=\"#000000\" stroke=\"#000000\" points=\"236.1168,-85.2088 232.6167,-75.2088 229.1168,-85.2089 236.1168,-85.2088\"/>\n",
       "</g>\n",
       "<!-- 6 -->\n",
       "<g id=\"node7\" class=\"node\">\n",
       "<title>6</title>\n",
       "<path fill=\"#399de5\" fill-opacity=\"0.509804\" stroke=\"#000000\" d=\"M437.2853,-75.3003C437.2853,-75.3003 333.9481,-75.3003 333.9481,-75.3003 327.9481,-75.3003 321.9481,-69.3003 321.9481,-63.3003 321.9481,-63.3003 321.9481,-11.8997 321.9481,-11.8997 321.9481,-5.8997 327.9481,.1003 333.9481,.1003 333.9481,.1003 437.2853,.1003 437.2853,.1003 443.2853,.1003 449.2853,-5.8997 449.2853,-11.8997 449.2853,-11.8997 449.2853,-63.3003 449.2853,-63.3003 449.2853,-69.3003 443.2853,-75.3003 437.2853,-75.3003\"/>\n",
       "<text text-anchor=\"start\" x=\"349.2391\" y=\"-58.6\" font-family=\"Helvetica,sans-Serif\" font-size=\"14.00\" fill=\"#000000\">gini = 0.442</text>\n",
       "<text text-anchor=\"start\" x=\"339.9074\" y=\"-41.8\" font-family=\"Helvetica,sans-Serif\" font-size=\"14.00\" fill=\"#000000\">samples = 816</text>\n",
       "<text text-anchor=\"start\" x=\"329.7826\" y=\"-25\" font-family=\"Helvetica,sans-Serif\" font-size=\"14.00\" fill=\"#000000\">value = [269, 547]</text>\n",
       "<text text-anchor=\"start\" x=\"339.5231\" y=\"-8.2\" font-family=\"Helvetica,sans-Serif\" font-size=\"14.00\" fill=\"#000000\">class = Default</text>\n",
       "</g>\n",
       "<!-- 5&#45;&gt;6 -->\n",
       "<g id=\"edge6\" class=\"edge\">\n",
       "<title>5&#45;&gt;6</title>\n",
       "<path fill=\"none\" stroke=\"#000000\" d=\"M452.4745,-110.9595C444.05,-101.7158 435.2096,-92.0157 426.8174,-82.8074\"/>\n",
       "<polygon fill=\"#000000\" stroke=\"#000000\" points=\"429.2151,-80.2423 419.8923,-75.2088 424.0414,-84.9574 429.2151,-80.2423\"/>\n",
       "</g>\n",
       "<!-- 7 -->\n",
       "<g id=\"node8\" class=\"node\">\n",
       "<title>7</title>\n",
       "<path fill=\"#e58139\" fill-opacity=\"0.082353\" stroke=\"#000000\" d=\"M585.5837,-75.3003C585.5837,-75.3003 479.6497,-75.3003 479.6497,-75.3003 473.6497,-75.3003 467.6497,-69.3003 467.6497,-63.3003 467.6497,-63.3003 467.6497,-11.8997 467.6497,-11.8997 467.6497,-5.8997 473.6497,.1003 479.6497,.1003 479.6497,.1003 585.5837,.1003 585.5837,.1003 591.5837,.1003 597.5837,-5.8997 597.5837,-11.8997 597.5837,-11.8997 597.5837,-63.3003 597.5837,-63.3003 597.5837,-69.3003 591.5837,-75.3003 585.5837,-75.3003\"/>\n",
       "<text text-anchor=\"start\" x=\"496.2391\" y=\"-58.6\" font-family=\"Helvetica,sans-Serif\" font-size=\"14.00\" fill=\"#000000\">gini = 0.499</text>\n",
       "<text text-anchor=\"start\" x=\"486.9074\" y=\"-41.8\" font-family=\"Helvetica,sans-Serif\" font-size=\"14.00\" fill=\"#000000\">samples = 376</text>\n",
       "<text text-anchor=\"start\" x=\"476.7826\" y=\"-25\" font-family=\"Helvetica,sans-Serif\" font-size=\"14.00\" fill=\"#000000\">value = [196, 180]</text>\n",
       "<text text-anchor=\"start\" x=\"475.6332\" y=\"-8.2\" font-family=\"Helvetica,sans-Serif\" font-size=\"14.00\" fill=\"#000000\">class = No Default</text>\n",
       "</g>\n",
       "<!-- 5&#45;&gt;7 -->\n",
       "<g id=\"edge7\" class=\"edge\">\n",
       "<title>5&#45;&gt;7</title>\n",
       "<path fill=\"none\" stroke=\"#000000\" d=\"M509.3085,-110.9595C512.0399,-102.3628 514.8967,-93.3715 517.6366,-84.748\"/>\n",
       "<polygon fill=\"#000000\" stroke=\"#000000\" points=\"520.9749,-85.7992 520.6674,-75.2088 514.3036,-83.6795 520.9749,-85.7992\"/>\n",
       "</g>\n",
       "<!-- 9 -->\n",
       "<g id=\"node10\" class=\"node\">\n",
       "<title>9</title>\n",
       "<path fill=\"#399de5\" fill-opacity=\"0.478431\" stroke=\"#000000\" d=\"M776.3503,-203.2C776.3503,-203.2 656.8831,-203.2 656.8831,-203.2 650.8831,-203.2 644.8831,-197.2 644.8831,-191.2 644.8831,-191.2 644.8831,-123.2 644.8831,-123.2 644.8831,-117.2 650.8831,-111.2 656.8831,-111.2 656.8831,-111.2 776.3503,-111.2 776.3503,-111.2 782.3503,-111.2 788.3503,-117.2 788.3503,-123.2 788.3503,-123.2 788.3503,-191.2 788.3503,-191.2 788.3503,-197.2 782.3503,-203.2 776.3503,-203.2\"/>\n",
       "<text text-anchor=\"start\" x=\"676.1518\" y=\"-186.6\" font-family=\"Helvetica,sans-Serif\" font-size=\"14.00\" fill=\"#000000\">PAY_2 ≤ 1.5</text>\n",
       "<text text-anchor=\"start\" x=\"680.2391\" y=\"-169.8\" font-family=\"Helvetica,sans-Serif\" font-size=\"14.00\" fill=\"#000000\">gini = 0.451</text>\n",
       "<text text-anchor=\"start\" x=\"667.0161\" y=\"-153\" font-family=\"Helvetica,sans-Serif\" font-size=\"14.00\" fill=\"#000000\">samples = 3448</text>\n",
       "<text text-anchor=\"start\" x=\"653\" y=\"-136.2\" font-family=\"Helvetica,sans-Serif\" font-size=\"14.00\" fill=\"#000000\">value = [1184, 2264]</text>\n",
       "<text text-anchor=\"start\" x=\"670.5231\" y=\"-119.4\" font-family=\"Helvetica,sans-Serif\" font-size=\"14.00\" fill=\"#000000\">class = Default</text>\n",
       "</g>\n",
       "<!-- 8&#45;&gt;9 -->\n",
       "<g id=\"edge9\" class=\"edge\">\n",
       "<title>8&#45;&gt;9</title>\n",
       "<path fill=\"none\" stroke=\"#000000\" d=\"M716.6167,-238.9891C716.6167,-230.7417 716.6167,-222.0661 716.6167,-213.5724\"/>\n",
       "<polygon fill=\"#000000\" stroke=\"#000000\" points=\"720.1168,-213.3431 716.6167,-203.3431 713.1168,-213.3431 720.1168,-213.3431\"/>\n",
       "</g>\n",
       "<!-- 12 -->\n",
       "<g id=\"node13\" class=\"node\">\n",
       "<title>12</title>\n",
       "<path fill=\"#399de5\" fill-opacity=\"0.874510\" stroke=\"#000000\" d=\"M1030.9442,-203.2C1030.9442,-203.2 912.2892,-203.2 912.2892,-203.2 906.2892,-203.2 900.2892,-197.2 900.2892,-191.2 900.2892,-191.2 900.2892,-123.2 900.2892,-123.2 900.2892,-117.2 906.2892,-111.2 912.2892,-111.2 912.2892,-111.2 1030.9442,-111.2 1030.9442,-111.2 1036.9442,-111.2 1042.9442,-117.2 1042.9442,-123.2 1042.9442,-123.2 1042.9442,-191.2 1042.9442,-191.2 1042.9442,-197.2 1036.9442,-203.2 1030.9442,-203.2\"/>\n",
       "<text text-anchor=\"start\" x=\"908.203\" y=\"-186.6\" font-family=\"Helvetica,sans-Serif\" font-size=\"14.00\" fill=\"#000000\">BILL_AMT1 ≤ 816.0</text>\n",
       "<text text-anchor=\"start\" x=\"943.0217\" y=\"-169.8\" font-family=\"Helvetica,sans-Serif\" font-size=\"14.00\" fill=\"#000000\">gini = 0.2</text>\n",
       "<text text-anchor=\"start\" x=\"922.0161\" y=\"-153\" font-family=\"Helvetica,sans-Serif\" font-size=\"14.00\" fill=\"#000000\">samples = 4046</text>\n",
       "<text text-anchor=\"start\" x=\"911.8913\" y=\"-136.2\" font-family=\"Helvetica,sans-Serif\" font-size=\"14.00\" fill=\"#000000\">value = [457, 3589]</text>\n",
       "<text text-anchor=\"start\" x=\"925.5231\" y=\"-119.4\" font-family=\"Helvetica,sans-Serif\" font-size=\"14.00\" fill=\"#000000\">class = Default</text>\n",
       "</g>\n",
       "<!-- 8&#45;&gt;12 -->\n",
       "<g id=\"edge12\" class=\"edge\">\n",
       "<title>8&#45;&gt;12</title>\n",
       "<path fill=\"none\" stroke=\"#000000\" d=\"M788.327,-249.2042C820.2392,-233.1856 857.9596,-214.2514 890.8602,-197.7366\"/>\n",
       "<polygon fill=\"#000000\" stroke=\"#000000\" points=\"892.6362,-200.7614 900.0032,-193.1471 889.4958,-194.5053 892.6362,-200.7614\"/>\n",
       "</g>\n",
       "<!-- 10 -->\n",
       "<g id=\"node11\" class=\"node\">\n",
       "<title>10</title>\n",
       "<path fill=\"#399de5\" fill-opacity=\"0.262745\" stroke=\"#000000\" d=\"M731.2853,-75.3003C731.2853,-75.3003 627.9481,-75.3003 627.9481,-75.3003 621.9481,-75.3003 615.9481,-69.3003 615.9481,-63.3003 615.9481,-63.3003 615.9481,-11.8997 615.9481,-11.8997 615.9481,-5.8997 621.9481,.1003 627.9481,.1003 627.9481,.1003 731.2853,.1003 731.2853,.1003 737.2853,.1003 743.2853,-5.8997 743.2853,-11.8997 743.2853,-11.8997 743.2853,-63.3003 743.2853,-63.3003 743.2853,-69.3003 737.2853,-75.3003 731.2853,-75.3003\"/>\n",
       "<text text-anchor=\"start\" x=\"643.2391\" y=\"-58.6\" font-family=\"Helvetica,sans-Serif\" font-size=\"14.00\" fill=\"#000000\">gini = 0.489</text>\n",
       "<text text-anchor=\"start\" x=\"630.0161\" y=\"-41.8\" font-family=\"Helvetica,sans-Serif\" font-size=\"14.00\" fill=\"#000000\">samples = 1577</text>\n",
       "<text text-anchor=\"start\" x=\"623.7826\" y=\"-25\" font-family=\"Helvetica,sans-Serif\" font-size=\"14.00\" fill=\"#000000\">value = [670, 907]</text>\n",
       "<text text-anchor=\"start\" x=\"633.5231\" y=\"-8.2\" font-family=\"Helvetica,sans-Serif\" font-size=\"14.00\" fill=\"#000000\">class = Default</text>\n",
       "</g>\n",
       "<!-- 9&#45;&gt;10 -->\n",
       "<g id=\"edge10\" class=\"edge\">\n",
       "<title>9&#45;&gt;10</title>\n",
       "<path fill=\"none\" stroke=\"#000000\" d=\"M702.3115,-110.9595C699.6806,-102.4553 696.9302,-93.5648 694.2887,-85.0264\"/>\n",
       "<polygon fill=\"#000000\" stroke=\"#000000\" points=\"697.5507,-83.7277 691.2515,-75.2088 690.8634,-85.7965 697.5507,-83.7277\"/>\n",
       "</g>\n",
       "<!-- 11 -->\n",
       "<g id=\"node12\" class=\"node\">\n",
       "<title>11</title>\n",
       "<path fill=\"#399de5\" fill-opacity=\"0.619608\" stroke=\"#000000\" d=\"M885.5683,-75.3003C885.5683,-75.3003 773.6651,-75.3003 773.6651,-75.3003 767.6651,-75.3003 761.6651,-69.3003 761.6651,-63.3003 761.6651,-63.3003 761.6651,-11.8997 761.6651,-11.8997 761.6651,-5.8997 767.6651,.1003 773.6651,.1003 773.6651,.1003 885.5683,.1003 885.5683,.1003 891.5683,.1003 897.5683,-5.8997 897.5683,-11.8997 897.5683,-11.8997 897.5683,-63.3003 897.5683,-63.3003 897.5683,-69.3003 891.5683,-75.3003 885.5683,-75.3003\"/>\n",
       "<text text-anchor=\"start\" x=\"793.2391\" y=\"-58.6\" font-family=\"Helvetica,sans-Serif\" font-size=\"14.00\" fill=\"#000000\">gini = 0.398</text>\n",
       "<text text-anchor=\"start\" x=\"780.0161\" y=\"-41.8\" font-family=\"Helvetica,sans-Serif\" font-size=\"14.00\" fill=\"#000000\">samples = 1871</text>\n",
       "<text text-anchor=\"start\" x=\"769.8913\" y=\"-25\" font-family=\"Helvetica,sans-Serif\" font-size=\"14.00\" fill=\"#000000\">value = [514, 1357]</text>\n",
       "<text text-anchor=\"start\" x=\"783.5231\" y=\"-8.2\" font-family=\"Helvetica,sans-Serif\" font-size=\"14.00\" fill=\"#000000\">class = Default</text>\n",
       "</g>\n",
       "<!-- 9&#45;&gt;11 -->\n",
       "<g id=\"edge11\" class=\"edge\">\n",
       "<title>9&#45;&gt;11</title>\n",
       "<path fill=\"none\" stroke=\"#000000\" d=\"M760.3055,-110.9595C769.1264,-101.6233 778.3872,-91.8217 787.1649,-82.5313\"/>\n",
       "<polygon fill=\"#000000\" stroke=\"#000000\" points=\"789.7597,-84.8813 794.0833,-75.2088 784.6715,-80.0739 789.7597,-84.8813\"/>\n",
       "</g>\n",
       "<!-- 13 -->\n",
       "<g id=\"node14\" class=\"node\">\n",
       "<title>13</title>\n",
       "<path fill=\"#399de5\" fill-opacity=\"0.505882\" stroke=\"#000000\" d=\"M1015.7197,-75.3003C1015.7197,-75.3003 927.5137,-75.3003 927.5137,-75.3003 921.5137,-75.3003 915.5137,-69.3003 915.5137,-63.3003 915.5137,-63.3003 915.5137,-11.8997 915.5137,-11.8997 915.5137,-5.8997 921.5137,.1003 927.5137,.1003 927.5137,.1003 1015.7197,.1003 1015.7197,.1003 1021.7197,.1003 1027.7197,-5.8997 1027.7197,-11.8997 1027.7197,-11.8997 1027.7197,-63.3003 1027.7197,-63.3003 1027.7197,-69.3003 1021.7197,-75.3003 1015.7197,-75.3003\"/>\n",
       "<text text-anchor=\"start\" x=\"935.2391\" y=\"-58.6\" font-family=\"Helvetica,sans-Serif\" font-size=\"14.00\" fill=\"#000000\">gini = 0.443</text>\n",
       "<text text-anchor=\"start\" x=\"925.9074\" y=\"-41.8\" font-family=\"Helvetica,sans-Serif\" font-size=\"14.00\" fill=\"#000000\">samples = 121</text>\n",
       "<text text-anchor=\"start\" x=\"923.5652\" y=\"-25\" font-family=\"Helvetica,sans-Serif\" font-size=\"14.00\" fill=\"#000000\">value = [40, 81]</text>\n",
       "<text text-anchor=\"start\" x=\"925.5231\" y=\"-8.2\" font-family=\"Helvetica,sans-Serif\" font-size=\"14.00\" fill=\"#000000\">class = Default</text>\n",
       "</g>\n",
       "<!-- 12&#45;&gt;13 -->\n",
       "<g id=\"edge13\" class=\"edge\">\n",
       "<title>12&#45;&gt;13</title>\n",
       "<path fill=\"none\" stroke=\"#000000\" d=\"M971.6167,-110.9595C971.6167,-102.5477 971.6167,-93.7581 971.6167,-85.3049\"/>\n",
       "<polygon fill=\"#000000\" stroke=\"#000000\" points=\"975.1168,-85.2088 971.6167,-75.2088 968.1168,-85.2089 975.1168,-85.2088\"/>\n",
       "</g>\n",
       "<!-- 14 -->\n",
       "<g id=\"node15\" class=\"node\">\n",
       "<title>14</title>\n",
       "<path fill=\"#399de5\" fill-opacity=\"0.882353\" stroke=\"#000000\" d=\"M1169.5683,-75.3003C1169.5683,-75.3003 1057.6651,-75.3003 1057.6651,-75.3003 1051.6651,-75.3003 1045.6651,-69.3003 1045.6651,-63.3003 1045.6651,-63.3003 1045.6651,-11.8997 1045.6651,-11.8997 1045.6651,-5.8997 1051.6651,.1003 1057.6651,.1003 1057.6651,.1003 1169.5683,.1003 1169.5683,.1003 1175.5683,.1003 1181.5683,-5.8997 1181.5683,-11.8997 1181.5683,-11.8997 1181.5683,-63.3003 1181.5683,-63.3003 1181.5683,-69.3003 1175.5683,-75.3003 1169.5683,-75.3003\"/>\n",
       "<text text-anchor=\"start\" x=\"1081.1304\" y=\"-58.6\" font-family=\"Helvetica,sans-Serif\" font-size=\"14.00\" fill=\"#000000\">gini = 0.19</text>\n",
       "<text text-anchor=\"start\" x=\"1064.0161\" y=\"-41.8\" font-family=\"Helvetica,sans-Serif\" font-size=\"14.00\" fill=\"#000000\">samples = 3925</text>\n",
       "<text text-anchor=\"start\" x=\"1053.8913\" y=\"-25\" font-family=\"Helvetica,sans-Serif\" font-size=\"14.00\" fill=\"#000000\">value = [417, 3508]</text>\n",
       "<text text-anchor=\"start\" x=\"1067.5231\" y=\"-8.2\" font-family=\"Helvetica,sans-Serif\" font-size=\"14.00\" fill=\"#000000\">class = Default</text>\n",
       "</g>\n",
       "<!-- 12&#45;&gt;14 -->\n",
       "<g id=\"edge14\" class=\"edge\">\n",
       "<title>12&#45;&gt;14</title>\n",
       "<path fill=\"none\" stroke=\"#000000\" d=\"M1026.5176,-110.9595C1037.9316,-101.346 1049.9316,-91.239 1061.2515,-81.7048\"/>\n",
       "<polygon fill=\"#000000\" stroke=\"#000000\" points=\"1063.5702,-84.3279 1068.9641,-75.2088 1059.0608,-78.9739 1063.5702,-84.3279\"/>\n",
       "</g>\n",
       "</g>\n",
       "</svg>\n"
      ],
      "text/plain": [
       "<graphviz.files.Source at 0x10dbfdd68>"
      ]
     },
     "execution_count": 163,
     "metadata": {},
     "output_type": "execute_result"
    }
   ],
   "source": [
    "import graphviz \n",
    "dot_data = tree.export_graphviz(fit, out_file=None, \n",
    "                         feature_names=X_up_train.columns,  \n",
    "                         class_names=['No Default', 'Default'],  \n",
    "                         filled=True, rounded=True,  \n",
    "                         special_characters=True)  \n",
    "graph = graphviz.Source(dot_data)  \n",
    "graph \n"
   ]
  },
  {
   "cell_type": "code",
   "execution_count": 164,
   "metadata": {
    "collapsed": true
   },
   "outputs": [],
   "source": [
    "def predict_with_cutoff(y_prob, threshold):\n",
    "    y_pred = [1 if x >= threshold else 0 for x in y_prob]\n",
    "    return y_pred"
   ]
  },
  {
   "cell_type": "code",
   "execution_count": 165,
   "metadata": {
    "collapsed": true
   },
   "outputs": [],
   "source": [
    "def cost(cm):\n",
    "    cost = cm[0][0] + (cm[1][1] * .05) - (cm[0][1] * .95) - (cm[1][0] * .05)\n",
    "    return cost"
   ]
  },
  {
   "cell_type": "code",
   "execution_count": 166,
   "metadata": {
    "collapsed": true
   },
   "outputs": [],
   "source": [
    "m = np.arange(0,1,1e-3)"
   ]
  },
  {
   "cell_type": "code",
   "execution_count": 167,
   "metadata": {},
   "outputs": [],
   "source": [
    "yhat = []\n",
    "y_score = dtc.predict_proba(X_up_test)[:,1]\n",
    "for i in m:\n",
    "    yhat.append(predict_with_cutoff(y_score, i))"
   ]
  },
  {
   "cell_type": "code",
   "execution_count": 168,
   "metadata": {
    "collapsed": true
   },
   "outputs": [],
   "source": [
    "cost_list = []\n",
    "for i in yhat:\n",
    "    cm=confusion_matrix(y_up_test, i, labels=None)\n",
    "    cost_list.append(cost(cm))"
   ]
  },
  {
   "cell_type": "code",
   "execution_count": 169,
   "metadata": {
    "collapsed": true
   },
   "outputs": [],
   "source": [
    "index = 0\n",
    "for i in cost_list:\n",
    "    if max(cost_list) == i:\n",
    "        ind = index\n",
    "        index = index + 1\n",
    "    else:\n",
    "        index = index + 1"
   ]
  },
  {
   "cell_type": "code",
   "execution_count": 170,
   "metadata": {},
   "outputs": [
    {
     "data": {
      "text/plain": [
       "10794.85"
      ]
     },
     "execution_count": 170,
     "metadata": {},
     "output_type": "execute_result"
    }
   ],
   "source": [
    "max(cost_list)"
   ]
  },
  {
   "cell_type": "code",
   "execution_count": 171,
   "metadata": {},
   "outputs": [
    {
     "data": {
      "text/plain": [
       "0.999"
      ]
     },
     "execution_count": 171,
     "metadata": {},
     "output_type": "execute_result"
    }
   ],
   "source": [
    "m[ind]"
   ]
  },
  {
   "cell_type": "code",
   "execution_count": 172,
   "metadata": {
    "collapsed": true
   },
   "outputs": [],
   "source": [
    "yhat = predict_with_cutoff(y_score, m[ind])"
   ]
  },
  {
   "cell_type": "code",
   "execution_count": 173,
   "metadata": {},
   "outputs": [
    {
     "name": "stdout",
     "output_type": "stream",
     "text": [
      "[[11363     0]\n",
      " [11363     0]]\n"
     ]
    },
    {
     "data": {
      "image/png": "[encoded data removed]",
      "text/plain": [
       "<matplotlib.figure.Figure at 0x1a17f85fd0>"
      ]
     },
     "metadata": {},
     "output_type": "display_data"
    }
   ],
   "source": [
    "cm=confusion_matrix(y_up_test, yhat, labels=None)\n",
    "    \n",
    "plt.figure()\n",
    "plot_confusion_matrix(cm)\n",
    "print(cm)"
   ]
  },
  {
   "cell_type": "code",
   "execution_count": null,
   "metadata": {
    "collapsed": true
   },
   "outputs": [],
   "source": []
  }
 ],
 "metadata": {
  "kernelspec": {
   "display_name": "Python 3",
   "language": "python",
   "name": "python3"
  },
  "language_info": {
   "codemirror_mode": {
    "name": "ipython",
    "version": 3
   },
   "file_extension": ".py",
   "mimetype": "text/x-python",
   "name": "python",
   "nbconvert_exporter": "python",
   "pygments_lexer": "ipython3",
   "version": "3.6.3"
  }
 },
 "nbformat": 4,
 "nbformat_minor": 2
}
