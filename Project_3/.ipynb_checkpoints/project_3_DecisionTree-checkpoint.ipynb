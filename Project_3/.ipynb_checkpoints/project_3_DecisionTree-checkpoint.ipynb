{
 "cells": [
  {
   "cell_type": "code",
   "execution_count": 20,
   "metadata": {},
   "outputs": [],
   "source": [
    "import pandas as pd\n",
    "from collections import defaultdict\n",
    "import numpy as np\n",
    "import seaborn as sns\n",
    "import matplotlib.pyplot as plt\n",
    "from sklearn.model_selection import train_test_split\n",
    "from sklearn.pipeline import make_pipeline\n",
    "from sklearn.metrics import mean_squared_error\n",
    "from sklearn.metrics import r2_score\n",
    "from sklearn.preprocessing import PolynomialFeatures\n",
    "import re\n",
    "from patsy import dmatrices\n",
    "from sklearn import linear_model as lm\n",
    "from sklearn import cross_validation\n",
    "from sklearn import metrics\n",
    "from sklearn.metrics import confusion_matrix\n",
    "%matplotlib inline\n",
    "from sklearn.tree import DecisionTreeClassifier\n",
    "from sklearn.neighbors import KNeighborsClassifier\n",
    "from sklearn import metrics\n",
    "from sklearn.svm import LinearSVC\n",
    "from sklearn.svm import SVC\n",
    "from sklearn.ensemble import RandomForestClassifier\n",
    "from sklearn.linear_model import LogisticRegression\n",
    "from IPython.display import Image\n",
    "from sklearn.decomposition import PCA\n",
    "from sklearn.metrics import roc_curve, auc\n",
    "from sklearn.metrics import classification_report\n",
    "from sklearn import tree\n",
    "import pickle"
   ]
  },
  {
   "cell_type": "code",
   "execution_count": 21,
   "metadata": {
    "collapsed": true
   },
   "outputs": [],
   "source": [
    "with open(\"ccdf3.pkl\", 'rb') as picklefile: \n",
    "    ccdf = pickle.load(picklefile)"
   ]
  },
  {
   "cell_type": "code",
   "execution_count": 85,
   "metadata": {
    "collapsed": true
   },
   "outputs": [],
   "source": [
    "with open(\"ccdf_upsampled_test.pkl\", 'rb') as picklefile: \n",
    "    ccdf_up_test = pickle.load(picklefile)\n",
    "    \n",
    "    \n",
    "X_up_test = ccdf_up_test.drop(['default','slope'],1)\n",
    "y_up_test = ccdf_up_test.default"
   ]
  },
  {
   "cell_type": "code",
   "execution_count": 23,
   "metadata": {
    "collapsed": true
   },
   "outputs": [],
   "source": [
    "with open(\"ccdf_upsampled_train.pkl\", 'rb') as picklefile: \n",
    "    ccdf_up = pickle.load(picklefile)"
   ]
  },
  {
   "cell_type": "code",
   "execution_count": 24,
   "metadata": {
    "collapsed": true
   },
   "outputs": [],
   "source": [
    "with open(\"ccdf_downsampled.pkl\", 'rb') as picklefile: \n",
    "    ccdf_down = pickle.load(picklefile)"
   ]
  },
  {
   "cell_type": "code",
   "execution_count": 25,
   "metadata": {
    "collapsed": true
   },
   "outputs": [],
   "source": [
    "def plot_confusion_matrix(cm,title='Confusion matrix', cmap=plt.cm.Reds):\n",
    "    plt.imshow(cm, interpolation='nearest',cmap=cmap)\n",
    "    plt.title(title)\n",
    "    plt.colorbar()\n",
    "    plt.tight_layout()\n",
    "    plt.ylabel('True label')\n",
    "    plt.xlabel('Predicted label')"
   ]
  },
  {
   "cell_type": "code",
   "execution_count": 26,
   "metadata": {
    "collapsed": true
   },
   "outputs": [],
   "source": [
    "def train_score(classifier,x,y):\n",
    "    xtrain, xtest, ytrain, ytest = cross_validation.train_test_split(x, y, test_size=0.3, random_state=1234)\n",
    "    ytrain=np.ravel(ytrain)\n",
    "    clf = classifier.fit(xtrain, ytrain)\n",
    "    # accuracy for test & train:\n",
    "    train_acc=clf.score(xtrain, ytrain)\n",
    "    test_acc=clf.score(xtest,ytest)\n",
    "    print(\"Training Data Accuracy: %0.2f\" %(train_acc))\n",
    "    print(\"Test Data Accuracy:     %0.2f\" %(test_acc))\n",
    "    \n",
    "    y_true = ytest\n",
    "    y_pred = clf.predict(xtest)\n",
    "\n",
    "\n",
    "    conf = confusion_matrix(y_true, y_pred)\n",
    "    print(conf)\n",
    "\n",
    "    print ('\\n')\n",
    "    print (\"Precision:              %0.2f\" %(conf[0, 0] / (conf[0, 0] + conf[1, 0])))\n",
    "    print (\"Recall:                 %0.2f\"% (conf[0, 0] / (conf[0, 0] + conf[0, 1])))\n",
    "    \n",
    "    cm=confusion_matrix(y_true, y_pred, labels=None)\n",
    "    \n",
    "    plt.figure()\n",
    "    plot_confusion_matrix(cm)"
   ]
  },
  {
   "cell_type": "code",
   "execution_count": 92,
   "metadata": {
    "collapsed": true
   },
   "outputs": [],
   "source": [
    "X = ccdf.drop(['default','slope'],1)\n",
    "y = ccdf['default']\n",
    "\n",
    "X_up = ccdf_up.drop('default',1)\n",
    "y_up = ccdf_up['default']\n",
    "\n",
    "X_down = ccdf_down.drop('default',1)\n",
    "y_down = ccdf_down['default']"
   ]
  },
  {
   "cell_type": "code",
   "execution_count": 103,
   "metadata": {
    "collapsed": true
   },
   "outputs": [],
   "source": [
    "X_train, X_test, y_train, y_test = train_test_split(X, y, test_size=0.3, random_state=1234)\n",
    "\n",
    "\n",
    "X_down_train, X_down_test, y_down_train, y_down_test = train_test_split(X_down, y_down, test_size=0.3, random_state=1234)"
   ]
  },
  {
   "cell_type": "code",
   "execution_count": 29,
   "metadata": {},
   "outputs": [
    {
     "name": "stdout",
     "output_type": "stream",
     "text": [
      "0.719053606126\n"
     ]
    }
   ],
   "source": [
    "#Decision tree classifier\n",
    "dtc = DecisionTreeClassifier()\n",
    "fit = dtc.fit(X_train, y_train)\n",
    "yhat = fit.predict(X_test)\n",
    "dtc_score = fit.score(X_test, y_test)\n",
    "print(dtc_score)"
   ]
  },
  {
   "cell_type": "code",
   "execution_count": 30,
   "metadata": {},
   "outputs": [
    {
     "name": "stdout",
     "output_type": "stream",
     "text": [
      "Training Data Accuracy: 1.00\n",
      "Test Data Accuracy:     0.72\n",
      "[[5509 1354]\n",
      " [1103  783]]\n",
      "\n",
      "\n",
      "Precision:              0.83\n",
      "Recall:                 0.80\n"
     ]
    },
    {
     "data": {
      "image/png": "[encoded data removed]",
      "text/plain": [
       "<matplotlib.figure.Figure at 0x1a146a6c50>"
      ]
     },
     "metadata": {},
     "output_type": "display_data"
    }
   ],
   "source": [
    "train_score(dtc,X,y)"
   ]
  },
  {
   "cell_type": "code",
   "execution_count": 31,
   "metadata": {},
   "outputs": [
    {
     "data": {
      "text/plain": [
       "Text(0,0.5,'TPR')"
      ]
     },
     "execution_count": 31,
     "metadata": {},
     "output_type": "execute_result"
    },
    {
     "data": {
      "image/png": "[encoded data removed]",
      "text/plain": [
       "<matplotlib.figure.Figure at 0x10e950320>"
      ]
     },
     "metadata": {},
     "output_type": "display_data"
    }
   ],
   "source": [
    "# What about ROC ? \n",
    "y_score=dtc.predict_proba(X_test)[:,1]\n",
    "\n",
    "fpr, tpr,_ = roc_curve(y_test, y_score)\n",
    "roc_auc = auc(fpr, tpr)\n",
    "\n",
    "plt.figure()\n",
    "# Plotting our Baseline..\n",
    "plt.plot([0,1],[0,1])\n",
    "plt.plot(fpr,tpr)\n",
    "plt.xlabel('FPR')\n",
    "plt.ylabel('TPR')"
   ]
  },
  {
   "cell_type": "code",
   "execution_count": 32,
   "metadata": {},
   "outputs": [
    {
     "data": {
      "text/plain": [
       "0.60858671818034171"
      ]
     },
     "execution_count": 32,
     "metadata": {},
     "output_type": "execute_result"
    }
   ],
   "source": [
    "roc_auc"
   ]
  },
  {
   "cell_type": "code",
   "execution_count": 33,
   "metadata": {},
   "outputs": [
    {
     "name": "stdout",
     "output_type": "stream",
     "text": [
      "0.610578192379\n"
     ]
    }
   ],
   "source": [
    "#Decision tree classifier\n",
    "dtc = DecisionTreeClassifier()\n",
    "fit = dtc.fit(X_up, y_up)\n",
    "yhat = fit.predict(X_up_test)\n",
    "dtc_score = fit.score(X_up_test, y_up_test)\n",
    "print(dtc_score)"
   ]
  },
  {
   "cell_type": "code",
   "execution_count": 34,
   "metadata": {},
   "outputs": [
    {
     "name": "stdout",
     "output_type": "stream",
     "text": [
      "[[9355 2008]\n",
      " [6842 4521]]\n"
     ]
    },
    {
     "data": {
      "image/png": "[encoded data removed]",
      "text/plain": [
       "<matplotlib.figure.Figure at 0x1a20ba5c88>"
      ]
     },
     "metadata": {},
     "output_type": "display_data"
    }
   ],
   "source": [
    "cm=confusion_matrix(y_up_test, yhat, labels=None)\n",
    "    \n",
    "plt.figure()\n",
    "plot_confusion_matrix(cm)\n",
    "print(cm)"
   ]
  },
  {
   "cell_type": "code",
   "execution_count": 35,
   "metadata": {},
   "outputs": [
    {
     "data": {
      "text/plain": [
       "Text(0,0.5,'TPR')"
      ]
     },
     "execution_count": 35,
     "metadata": {},
     "output_type": "execute_result"
    },
    {
     "data": {
      "image/png": "[encoded data removed]",
      "text/plain": [
       "<matplotlib.figure.Figure at 0x1a20d09518>"
      ]
     },
     "metadata": {},
     "output_type": "display_data"
    }
   ],
   "source": [
    "# What about ROC ? \n",
    "y_up_score=dtc.predict_proba(X_up_test)[:,1]\n",
    "\n",
    "fpr_up, tpr_up,_ = roc_curve(y_up_test, y_up_score)\n",
    "roc_auc_up = auc(fpr_up, tpr_up)\n",
    "\n",
    "plt.figure()\n",
    "# Plotting our Baseline..\n",
    "plt.plot([0,1],[0,1])\n",
    "plt.plot(fpr_up,tpr_up)\n",
    "plt.xlabel('FPR')\n",
    "plt.ylabel('TPR')"
   ]
  },
  {
   "cell_type": "code",
   "execution_count": 36,
   "metadata": {},
   "outputs": [
    {
     "data": {
      "text/plain": [
       "0.6105781923787732"
      ]
     },
     "execution_count": 36,
     "metadata": {},
     "output_type": "execute_result"
    }
   ],
   "source": [
    "roc_auc_up"
   ]
  },
  {
   "cell_type": "code",
   "execution_count": 37,
   "metadata": {},
   "outputs": [
    {
     "name": "stdout",
     "output_type": "stream",
     "text": [
      "0.603479150678\n"
     ]
    }
   ],
   "source": [
    "#Decision tree classifier\n",
    "dtc = DecisionTreeClassifier()\n",
    "fit = dtc.fit(X_down_train, y_down_train)\n",
    "yhat = fit.predict(X_down_test)\n",
    "dtc_score = fit.score(X_down_test, y_down_test)\n",
    "print(dtc_score)"
   ]
  },
  {
   "cell_type": "code",
   "execution_count": 38,
   "metadata": {},
   "outputs": [
    {
     "name": "stdout",
     "output_type": "stream",
     "text": [
      "Training Data Accuracy: 1.00\n",
      "Test Data Accuracy:     0.60\n",
      "[[1184  768]\n",
      " [ 792 1165]]\n",
      "\n",
      "\n",
      "Precision:              0.60\n",
      "Recall:                 0.61\n"
     ]
    },
    {
     "data": {
      "image/png": "[encoded data removed]",
      "text/plain": [
       "<matplotlib.figure.Figure at 0x1a1748f6a0>"
      ]
     },
     "metadata": {},
     "output_type": "display_data"
    }
   ],
   "source": [
    "train_score(dtc,X_down,y_down)"
   ]
  },
  {
   "cell_type": "code",
   "execution_count": 39,
   "metadata": {
    "scrolled": true
   },
   "outputs": [
    {
     "data": {
      "text/plain": [
       "Text(0,0.5,'TPR')"
      ]
     },
     "execution_count": 39,
     "metadata": {},
     "output_type": "execute_result"
    },
    {
     "data": {
      "image/png": "[encoded data removed]",
      "text/plain": [
       "<matplotlib.figure.Figure at 0x1a2076e748>"
      ]
     },
     "metadata": {},
     "output_type": "display_data"
    }
   ],
   "source": [
    "# What about ROC ? \n",
    "y_down_score=dtc.predict_proba(X_down_test)[:,1]\n",
    "\n",
    "fpr_down, tpr_down,_ = roc_curve(y_down_test, y_down_score)\n",
    "roc_auc_down = auc(fpr_down, tpr_down)\n",
    "\n",
    "plt.figure()\n",
    "# Plotting our Baseline..\n",
    "plt.plot([0,1],[0,1])\n",
    "plt.plot(fpr_down,tpr_down)\n",
    "plt.xlabel('FPR')\n",
    "plt.ylabel('TPR')"
   ]
  },
  {
   "cell_type": "code",
   "execution_count": 40,
   "metadata": {},
   "outputs": [
    {
     "data": {
      "text/plain": [
       "0.60092815198907656"
      ]
     },
     "execution_count": 40,
     "metadata": {},
     "output_type": "execute_result"
    }
   ],
   "source": [
    "roc_auc_down"
   ]
  },
  {
   "cell_type": "code",
   "execution_count": 41,
   "metadata": {
    "scrolled": true
   },
   "outputs": [
    {
     "data": {
      "image/png": "[encoded data removed]",
      "text/plain": [
       "<matplotlib.figure.Figure at 0x1a230cfa90>"
      ]
     },
     "metadata": {},
     "output_type": "display_data"
    }
   ],
   "source": [
    "plt.figure()\n",
    "# Plotting our Baseline..\n",
    "plt.plot([0,1],[0,1])\n",
    "plt.plot(fpr,tpr, label = 'original', linestyle = '-.')\n",
    "plt.plot(fpr_up,tpr_up, label = 'up sampled', linestyle = '--')\n",
    "plt.plot(fpr_down,tpr_down, label = 'down smapled')\n",
    "plt.xlabel('FPR')\n",
    "plt.ylabel('TPR')\n",
    "plt.legend();"
   ]
  },
  {
   "cell_type": "markdown",
   "metadata": {},
   "source": [
    "From the combined roc plot we can see that the up-sampled data set is performing much better.\n"
   ]
  },
  {
   "cell_type": "code",
   "execution_count": 168,
   "metadata": {},
   "outputs": [
    {
     "name": "stdout",
     "output_type": "stream",
     "text": [
      "{'max_depth': 1, 'max_features': None}\n"
     ]
    }
   ],
   "source": [
    "from sklearn.grid_search import GridSearchCV\n",
    "from sklearn.datasets import make_classification\n",
    "\n",
    "\n",
    "\n",
    "dtc = DecisionTreeClassifier(max_features= 'sqrt' , max_depth = None) \n",
    "\n",
    "param_grid = { \n",
    "    #'n_estimators': [10, 25, 50, 70, 100],\n",
    "    'max_features': ['auto', 'sqrt', 'log2', None],\n",
    "    'max_depth': [1,5,10,25,None]\n",
    "}\n",
    "\n",
    "CV_rfc = GridSearchCV(estimator=dtc, param_grid=param_grid, cv= 5,n_jobs=-1)\n",
    "CV_rfc.fit(X_train, y_train)\n",
    "print(CV_rfc.best_params_)"
   ]
  },
  {
   "cell_type": "code",
   "execution_count": 104,
   "metadata": {},
   "outputs": [
    {
     "name": "stdout",
     "output_type": "stream",
     "text": [
      "0.823294090753\n"
     ]
    }
   ],
   "source": [
    "#Random forest classifier\n",
    "dtc = DecisionTreeClassifier(max_depth=3)\n",
    "fit = dtc.fit(X_train, y_train)\n",
    "yhat_up = fit.predict(X_test)\n",
    "dtc_score = fit.score(X_test, y_test)\n",
    "print(dtc_score)"
   ]
  },
  {
   "cell_type": "code",
   "execution_count": 105,
   "metadata": {},
   "outputs": [
    {
     "data": {
      "text/plain": [
       "Text(0,0.5,'TPR')"
      ]
     },
     "execution_count": 105,
     "metadata": {},
     "output_type": "execute_result"
    },
    {
     "data": {
      "image/png": "[encoded data removed]",
      "text/plain": [
       "<matplotlib.figure.Figure at 0x1a207ced30>"
      ]
     },
     "metadata": {},
     "output_type": "display_data"
    }
   ],
   "source": [
    "# What about ROC ? \n",
    "y_score=dtc.predict_proba(X_test)[:,1]\n",
    "\n",
    "fpr, tpr,_ = roc_curve(y_test, y_score)\n",
    "roc_auc = auc(fpr, tpr)\n",
    "\n",
    "plt.figure()\n",
    "# Plotting our Baseline..\n",
    "plt.plot([0,1],[0,1])\n",
    "plt.plot(fpr,tpr)\n",
    "plt.xlabel('FPR')\n",
    "plt.ylabel('TPR')"
   ]
  },
  {
   "cell_type": "code",
   "execution_count": 106,
   "metadata": {},
   "outputs": [
    {
     "data": {
      "text/plain": [
       "0.73040698512579716"
      ]
     },
     "execution_count": 106,
     "metadata": {},
     "output_type": "execute_result"
    }
   ],
   "source": [
    "roc_auc"
   ]
  },
  {
   "cell_type": "code",
   "execution_count": 107,
   "metadata": {},
   "outputs": [
    {
     "name": "stdout",
     "output_type": "stream",
     "text": [
      "             precision    recall  f1-score   support\n",
      "\n",
      "          0       0.85      0.94      0.89      6863\n",
      "          1       0.65      0.38      0.48      1886\n",
      "\n",
      "avg / total       0.81      0.82      0.80      8749\n",
      "\n"
     ]
    }
   ],
   "source": [
    "print(classification_report(y_test,yhat_up))"
   ]
  },
  {
   "cell_type": "code",
   "execution_count": 108,
   "metadata": {},
   "outputs": [
    {
     "data": {
      "text/plain": [
       "'default.pdf'"
      ]
     },
     "execution_count": 108,
     "metadata": {},
     "output_type": "execute_result"
    }
   ],
   "source": [
    "dot_data = tree.export_graphviz(dtc, out_file=None, feature_names=X.columns,  \n",
    "                         class_names=['No Default', 'Default'],  \n",
    "                         filled=True, rounded=True,  \n",
    "                         special_characters=True) \n",
    "graph = graphviz.Source(dot_data) \n",
    "graph.render(\"default\") "
   ]
  },
  {
   "cell_type": "code",
   "execution_count": 109,
   "metadata": {},
   "outputs": [
    {
     "data": {
      "image/svg+xml": [
       "<?xml version=\"1.0\" encoding=\"UTF-8\" standalone=\"no\"?>\n",
       "<!DOCTYPE svg PUBLIC \"-//W3C//DTD SVG 1.1//EN\"\n",
       " \"http://www.w3.org/Graphics/SVG/1.1/DTD/svg11.dtd\">\n",
       "<!-- Generated by graphviz version 2.40.1 (20161225.0304)\n",
       " -->\n",
       "<!-- Title: Tree Pages: 1 -->\n",
       "<svg width=\"1176pt\" height=\"467pt\"\n",
       " viewBox=\"0.00 0.00 1175.56 467.20\" xmlns=\"http://www.w3.org/2000/svg\" xmlns:xlink=\"http://www.w3.org/1999/xlink\">\n",
       "<g id=\"graph0\" class=\"graph\" transform=\"scale(1 1) rotate(0) translate(4 463.2)\">\n",
       "<title>Tree</title>\n",
       "<polygon fill=\"#ffffff\" stroke=\"transparent\" points=\"-4,4 -4,-463.2 1171.5595,-463.2 1171.5595,4 -4,4\"/>\n",
       "<!-- 0 -->\n",
       "<g id=\"node1\" class=\"node\">\n",
       "<title>0</title>\n",
       "<path fill=\"#e58139\" fill-opacity=\"0.705882\" stroke=\"#000000\" d=\"M663.2414,-459.2C663.2414,-459.2 536.2094,-459.2 536.2094,-459.2 530.2094,-459.2 524.2094,-453.2 524.2094,-447.2 524.2094,-447.2 524.2094,-379.2 524.2094,-379.2 524.2094,-373.2 530.2094,-367.2 536.2094,-367.2 536.2094,-367.2 663.2414,-367.2 663.2414,-367.2 669.2414,-367.2 675.2414,-373.2 675.2414,-379.2 675.2414,-379.2 675.2414,-447.2 675.2414,-447.2 675.2414,-453.2 669.2414,-459.2 663.2414,-459.2\"/>\n",
       "<text text-anchor=\"start\" x=\"559.2605\" y=\"-442.6\" font-family=\"Helvetica,sans-Serif\" font-size=\"14.00\" fill=\"#000000\">PAY_0 ≤ 1.5</text>\n",
       "<text text-anchor=\"start\" x=\"563.3478\" y=\"-425.8\" font-family=\"Helvetica,sans-Serif\" font-size=\"14.00\" fill=\"#000000\">gini = 0.351</text>\n",
       "<text text-anchor=\"start\" x=\"546.2335\" y=\"-409\" font-family=\"Helvetica,sans-Serif\" font-size=\"14.00\" fill=\"#000000\">samples = 20414</text>\n",
       "<text text-anchor=\"start\" x=\"532.2174\" y=\"-392.2\" font-family=\"Helvetica,sans-Serif\" font-size=\"14.00\" fill=\"#000000\">value = [15786, 4628]</text>\n",
       "<text text-anchor=\"start\" x=\"542.7419\" y=\"-375.4\" font-family=\"Helvetica,sans-Serif\" font-size=\"14.00\" fill=\"#000000\">class = No Default</text>\n",
       "</g>\n",
       "<!-- 1 -->\n",
       "<g id=\"node2\" class=\"node\">\n",
       "<title>1</title>\n",
       "<path fill=\"#e58139\" fill-opacity=\"0.796078\" stroke=\"#000000\" d=\"M516.2414,-331.2C516.2414,-331.2 389.2094,-331.2 389.2094,-331.2 383.2094,-331.2 377.2094,-325.2 377.2094,-319.2 377.2094,-319.2 377.2094,-251.2 377.2094,-251.2 377.2094,-245.2 383.2094,-239.2 389.2094,-239.2 389.2094,-239.2 516.2414,-239.2 516.2414,-239.2 522.2414,-239.2 528.2414,-245.2 528.2414,-251.2 528.2414,-251.2 528.2414,-319.2 528.2414,-319.2 528.2414,-325.2 522.2414,-331.2 516.2414,-331.2\"/>\n",
       "<text text-anchor=\"start\" x=\"412.2605\" y=\"-314.6\" font-family=\"Helvetica,sans-Serif\" font-size=\"14.00\" fill=\"#000000\">PAY_2 ≤ 1.5</text>\n",
       "<text text-anchor=\"start\" x=\"416.3478\" y=\"-297.8\" font-family=\"Helvetica,sans-Serif\" font-size=\"14.00\" fill=\"#000000\">gini = 0.282</text>\n",
       "<text text-anchor=\"start\" x=\"399.2335\" y=\"-281\" font-family=\"Helvetica,sans-Serif\" font-size=\"14.00\" fill=\"#000000\">samples = 18282</text>\n",
       "<text text-anchor=\"start\" x=\"385.2174\" y=\"-264.2\" font-family=\"Helvetica,sans-Serif\" font-size=\"14.00\" fill=\"#000000\">value = [15171, 3111]</text>\n",
       "<text text-anchor=\"start\" x=\"395.7419\" y=\"-247.4\" font-family=\"Helvetica,sans-Serif\" font-size=\"14.00\" fill=\"#000000\">class = No Default</text>\n",
       "</g>\n",
       "<!-- 0&#45;&gt;1 -->\n",
       "<g id=\"edge1\" class=\"edge\">\n",
       "<title>0&#45;&gt;1</title>\n",
       "<path fill=\"none\" stroke=\"#000000\" d=\"M546.655,-366.9891C535.8303,-357.5635 524.3634,-347.5787 513.2999,-337.9452\"/>\n",
       "<polygon fill=\"#000000\" stroke=\"#000000\" points=\"515.5579,-335.2704 505.7179,-331.3431 510.9611,-340.5496 515.5579,-335.2704\"/>\n",
       "<text text-anchor=\"middle\" x=\"507.441\" y=\"-352.0836\" font-family=\"Helvetica,sans-Serif\" font-size=\"14.00\" fill=\"#000000\">True</text>\n",
       "</g>\n",
       "<!-- 8 -->\n",
       "<g id=\"node9\" class=\"node\">\n",
       "<title>8</title>\n",
       "<path fill=\"#399de5\" fill-opacity=\"0.596078\" stroke=\"#000000\" d=\"M796.677,-331.2C796.677,-331.2 684.7738,-331.2 684.7738,-331.2 678.7738,-331.2 672.7738,-325.2 672.7738,-319.2 672.7738,-319.2 672.7738,-251.2 672.7738,-251.2 672.7738,-245.2 678.7738,-239.2 684.7738,-239.2 684.7738,-239.2 796.677,-239.2 796.677,-239.2 802.677,-239.2 808.677,-245.2 808.677,-251.2 808.677,-251.2 808.677,-319.2 808.677,-319.2 808.677,-325.2 802.677,-331.2 796.677,-331.2\"/>\n",
       "<text text-anchor=\"start\" x=\"697.9302\" y=\"-314.6\" font-family=\"Helvetica,sans-Serif\" font-size=\"14.00\" fill=\"#000000\">PAY_3 ≤ &#45;0.5</text>\n",
       "<text text-anchor=\"start\" x=\"704.3478\" y=\"-297.8\" font-family=\"Helvetica,sans-Serif\" font-size=\"14.00\" fill=\"#000000\">gini = 0.411</text>\n",
       "<text text-anchor=\"start\" x=\"691.1248\" y=\"-281\" font-family=\"Helvetica,sans-Serif\" font-size=\"14.00\" fill=\"#000000\">samples = 2132</text>\n",
       "<text text-anchor=\"start\" x=\"681\" y=\"-264.2\" font-family=\"Helvetica,sans-Serif\" font-size=\"14.00\" fill=\"#000000\">value = [615, 1517]</text>\n",
       "<text text-anchor=\"start\" x=\"694.6318\" y=\"-247.4\" font-family=\"Helvetica,sans-Serif\" font-size=\"14.00\" fill=\"#000000\">class = Default</text>\n",
       "</g>\n",
       "<!-- 0&#45;&gt;8 -->\n",
       "<g id=\"edge8\" class=\"edge\">\n",
       "<title>0&#45;&gt;8</title>\n",
       "<path fill=\"none\" stroke=\"#000000\" d=\"M650.6296,-366.9891C660.9127,-357.6541 671.7999,-347.7706 682.3171,-338.2231\"/>\n",
       "<polygon fill=\"#000000\" stroke=\"#000000\" points=\"684.8442,-340.6561 689.8959,-331.3431 680.1392,-335.4732 684.8442,-340.6561\"/>\n",
       "<text text-anchor=\"middle\" x=\"688.6891\" y=\"-352.114\" font-family=\"Helvetica,sans-Serif\" font-size=\"14.00\" fill=\"#000000\">False</text>\n",
       "</g>\n",
       "<!-- 2 -->\n",
       "<g id=\"node3\" class=\"node\">\n",
       "<title>2</title>\n",
       "<path fill=\"#e58139\" fill-opacity=\"0.827451\" stroke=\"#000000\" d=\"M292.2414,-203.2C292.2414,-203.2 165.2094,-203.2 165.2094,-203.2 159.2094,-203.2 153.2094,-197.2 153.2094,-191.2 153.2094,-191.2 153.2094,-123.2 153.2094,-123.2 153.2094,-117.2 159.2094,-111.2 165.2094,-111.2 165.2094,-111.2 292.2414,-111.2 292.2414,-111.2 298.2414,-111.2 304.2414,-117.2 304.2414,-123.2 304.2414,-123.2 304.2414,-191.2 304.2414,-191.2 304.2414,-197.2 298.2414,-203.2 292.2414,-203.2\"/>\n",
       "<text text-anchor=\"start\" x=\"165.703\" y=\"-186.6\" font-family=\"Helvetica,sans-Serif\" font-size=\"14.00\" fill=\"#000000\">PAY_AMT3 ≤ 580.5</text>\n",
       "<text text-anchor=\"start\" x=\"196.2391\" y=\"-169.8\" font-family=\"Helvetica,sans-Serif\" font-size=\"14.00\" fill=\"#000000\">gini = 0.25</text>\n",
       "<text text-anchor=\"start\" x=\"175.2335\" y=\"-153\" font-family=\"Helvetica,sans-Serif\" font-size=\"14.00\" fill=\"#000000\">samples = 16704</text>\n",
       "<text text-anchor=\"start\" x=\"161.2174\" y=\"-136.2\" font-family=\"Helvetica,sans-Serif\" font-size=\"14.00\" fill=\"#000000\">value = [14256, 2448]</text>\n",
       "<text text-anchor=\"start\" x=\"171.7419\" y=\"-119.4\" font-family=\"Helvetica,sans-Serif\" font-size=\"14.00\" fill=\"#000000\">class = No Default</text>\n",
       "</g>\n",
       "<!-- 1&#45;&gt;2 -->\n",
       "<g id=\"edge2\" class=\"edge\">\n",
       "<title>1&#45;&gt;2</title>\n",
       "<path fill=\"none\" stroke=\"#000000\" d=\"M377.2015,-242.0435C356.6416,-230.295 334.2408,-217.4945 313.2182,-205.4816\"/>\n",
       "<polygon fill=\"#000000\" stroke=\"#000000\" points=\"314.7213,-202.3094 304.3023,-200.3868 311.2483,-208.3871 314.7213,-202.3094\"/>\n",
       "</g>\n",
       "<!-- 5 -->\n",
       "<g id=\"node6\" class=\"node\">\n",
       "<title>5</title>\n",
       "<path fill=\"#e58139\" fill-opacity=\"0.274510\" stroke=\"#000000\" d=\"M505.6924,-203.2C505.6924,-203.2 399.7584,-203.2 399.7584,-203.2 393.7584,-203.2 387.7584,-197.2 387.7584,-191.2 387.7584,-191.2 387.7584,-123.2 387.7584,-123.2 387.7584,-117.2 393.7584,-111.2 399.7584,-111.2 399.7584,-111.2 505.6924,-111.2 505.6924,-111.2 511.6924,-111.2 517.6924,-117.2 517.6924,-123.2 517.6924,-123.2 517.6924,-191.2 517.6924,-191.2 517.6924,-197.2 511.6924,-203.2 505.6924,-203.2\"/>\n",
       "<text text-anchor=\"start\" x=\"412.2605\" y=\"-186.6\" font-family=\"Helvetica,sans-Serif\" font-size=\"14.00\" fill=\"#000000\">PAY_6 ≤ 1.0</text>\n",
       "<text text-anchor=\"start\" x=\"416.3478\" y=\"-169.8\" font-family=\"Helvetica,sans-Serif\" font-size=\"14.00\" fill=\"#000000\">gini = 0.487</text>\n",
       "<text text-anchor=\"start\" x=\"403.1248\" y=\"-153\" font-family=\"Helvetica,sans-Serif\" font-size=\"14.00\" fill=\"#000000\">samples = 1578</text>\n",
       "<text text-anchor=\"start\" x=\"396.8913\" y=\"-136.2\" font-family=\"Helvetica,sans-Serif\" font-size=\"14.00\" fill=\"#000000\">value = [915, 663]</text>\n",
       "<text text-anchor=\"start\" x=\"395.7419\" y=\"-119.4\" font-family=\"Helvetica,sans-Serif\" font-size=\"14.00\" fill=\"#000000\">class = No Default</text>\n",
       "</g>\n",
       "<!-- 1&#45;&gt;5 -->\n",
       "<g id=\"edge5\" class=\"edge\">\n",
       "<title>1&#45;&gt;5</title>\n",
       "<path fill=\"none\" stroke=\"#000000\" d=\"M452.7254,-238.9891C452.7254,-230.7417 452.7254,-222.0661 452.7254,-213.5724\"/>\n",
       "<polygon fill=\"#000000\" stroke=\"#000000\" points=\"456.2255,-213.3431 452.7254,-203.3431 449.2255,-213.3431 456.2255,-213.3431\"/>\n",
       "</g>\n",
       "<!-- 3 -->\n",
       "<g id=\"node4\" class=\"node\">\n",
       "<title>3</title>\n",
       "<path fill=\"#e58139\" fill-opacity=\"0.709804\" stroke=\"#000000\" d=\"M123.677,-75.3003C123.677,-75.3003 11.7738,-75.3003 11.7738,-75.3003 5.7738,-75.3003 -.2262,-69.3003 -.2262,-63.3003 -.2262,-63.3003 -.2262,-11.8997 -.2262,-11.8997 -.2262,-5.8997 5.7738,.1003 11.7738,.1003 11.7738,.1003 123.677,.1003 123.677,.1003 129.677,.1003 135.677,-5.8997 135.677,-11.8997 135.677,-11.8997 135.677,-63.3003 135.677,-63.3003 135.677,-69.3003 129.677,-75.3003 123.677,-75.3003\"/>\n",
       "<text text-anchor=\"start\" x=\"35.2391\" y=\"-58.6\" font-family=\"Helvetica,sans-Serif\" font-size=\"14.00\" fill=\"#000000\">gini = 0.35</text>\n",
       "<text text-anchor=\"start\" x=\"18.1248\" y=\"-41.8\" font-family=\"Helvetica,sans-Serif\" font-size=\"14.00\" fill=\"#000000\">samples = 4393</text>\n",
       "<text text-anchor=\"start\" x=\"8\" y=\"-25\" font-family=\"Helvetica,sans-Serif\" font-size=\"14.00\" fill=\"#000000\">value = [3400, 993]</text>\n",
       "<text text-anchor=\"start\" x=\"10.7419\" y=\"-8.2\" font-family=\"Helvetica,sans-Serif\" font-size=\"14.00\" fill=\"#000000\">class = No Default</text>\n",
       "</g>\n",
       "<!-- 2&#45;&gt;3 -->\n",
       "<g id=\"edge3\" class=\"edge\">\n",
       "<title>2&#45;&gt;3</title>\n",
       "<path fill=\"none\" stroke=\"#000000\" d=\"M166.4786,-110.9595C153.4129,-101.2536 139.6701,-91.0446 126.7272,-81.4299\"/>\n",
       "<polygon fill=\"#000000\" stroke=\"#000000\" points=\"128.4673,-78.3625 118.3527,-75.2088 124.293,-83.9817 128.4673,-78.3625\"/>\n",
       "</g>\n",
       "<!-- 4 -->\n",
       "<g id=\"node5\" class=\"node\">\n",
       "<title>4</title>\n",
       "<path fill=\"#e58139\" fill-opacity=\"0.866667\" stroke=\"#000000\" d=\"M292.2414,-75.3003C292.2414,-75.3003 165.2094,-75.3003 165.2094,-75.3003 159.2094,-75.3003 153.2094,-69.3003 153.2094,-63.3003 153.2094,-63.3003 153.2094,-11.8997 153.2094,-11.8997 153.2094,-5.8997 159.2094,.1003 165.2094,.1003 165.2094,.1003 292.2414,.1003 292.2414,.1003 298.2414,.1003 304.2414,-5.8997 304.2414,-11.8997 304.2414,-11.8997 304.2414,-63.3003 304.2414,-63.3003 304.2414,-69.3003 298.2414,-75.3003 292.2414,-75.3003\"/>\n",
       "<text text-anchor=\"start\" x=\"192.3478\" y=\"-58.6\" font-family=\"Helvetica,sans-Serif\" font-size=\"14.00\" fill=\"#000000\">gini = 0.208</text>\n",
       "<text text-anchor=\"start\" x=\"175.2335\" y=\"-41.8\" font-family=\"Helvetica,sans-Serif\" font-size=\"14.00\" fill=\"#000000\">samples = 12311</text>\n",
       "<text text-anchor=\"start\" x=\"161.2174\" y=\"-25\" font-family=\"Helvetica,sans-Serif\" font-size=\"14.00\" fill=\"#000000\">value = [10856, 1455]</text>\n",
       "<text text-anchor=\"start\" x=\"171.7419\" y=\"-8.2\" font-family=\"Helvetica,sans-Serif\" font-size=\"14.00\" fill=\"#000000\">class = No Default</text>\n",
       "</g>\n",
       "<!-- 2&#45;&gt;4 -->\n",
       "<g id=\"edge4\" class=\"edge\">\n",
       "<title>2&#45;&gt;4</title>\n",
       "<path fill=\"none\" stroke=\"#000000\" d=\"M228.7254,-110.9595C228.7254,-102.5477 228.7254,-93.7581 228.7254,-85.3049\"/>\n",
       "<polygon fill=\"#000000\" stroke=\"#000000\" points=\"232.2255,-85.2088 228.7254,-75.2088 225.2255,-85.2089 232.2255,-85.2088\"/>\n",
       "</g>\n",
       "<!-- 6 -->\n",
       "<g id=\"node7\" class=\"node\">\n",
       "<title>6</title>\n",
       "<path fill=\"#e58139\" fill-opacity=\"0.396078\" stroke=\"#000000\" d=\"M439.6924,-75.3003C439.6924,-75.3003 333.7584,-75.3003 333.7584,-75.3003 327.7584,-75.3003 321.7584,-69.3003 321.7584,-63.3003 321.7584,-63.3003 321.7584,-11.8997 321.7584,-11.8997 321.7584,-5.8997 327.7584,.1003 333.7584,.1003 333.7584,.1003 439.6924,.1003 439.6924,.1003 445.6924,.1003 451.6924,-5.8997 451.6924,-11.8997 451.6924,-11.8997 451.6924,-63.3003 451.6924,-63.3003 451.6924,-69.3003 445.6924,-75.3003 439.6924,-75.3003\"/>\n",
       "<text text-anchor=\"start\" x=\"354.2391\" y=\"-58.6\" font-family=\"Helvetica,sans-Serif\" font-size=\"14.00\" fill=\"#000000\">gini = 0.47</text>\n",
       "<text text-anchor=\"start\" x=\"337.1248\" y=\"-41.8\" font-family=\"Helvetica,sans-Serif\" font-size=\"14.00\" fill=\"#000000\">samples = 1134</text>\n",
       "<text text-anchor=\"start\" x=\"330.8913\" y=\"-25\" font-family=\"Helvetica,sans-Serif\" font-size=\"14.00\" fill=\"#000000\">value = [707, 427]</text>\n",
       "<text text-anchor=\"start\" x=\"329.7419\" y=\"-8.2\" font-family=\"Helvetica,sans-Serif\" font-size=\"14.00\" fill=\"#000000\">class = No Default</text>\n",
       "</g>\n",
       "<!-- 5&#45;&gt;6 -->\n",
       "<g id=\"edge6\" class=\"edge\">\n",
       "<title>5&#45;&gt;6</title>\n",
       "<path fill=\"none\" stroke=\"#000000\" d=\"M427.2081,-110.9595C422.3621,-102.178 417.2888,-92.9846 412.4368,-84.1922\"/>\n",
       "<polygon fill=\"#000000\" stroke=\"#000000\" points=\"415.3754,-82.2731 407.4794,-75.2088 409.2467,-85.6552 415.3754,-82.2731\"/>\n",
       "</g>\n",
       "<!-- 7 -->\n",
       "<g id=\"node8\" class=\"node\">\n",
       "<title>7</title>\n",
       "<path fill=\"#399de5\" fill-opacity=\"0.117647\" stroke=\"#000000\" d=\"M585.394,-75.3003C585.394,-75.3003 482.0568,-75.3003 482.0568,-75.3003 476.0568,-75.3003 470.0568,-69.3003 470.0568,-63.3003 470.0568,-63.3003 470.0568,-11.8997 470.0568,-11.8997 470.0568,-5.8997 476.0568,.1003 482.0568,.1003 482.0568,.1003 585.394,.1003 585.394,.1003 591.394,.1003 597.394,-5.8997 597.394,-11.8997 597.394,-11.8997 597.394,-63.3003 597.394,-63.3003 597.394,-69.3003 591.394,-75.3003 585.394,-75.3003\"/>\n",
       "<text text-anchor=\"start\" x=\"497.3478\" y=\"-58.6\" font-family=\"Helvetica,sans-Serif\" font-size=\"14.00\" fill=\"#000000\">gini = 0.498</text>\n",
       "<text text-anchor=\"start\" x=\"488.0161\" y=\"-41.8\" font-family=\"Helvetica,sans-Serif\" font-size=\"14.00\" fill=\"#000000\">samples = 444</text>\n",
       "<text text-anchor=\"start\" x=\"477.8913\" y=\"-25\" font-family=\"Helvetica,sans-Serif\" font-size=\"14.00\" fill=\"#000000\">value = [208, 236]</text>\n",
       "<text text-anchor=\"start\" x=\"487.6318\" y=\"-8.2\" font-family=\"Helvetica,sans-Serif\" font-size=\"14.00\" fill=\"#000000\">class = Default</text>\n",
       "</g>\n",
       "<!-- 5&#45;&gt;7 -->\n",
       "<g id=\"edge7\" class=\"edge\">\n",
       "<title>5&#45;&gt;7</title>\n",
       "<path fill=\"none\" stroke=\"#000000\" d=\"M484.0421,-110.9595C490.1147,-101.9931 496.478,-92.5973 502.5462,-83.6374\"/>\n",
       "<polygon fill=\"#000000\" stroke=\"#000000\" points=\"505.5449,-85.4513 508.2545,-75.2088 499.749,-81.526 505.5449,-85.4513\"/>\n",
       "</g>\n",
       "<!-- 9 -->\n",
       "<g id=\"node10\" class=\"node\">\n",
       "<title>9</title>\n",
       "<path fill=\"#e58139\" fill-opacity=\"0.058824\" stroke=\"#000000\" d=\"M800.0529,-203.2C800.0529,-203.2 681.3979,-203.2 681.3979,-203.2 675.3979,-203.2 669.3979,-197.2 669.3979,-191.2 669.3979,-191.2 669.3979,-123.2 669.3979,-123.2 669.3979,-117.2 675.3979,-111.2 681.3979,-111.2 681.3979,-111.2 800.0529,-111.2 800.0529,-111.2 806.0529,-111.2 812.0529,-117.2 812.0529,-123.2 812.0529,-123.2 812.0529,-191.2 812.0529,-191.2 812.0529,-197.2 806.0529,-203.2 800.0529,-203.2\"/>\n",
       "<text text-anchor=\"start\" x=\"677.3117\" y=\"-186.6\" font-family=\"Helvetica,sans-Serif\" font-size=\"14.00\" fill=\"#000000\">BILL_AMT1 ≤ 816.0</text>\n",
       "<text text-anchor=\"start\" x=\"712.1304\" y=\"-169.8\" font-family=\"Helvetica,sans-Serif\" font-size=\"14.00\" fill=\"#000000\">gini = 0.5</text>\n",
       "<text text-anchor=\"start\" x=\"695.0161\" y=\"-153\" font-family=\"Helvetica,sans-Serif\" font-size=\"14.00\" fill=\"#000000\">samples = 134</text>\n",
       "<text text-anchor=\"start\" x=\"692.6739\" y=\"-136.2\" font-family=\"Helvetica,sans-Serif\" font-size=\"14.00\" fill=\"#000000\">value = [69, 65]</text>\n",
       "<text text-anchor=\"start\" x=\"683.7419\" y=\"-119.4\" font-family=\"Helvetica,sans-Serif\" font-size=\"14.00\" fill=\"#000000\">class = No Default</text>\n",
       "</g>\n",
       "<!-- 8&#45;&gt;9 -->\n",
       "<g id=\"edge9\" class=\"edge\">\n",
       "<title>8&#45;&gt;9</title>\n",
       "<path fill=\"none\" stroke=\"#000000\" d=\"M740.7254,-238.9891C740.7254,-230.7417 740.7254,-222.0661 740.7254,-213.5724\"/>\n",
       "<polygon fill=\"#000000\" stroke=\"#000000\" points=\"744.2255,-213.3431 740.7254,-203.3431 737.2255,-213.3431 744.2255,-213.3431\"/>\n",
       "</g>\n",
       "<!-- 12 -->\n",
       "<g id=\"node13\" class=\"node\">\n",
       "<title>12</title>\n",
       "<path fill=\"#399de5\" fill-opacity=\"0.623529\" stroke=\"#000000\" d=\"M1013.677,-203.2C1013.677,-203.2 901.7738,-203.2 901.7738,-203.2 895.7738,-203.2 889.7738,-197.2 889.7738,-191.2 889.7738,-191.2 889.7738,-123.2 889.7738,-123.2 889.7738,-117.2 895.7738,-111.2 901.7738,-111.2 901.7738,-111.2 1013.677,-111.2 1013.677,-111.2 1019.677,-111.2 1025.677,-117.2 1025.677,-123.2 1025.677,-123.2 1025.677,-191.2 1025.677,-191.2 1025.677,-197.2 1019.677,-203.2 1013.677,-203.2\"/>\n",
       "<text text-anchor=\"start\" x=\"917.2605\" y=\"-186.6\" font-family=\"Helvetica,sans-Serif\" font-size=\"14.00\" fill=\"#000000\">PAY_6 ≤ 1.0</text>\n",
       "<text text-anchor=\"start\" x=\"921.3478\" y=\"-169.8\" font-family=\"Helvetica,sans-Serif\" font-size=\"14.00\" fill=\"#000000\">gini = 0.397</text>\n",
       "<text text-anchor=\"start\" x=\"908.1248\" y=\"-153\" font-family=\"Helvetica,sans-Serif\" font-size=\"14.00\" fill=\"#000000\">samples = 1998</text>\n",
       "<text text-anchor=\"start\" x=\"898\" y=\"-136.2\" font-family=\"Helvetica,sans-Serif\" font-size=\"14.00\" fill=\"#000000\">value = [546, 1452]</text>\n",
       "<text text-anchor=\"start\" x=\"911.6318\" y=\"-119.4\" font-family=\"Helvetica,sans-Serif\" font-size=\"14.00\" fill=\"#000000\">class = Default</text>\n",
       "</g>\n",
       "<!-- 8&#45;&gt;12 -->\n",
       "<g id=\"edge12\" class=\"edge\">\n",
       "<title>8&#45;&gt;12</title>\n",
       "<path fill=\"none\" stroke=\"#000000\" d=\"M808.493,-245.2265C831.5299,-231.6379 857.4327,-216.3588 881.1118,-202.3914\"/>\n",
       "<polygon fill=\"#000000\" stroke=\"#000000\" points=\"882.8907,-205.4057 889.7257,-197.3104 879.3342,-199.3765 882.8907,-205.4057\"/>\n",
       "</g>\n",
       "<!-- 10 -->\n",
       "<g id=\"node11\" class=\"node\">\n",
       "<title>10</title>\n",
       "<path fill=\"#e58139\" fill-opacity=\"0.713725\" stroke=\"#000000\" d=\"M733.6924,-75.3003C733.6924,-75.3003 627.7584,-75.3003 627.7584,-75.3003 621.7584,-75.3003 615.7584,-69.3003 615.7584,-63.3003 615.7584,-63.3003 615.7584,-11.8997 615.7584,-11.8997 615.7584,-5.8997 621.7584,.1003 627.7584,.1003 627.7584,.1003 733.6924,.1003 733.6924,.1003 739.6924,.1003 745.6924,-5.8997 745.6924,-11.8997 745.6924,-11.8997 745.6924,-63.3003 745.6924,-63.3003 745.6924,-69.3003 739.6924,-75.3003 733.6924,-75.3003\"/>\n",
       "<text text-anchor=\"start\" x=\"644.3478\" y=\"-58.6\" font-family=\"Helvetica,sans-Serif\" font-size=\"14.00\" fill=\"#000000\">gini = 0.346</text>\n",
       "<text text-anchor=\"start\" x=\"638.9074\" y=\"-41.8\" font-family=\"Helvetica,sans-Serif\" font-size=\"14.00\" fill=\"#000000\">samples = 45</text>\n",
       "<text text-anchor=\"start\" x=\"632.6739\" y=\"-25\" font-family=\"Helvetica,sans-Serif\" font-size=\"14.00\" fill=\"#000000\">value = [35, 10]</text>\n",
       "<text text-anchor=\"start\" x=\"623.7419\" y=\"-8.2\" font-family=\"Helvetica,sans-Serif\" font-size=\"14.00\" fill=\"#000000\">class = No Default</text>\n",
       "</g>\n",
       "<!-- 9&#45;&gt;10 -->\n",
       "<g id=\"edge10\" class=\"edge\">\n",
       "<title>9&#45;&gt;10</title>\n",
       "<path fill=\"none\" stroke=\"#000000\" d=\"M717.5278,-110.9595C713.1224,-102.178 708.5103,-92.9846 704.0994,-84.1922\"/>\n",
       "<polygon fill=\"#000000\" stroke=\"#000000\" points=\"707.2053,-82.5777 699.5927,-75.2088 700.9484,-85.7166 707.2053,-82.5777\"/>\n",
       "</g>\n",
       "<!-- 11 -->\n",
       "<g id=\"node12\" class=\"node\">\n",
       "<title>11</title>\n",
       "<path fill=\"#399de5\" fill-opacity=\"0.380392\" stroke=\"#000000\" d=\"M863.8284,-75.3003C863.8284,-75.3003 775.6224,-75.3003 775.6224,-75.3003 769.6224,-75.3003 763.6224,-69.3003 763.6224,-63.3003 763.6224,-63.3003 763.6224,-11.8997 763.6224,-11.8997 763.6224,-5.8997 769.6224,.1003 775.6224,.1003 775.6224,.1003 863.8284,.1003 863.8284,.1003 869.8284,.1003 875.8284,-5.8997 875.8284,-11.8997 875.8284,-11.8997 875.8284,-63.3003 875.8284,-63.3003 875.8284,-69.3003 869.8284,-75.3003 863.8284,-75.3003\"/>\n",
       "<text text-anchor=\"start\" x=\"783.3478\" y=\"-58.6\" font-family=\"Helvetica,sans-Serif\" font-size=\"14.00\" fill=\"#000000\">gini = 0.472</text>\n",
       "<text text-anchor=\"start\" x=\"777.9074\" y=\"-41.8\" font-family=\"Helvetica,sans-Serif\" font-size=\"14.00\" fill=\"#000000\">samples = 89</text>\n",
       "<text text-anchor=\"start\" x=\"771.6739\" y=\"-25\" font-family=\"Helvetica,sans-Serif\" font-size=\"14.00\" fill=\"#000000\">value = [34, 55]</text>\n",
       "<text text-anchor=\"start\" x=\"773.6318\" y=\"-8.2\" font-family=\"Helvetica,sans-Serif\" font-size=\"14.00\" fill=\"#000000\">class = Default</text>\n",
       "</g>\n",
       "<!-- 9&#45;&gt;11 -->\n",
       "<g id=\"edge11\" class=\"edge\">\n",
       "<title>9&#45;&gt;11</title>\n",
       "<path fill=\"none\" stroke=\"#000000\" d=\"M771.2689,-110.9595C777.1915,-101.9931 783.3977,-92.5973 789.3161,-83.6374\"/>\n",
       "<polygon fill=\"#000000\" stroke=\"#000000\" points=\"792.2923,-85.4819 794.8835,-75.2088 786.4515,-81.6238 792.2923,-85.4819\"/>\n",
       "</g>\n",
       "<!-- 13 -->\n",
       "<g id=\"node14\" class=\"node\">\n",
       "<title>13</title>\n",
       "<path fill=\"#399de5\" fill-opacity=\"0.545098\" stroke=\"#000000\" d=\"M1009.394,-75.3003C1009.394,-75.3003 906.0568,-75.3003 906.0568,-75.3003 900.0568,-75.3003 894.0568,-69.3003 894.0568,-63.3003 894.0568,-63.3003 894.0568,-11.8997 894.0568,-11.8997 894.0568,-5.8997 900.0568,.1003 906.0568,.1003 906.0568,.1003 1009.394,.1003 1009.394,.1003 1015.394,.1003 1021.394,-5.8997 1021.394,-11.8997 1021.394,-11.8997 1021.394,-63.3003 1021.394,-63.3003 1021.394,-69.3003 1015.394,-75.3003 1009.394,-75.3003\"/>\n",
       "<text text-anchor=\"start\" x=\"925.2391\" y=\"-58.6\" font-family=\"Helvetica,sans-Serif\" font-size=\"14.00\" fill=\"#000000\">gini = 0.43</text>\n",
       "<text text-anchor=\"start\" x=\"908.1248\" y=\"-41.8\" font-family=\"Helvetica,sans-Serif\" font-size=\"14.00\" fill=\"#000000\">samples = 1159</text>\n",
       "<text text-anchor=\"start\" x=\"901.8913\" y=\"-25\" font-family=\"Helvetica,sans-Serif\" font-size=\"14.00\" fill=\"#000000\">value = [362, 797]</text>\n",
       "<text text-anchor=\"start\" x=\"911.6318\" y=\"-8.2\" font-family=\"Helvetica,sans-Serif\" font-size=\"14.00\" fill=\"#000000\">class = Default</text>\n",
       "</g>\n",
       "<!-- 12&#45;&gt;13 -->\n",
       "<g id=\"edge13\" class=\"edge\">\n",
       "<title>12&#45;&gt;13</title>\n",
       "<path fill=\"none\" stroke=\"#000000\" d=\"M957.7254,-110.9595C957.7254,-102.5477 957.7254,-93.7581 957.7254,-85.3049\"/>\n",
       "<polygon fill=\"#000000\" stroke=\"#000000\" points=\"961.2255,-85.2088 957.7254,-75.2088 954.2255,-85.2089 961.2255,-85.2088\"/>\n",
       "</g>\n",
       "<!-- 14 -->\n",
       "<g id=\"node15\" class=\"node\">\n",
       "<title>14</title>\n",
       "<path fill=\"#399de5\" fill-opacity=\"0.717647\" stroke=\"#000000\" d=\"M1155.394,-75.3003C1155.394,-75.3003 1052.0568,-75.3003 1052.0568,-75.3003 1046.0568,-75.3003 1040.0568,-69.3003 1040.0568,-63.3003 1040.0568,-63.3003 1040.0568,-11.8997 1040.0568,-11.8997 1040.0568,-5.8997 1046.0568,.1003 1052.0568,.1003 1052.0568,.1003 1155.394,.1003 1155.394,.1003 1161.394,.1003 1167.394,-5.8997 1167.394,-11.8997 1167.394,-11.8997 1167.394,-63.3003 1167.394,-63.3003 1167.394,-69.3003 1161.394,-75.3003 1155.394,-75.3003\"/>\n",
       "<text text-anchor=\"start\" x=\"1067.3478\" y=\"-58.6\" font-family=\"Helvetica,sans-Serif\" font-size=\"14.00\" fill=\"#000000\">gini = 0.342</text>\n",
       "<text text-anchor=\"start\" x=\"1058.0161\" y=\"-41.8\" font-family=\"Helvetica,sans-Serif\" font-size=\"14.00\" fill=\"#000000\">samples = 839</text>\n",
       "<text text-anchor=\"start\" x=\"1047.8913\" y=\"-25\" font-family=\"Helvetica,sans-Serif\" font-size=\"14.00\" fill=\"#000000\">value = [184, 655]</text>\n",
       "<text text-anchor=\"start\" x=\"1057.6318\" y=\"-8.2\" font-family=\"Helvetica,sans-Serif\" font-size=\"14.00\" fill=\"#000000\">class = Default</text>\n",
       "</g>\n",
       "<!-- 12&#45;&gt;14 -->\n",
       "<g id=\"edge14\" class=\"edge\">\n",
       "<title>12&#45;&gt;14</title>\n",
       "<path fill=\"none\" stroke=\"#000000\" d=\"M1014.1728,-110.9595C1025.9083,-101.346 1038.2463,-91.239 1049.8851,-81.7048\"/>\n",
       "<polygon fill=\"#000000\" stroke=\"#000000\" points=\"1052.2971,-84.2534 1057.815,-75.2088 1047.8612,-78.8383 1052.2971,-84.2534\"/>\n",
       "</g>\n",
       "</g>\n",
       "</svg>\n"
      ],
      "text/plain": [
       "<graphviz.files.Source at 0x1a209e4cf8>"
      ]
     },
     "execution_count": 109,
     "metadata": {},
     "output_type": "execute_result"
    }
   ],
   "source": [
    "import graphviz \n",
    "dot_data = tree.export_graphviz(fit, out_file=None, \n",
    "                         feature_names=X.columns,  \n",
    "                         class_names=['No Default', 'Default'],  \n",
    "                         filled=True, rounded=True,  \n",
    "                         special_characters=True)  \n",
    "graph = graphviz.Source(dot_data)  \n",
    "graph \n"
   ]
  },
  {
   "cell_type": "code",
   "execution_count": null,
   "metadata": {
    "collapsed": true
   },
   "outputs": [],
   "source": []
  }
 ],
 "metadata": {
  "kernelspec": {
   "display_name": "Python 3",
   "language": "python",
   "name": "python3"
  },
  "language_info": {
   "codemirror_mode": {
    "name": "ipython",
    "version": 3
   },
   "file_extension": ".py",
   "mimetype": "text/x-python",
   "name": "python",
   "nbconvert_exporter": "python",
   "pygments_lexer": "ipython3",
   "version": "3.6.3"
  }
 },
 "nbformat": 4,
 "nbformat_minor": 2
}
